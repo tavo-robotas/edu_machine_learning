{
 "cells": [
  {
   "cell_type": "markdown",
   "metadata": {},
   "source": [
    "## Feature selection\n",
    "\n",
    "The classes in the `sklearn.feature_selection` can be used for feature selection and dimensionality reduction on sample sets, either to improve estimator's accuracy scores or to boost their performance on very high dimensioanal datasets"
   ]
  },
  {
   "cell_type": "markdown",
   "metadata": {},
   "source": [
    "## Numerical Feature Selection\n",
    "\n",
    "There are two popular feature selection techniques that can be used for numerical input data and a numerical target variable:<br>\n",
    "  <code>**- Correlation Statistics**</code><br>\n",
    "  <code>**- Mutual Information Statistics**</code>"
   ]
  },
  {
   "cell_type": "markdown",
   "metadata": {},
   "source": [
    "### Removing features with low variance\n",
    "\n",
    "Variance threshold is a simple baseline approach to feature selection. It removes all features whose variance doens't meet some threshold. By default it removes all zero variances features, i.e features that have the same value in all samples.\n",
    "\n",
    "Sklearn provides a ton of functionality that's not just prediction. Some of the functionality is preprocessing the data. Again these are like models they can only rely on the training data but don't really predict anything. Thus they do have a `fit` method but don't have a predict method."
   ]
  },
  {
   "cell_type": "markdown",
   "metadata": {},
   "source": [
    "<div class=\"alert alert-block alert-info\">\n",
    "<h2>Variance</h2>\n",
    "    \n",
    "The <code>**average of the squared differences from the mean**</code> The variance is often used to quantify spread or dispersion. Spread is a characteristic of a sample or population that describes how much variability there is in it. A high variance tells us that the values in our dataset are far from their mean. So, our data will have high levels of variability\n",
    "    \n",
    "\\begin{multline*}\n",
    "    \\sigma^{2} = \\dfrac{1}{n}\\sum^{n-1}_{i=0}(x_{i} - \\mu)^{2}\n",
    "\\end{multline*}\n",
    "</div>"
   ]
  },
  {
   "cell_type": "code",
   "execution_count": 24,
   "metadata": {},
   "outputs": [],
   "source": [
    "results = [\n",
    "    -14.82381293, \n",
    "    -0.29423447, \n",
    "    -13.56067979, \n",
    "    -1.6288903, \n",
    "    -0.31632439,\n",
    "     0.53459687,\n",
    "    -1.34069996, \n",
    "    -1.61042692, \n",
    "    -4.03220519, \n",
    "    -0.24332097\n",
    "]"
   ]
  },
  {
   "cell_type": "code",
   "execution_count": 26,
   "metadata": {},
   "outputs": [
    {
     "name": "stdout",
     "output_type": "stream",
     "text": [
      "28.822364260579157\n"
     ]
    }
   ],
   "source": [
    "m = sum(results) / len(results)\n",
    "var = sum((xi - m) ** 2 for xi in results) / len(results) \n",
    "print(var)"
   ]
  },
  {
   "cell_type": "code",
   "execution_count": 25,
   "metadata": {},
   "outputs": [
    {
     "name": "stdout",
     "output_type": "stream",
     "text": [
      "28.822364260579157\n"
     ]
    }
   ],
   "source": [
    "import numpy as np\n",
    "print(np.var(results))"
   ]
  },
  {
   "cell_type": "code",
   "execution_count": 27,
   "metadata": {},
   "outputs": [],
   "source": [
    "import matplotlib.pyplot as plt"
   ]
  },
  {
   "cell_type": "code",
   "execution_count": 33,
   "metadata": {},
   "outputs": [],
   "source": [
    "value_avg = [np.mean(results)] * len(results)"
   ]
  },
  {
   "cell_type": "code",
   "execution_count": 60,
   "metadata": {},
   "outputs": [],
   "source": [
    "x = range(len(results))"
   ]
  },
  {
   "cell_type": "code",
   "execution_count": 59,
   "metadata": {},
   "outputs": [
    {
     "data": {
      "image/png": "[encoded data removed]",
      "text/plain": [
       "<Figure size 1152x216 with 1 Axes>"
      ]
     },
     "metadata": {
      "needs_background": "light"
     },
     "output_type": "display_data"
    }
   ],
   "source": [
    "plt.figure(figsize=(16,3))\n",
    "plt.plot(x, value_avg, color='red',  ls='--')\n",
    "plt.scatter(x, results);"
   ]
  },
  {
   "cell_type": "code",
   "execution_count": 1,
   "metadata": {},
   "outputs": [],
   "source": [
    "from sklearn.feature_selection import VarianceThreshold\n",
    "\n",
    "X = [\n",
    "    [0, 0, 1],\n",
    "    [0, 1, 0],\n",
    "    [1, 0, 0],\n",
    "    [0, 1, 1],\n",
    "    [0, 1, 0],\n",
    "    [0, 1, 1]\n",
    "]"
   ]
  },
  {
   "cell_type": "code",
   "execution_count": 61,
   "metadata": {},
   "outputs": [
    {
     "data": {
      "text/plain": [
       "0.9966613384103709"
      ]
     },
     "execution_count": 61,
     "metadata": {},
     "output_type": "execute_result"
    }
   ],
   "source": [
    "np.var(X)"
   ]
  },
  {
   "cell_type": "code",
   "execution_count": 22,
   "metadata": {},
   "outputs": [],
   "source": [
    "VarianceThreshold?"
   ]
  },
  {
   "cell_type": "code",
   "execution_count": 64,
   "metadata": {},
   "outputs": [
    {
     "data": {
      "text/plain": [
       "0.15999999999999998"
      ]
     },
     "execution_count": 64,
     "metadata": {},
     "output_type": "execute_result"
    }
   ],
   "source": [
    "thr_value = (.8 * (1 - .8))\n",
    "thr_value"
   ]
  },
  {
   "cell_type": "code",
   "execution_count": 65,
   "metadata": {},
   "outputs": [],
   "source": [
    "select = VarianceThreshold(threshold=thr_value)"
   ]
  },
  {
   "cell_type": "code",
   "execution_count": 5,
   "metadata": {},
   "outputs": [],
   "source": [
    "X_sf = select.fit_transform(X)"
   ]
  },
  {
   "cell_type": "code",
   "execution_count": 6,
   "metadata": {},
   "outputs": [
    {
     "data": {
      "text/plain": [
       "array([[0, 1],\n",
       "       [1, 0],\n",
       "       [0, 0],\n",
       "       [1, 1],\n",
       "       [1, 0],\n",
       "       [1, 1]])"
      ]
     },
     "execution_count": 6,
     "metadata": {},
     "output_type": "execute_result"
    }
   ],
   "source": [
    "X_sf"
   ]
  },
  {
   "cell_type": "markdown",
   "metadata": {},
   "source": [
    "### Univariate feature selection\n",
    "\n",
    "<code>**Univariate feature selection**</code> works by selecting the best features based on univariate statistical tests.It can be seen as a preprocessing step to an estimator.  And that test can be <code>**Correlation**</code>which is a measure of <code>**how two variables change together or are related**</code>.Perhaps the most common correlation measure is <code>**[Pearson’s correlation](https://en.wikipedia.org/wiki/Pearson_correlation_coefficient)**</code> that assumes a Gaussian distribution to each variable and reports on their linear relationship. <code>**Correlation is a tool to quantify the strength of this relationship**</code>\n",
    "\n",
    "Linear correlation scores are typically a value between -1 and 1 with 0 representing no relationship.For a <code>**single feature selection**</code>, we are often interested in a positive score with the larger the positive value, the larger the relationship, and, more likely, the feature should be selected for modeling. As such the linear correlation can be converted into a correlation statistic with only positive values.\n",
    "\n",
    "The sklearn library provides an implementation of the correlation statistic in the <i><code>**f_regression()**</code></i> function. This function makes univariate linear regression tests and returs F-statistic and p-values, to know more about these terms visit this <code>**[link](https://www.youtube.com/watch?v=Uh2ky5RXkeA)**</code> and this <code>**[link](https://www.scribbr.com/statistics/p-value/)**</code>.\n",
    "\n",
    "And this function can be used in a feature selection strategy, such as selecting the top k most relevant features (largest values) via the  <i><code>**SelectKBest**</code></i>  class. In other words the `f_regression` variable inside the `SelectKBest` constructor tells the selector that it must score the variables according to an F-score calculated starting from `Pearson’s correlation coefficient` between each feature and the target variable."
   ]
  },
  {
   "cell_type": "markdown",
   "metadata": {},
   "source": [
    "<div class=\"alert alert-block alert-info\">\n",
    "<h2>Terminology</h2>\n",
    "    \n",
    "For <code>**correlation**</code> a <code>**p-value**</code> tells us the probability that randomly drawn points will result in a similarly strong relationship or stronger. <code>**Thus the smaller the p-value the more confidence we have in the prediction**</code> we make with the line.\n",
    "</div>"
   ]
  },
  {
   "cell_type": "markdown",
   "metadata": {},
   "source": [
    "`sklearn` exposes few feature selection routines as object that implement the transform method.\n",
    " - <code>**SelectKBest**</code> removes all but the k highest scoring features\n",
    "\n",
    " - <code>**SelectPercentile**</code> removes all but a user-specified highest scoring percentage of features\n",
    "\n",
    " - <code>**GenericUnivariateSelect**</code> allows to perform univariate feature selection with a configurable strategy. This allows to select the best univariate selection strategy with hyper-parameter search estimator.\n",
    "\n",
    "Using common univariate statistical tests for each feature:\n",
    " - <code>**SelectFpr**</code> false positive rate\n",
    " - <code>**SelectFwe**</code> family wise error\n",
    " - <code>**SelectFdr**</code> false discovery rate"
   ]
  },
  {
   "cell_type": "markdown",
   "metadata": {},
   "source": [
    "In their turn these objects take as input a scoring function that returns univariate scores and p-values (or only scores for SelectKBest and SelectPercentile):"
   ]
  },
  {
   "cell_type": "markdown",
   "metadata": {},
   "source": [
    "<code>**For regression:**</code> f_regression, mutual_info_regression<br>\n",
    "<code>**For classification:**</code> chi2, f_classif, mutual_info_classif"
   ]
  },
  {
   "cell_type": "markdown",
   "metadata": {},
   "source": [
    "The methods based on F-test estimate the degree of linear dependency between two random variables. On the other hand, mutual information methods can capture any kind of statistical dependency, but being nonparametric, they require more samples for accurate estimation."
   ]
  },
  {
   "cell_type": "markdown",
   "metadata": {},
   "source": [
    "<div class=\"alert alert-danger\" role=\"alert\">\n",
    "<h2>Warning</h2>\n",
    "Beware not to use a regression scoring function with a classification problem, you will get useless results.\n",
    "</div>"
   ]
  },
  {
   "cell_type": "code",
   "execution_count": null,
   "metadata": {},
   "outputs": [],
   "source": []
  },
  {
   "cell_type": "code",
   "execution_count": 11,
   "metadata": {},
   "outputs": [],
   "source": [
    "import numpy as np\n",
    "import matplotlib.pyplot as plt"
   ]
  },
  {
   "cell_type": "code",
   "execution_count": 12,
   "metadata": {},
   "outputs": [],
   "source": [
    "from sklearn.datasets import make_regression\n",
    "from sklearn.feature_selection import SelectKBest\n",
    "from sklearn.feature_selection import f_regression\n",
    "from sklearn.feature_selection import r_regression\n",
    "from sklearn.model_selection import train_test_split"
   ]
  },
  {
   "cell_type": "code",
   "execution_count": 10,
   "metadata": {},
   "outputs": [],
   "source": [
    "f_regression?"
   ]
  },
  {
   "cell_type": "code",
   "execution_count": 14,
   "metadata": {},
   "outputs": [],
   "source": [
    "X, y = make_regression(\n",
    "    n_samples=1000, \n",
    "    n_features=100, \n",
    "    n_informative=10, \n",
    "    noise=0.1, \n",
    "    random_state=1\n",
    ")"
   ]
  },
  {
   "cell_type": "code",
   "execution_count": 15,
   "metadata": {},
   "outputs": [],
   "source": [
    "X_train, X_test, y_train, y_test = train_test_split(X, y, test_size=0.3, random_state=1)"
   ]
  },
  {
   "cell_type": "code",
   "execution_count": 16,
   "metadata": {},
   "outputs": [],
   "source": [
    "fs = SelectKBest(score_func=f_regression, k='all')"
   ]
  },
  {
   "cell_type": "code",
   "execution_count": 17,
   "metadata": {},
   "outputs": [
    {
     "data": {
      "text/plain": [
       "SelectKBest(k='all', score_func=<function f_regression at 0x10ACA4F8>)"
      ]
     },
     "execution_count": 17,
     "metadata": {},
     "output_type": "execute_result"
    }
   ],
   "source": [
    "# run score function on (X, y) and get the appropriate features.\n",
    "fs.fit(X_train, y_train)"
   ]
  },
  {
   "cell_type": "code",
   "execution_count": 18,
   "metadata": {},
   "outputs": [
    {
     "name": "stdout",
     "output_type": "stream",
     "text": [
      "Feature 0: 0.060209\n",
      "Feature 1: 0.615870\n",
      "Feature 2: 1.168582\n",
      "Feature 3: 0.029825\n",
      "Feature 4: 0.340986\n",
      "Feature 5: 5.533906\n",
      "Feature 6: 0.060202\n",
      "Feature 7: 2.203756\n",
      "Feature 8: 0.194679\n",
      "Feature 9: 111.570360\n",
      "Feature 10: 0.394140\n",
      "Feature 11: 1.472768\n",
      "Feature 12: 2.434251\n",
      "Feature 13: 0.066042\n",
      "Feature 14: 0.037625\n",
      "Feature 15: 4.226163\n",
      "Feature 16: 1.096182\n",
      "Feature 17: 0.108449\n",
      "Feature 18: 6.416253\n",
      "Feature 19: 0.683952\n",
      "Feature 20: 0.036637\n",
      "Feature 21: 0.078519\n",
      "Feature 22: 0.268654\n",
      "Feature 23: 0.618507\n",
      "Feature 24: 1.164046\n",
      "Feature 25: 0.743163\n",
      "Feature 26: 0.248131\n",
      "Feature 27: 0.419666\n",
      "Feature 28: 57.596222\n",
      "Feature 29: 0.183628\n",
      "Feature 30: 0.229114\n",
      "Feature 31: 0.448740\n",
      "Feature 32: 0.045846\n",
      "Feature 33: 0.761433\n",
      "Feature 34: 45.874840\n",
      "Feature 35: 2.337928\n",
      "Feature 36: 0.904018\n",
      "Feature 37: 1.003512\n",
      "Feature 38: 2.693478\n",
      "Feature 39: 63.088776\n",
      "Feature 40: 239.454245\n",
      "Feature 41: 0.927942\n",
      "Feature 42: 0.293314\n",
      "Feature 43: 1.184302\n",
      "Feature 44: 1.346787\n",
      "Feature 45: 0.166156\n",
      "Feature 46: 14.196243\n",
      "Feature 47: 2.716971\n",
      "Feature 48: 0.002224\n",
      "Feature 49: 0.005883\n",
      "Feature 50: 1.102207\n",
      "Feature 51: 0.158027\n",
      "Feature 52: 0.237686\n",
      "Feature 53: 0.018445\n",
      "Feature 54: 0.134243\n",
      "Feature 55: 4.040391\n",
      "Feature 56: 0.277917\n",
      "Feature 57: 0.361903\n",
      "Feature 58: 2.561281\n",
      "Feature 59: 0.318721\n",
      "Feature 60: 123.218119\n",
      "Feature 61: 2.586993\n",
      "Feature 62: 0.179298\n",
      "Feature 63: 0.856927\n",
      "Feature 64: 0.180346\n",
      "Feature 65: 2.960106\n",
      "Feature 66: 0.074196\n",
      "Feature 67: 1.035393\n",
      "Feature 68: 0.012338\n",
      "Feature 69: 0.714515\n",
      "Feature 70: 0.034600\n",
      "Feature 71: 0.048447\n",
      "Feature 72: 0.180487\n",
      "Feature 73: 0.851264\n",
      "Feature 74: 0.514614\n",
      "Feature 75: 0.498073\n",
      "Feature 76: 0.509086\n",
      "Feature 77: 0.000382\n",
      "Feature 78: 1.549614\n",
      "Feature 79: 1.621122\n",
      "Feature 80: 4.756427\n",
      "Feature 81: 0.000783\n",
      "Feature 82: 4.794936\n",
      "Feature 83: 0.308895\n",
      "Feature 84: 6.043744\n",
      "Feature 85: 0.011738\n",
      "Feature 86: 0.049024\n",
      "Feature 87: 0.343562\n",
      "Feature 88: 2.408949\n",
      "Feature 89: 7.105507\n",
      "Feature 90: 0.500098\n",
      "Feature 91: 0.117875\n",
      "Feature 92: 208.734136\n",
      "Feature 93: 0.182445\n",
      "Feature 94: 1.334903\n",
      "Feature 95: 0.007937\n",
      "Feature 96: 0.154662\n",
      "Feature 97: 0.006495\n",
      "Feature 98: 0.673793\n",
      "Feature 99: 0.000014\n"
     ]
    }
   ],
   "source": [
    "for i in range(len(fs.scores_)):\n",
    "    print('Feature %d: %f' % (i, fs.scores_[i]))"
   ]
  },
  {
   "cell_type": "code",
   "execution_count": 19,
   "metadata": {},
   "outputs": [
    {
     "data": {
      "image/png": "[encoded data removed]",
      "text/plain": [
       "<Figure size 1296x432 with 1 Axes>"
      ]
     },
     "metadata": {
      "needs_background": "light"
     },
     "output_type": "display_data"
    }
   ],
   "source": [
    "plt.figure(figsize=(18,6))\n",
    "plt.xticks(ticks=np.linspace(0, 110, num=22, endpoint=False))\n",
    "plt.bar([i for i in range(len(fs.scores_))], fs.scores_)\n",
    "plt.show()"
   ]
  },
  {
   "cell_type": "markdown",
   "metadata": {},
   "source": [
    "The plot clearly shows that 8 features are a lot more important than the other features. We could set k=8 When configuring the SelectKBest to select these top features."
   ]
  },
  {
   "cell_type": "code",
   "execution_count": 20,
   "metadata": {},
   "outputs": [],
   "source": [
    " X_new = SelectKBest(score_func=f_regression).fit_transform(X, y)"
   ]
  },
  {
   "cell_type": "code",
   "execution_count": 21,
   "metadata": {},
   "outputs": [
    {
     "data": {
      "text/plain": [
       "(1000, 10)"
      ]
     },
     "execution_count": 21,
     "metadata": {},
     "output_type": "execute_result"
    }
   ],
   "source": [
    "X_new.shape"
   ]
  },
  {
   "cell_type": "code",
   "execution_count": null,
   "metadata": {},
   "outputs": [],
   "source": []
  },
  {
   "cell_type": "markdown",
   "metadata": {},
   "source": [
    "### Mutual Information Feature Selection"
   ]
  },
  {
   "cell_type": "markdown",
   "metadata": {},
   "source": [
    "Mutual information from the field of [information theory](https://www.youtube.com/watch?v=d9alWZRzBWk) is the application of information gain (typically used in the construction of decision trees) to feature selection. Mutual information is calculated between <code>**two variables and measures the reduction in uncertainty for one variable given a known value of the other variable.**</code>"
   ]
  },
  {
   "cell_type": "code",
   "execution_count": null,
   "metadata": {},
   "outputs": [],
   "source": []
  },
  {
   "cell_type": "code",
   "execution_count": null,
   "metadata": {},
   "outputs": [],
   "source": []
  },
  {
   "cell_type": "markdown",
   "metadata": {},
   "source": [
    "### Recursive feature elimination"
   ]
  },
  {
   "cell_type": "markdown",
   "metadata": {},
   "source": [
    "Given an external estimator that assigns weights to features (e.g., the coefficients of a linear model), recursive feature elimination <code>**(RFE)**</code> is to select features by recursively considering smaller and smaller sets of features. First, the estimator is trained on the initial set of features and weights are assigned to each one of them. Then, features whose absolute weights are the smallest are pruned from the current set features. That procedure is recursively repeated on the pruned set until the desired number of features to select is eventually reached.\n",
    "\n",
    "So it is very important to normalize these features in linear models!"
   ]
  },
  {
   "cell_type": "code",
   "execution_count": null,
   "metadata": {},
   "outputs": [],
   "source": []
  },
  {
   "cell_type": "code",
   "execution_count": null,
   "metadata": {},
   "outputs": [],
   "source": []
  },
  {
   "cell_type": "code",
   "execution_count": null,
   "metadata": {},
   "outputs": [],
   "source": []
  },
  {
   "cell_type": "markdown",
   "metadata": {},
   "source": [
    "### Feature selection using SelectFromModel"
   ]
  },
  {
   "cell_type": "markdown",
   "metadata": {},
   "source": [
    "SelectFromModel is a meta-transformer that can be used along with any estimator that has a coef_ or feature importances attribute after fitting. The features are considered unimportant and removed, if the corresponding coef_ or featureimportances values are below the provided threshold parameter. Apart from specifying the threshold numerically, there are built-in heuristics for finding a threshold using a string argument. Available heuristics are “mean”, “median” and float multiples of these like “0.1*mean”.\n",
    "\n",
    "For examples on how it is to be used refer to the sections below."
   ]
  },
  {
   "cell_type": "code",
   "execution_count": null,
   "metadata": {},
   "outputs": [],
   "source": []
  }
 ],
 "metadata": {
  "kernelspec": {
   "display_name": "Python 3.7.4 32-bit",
   "language": "python",
   "name": "python37432bitc856d1d617f0478da8cbf97a005d9730"
  },
  "language_info": {
   "codemirror_mode": {
    "name": "ipython",
    "version": 3
   },
   "file_extension": ".py",
   "mimetype": "text/x-python",
   "name": "python",
   "nbconvert_exporter": "python",
   "pygments_lexer": "ipython3",
   "version": "3.7.4"
  }
 },
 "nbformat": 4,
 "nbformat_minor": 4
}
