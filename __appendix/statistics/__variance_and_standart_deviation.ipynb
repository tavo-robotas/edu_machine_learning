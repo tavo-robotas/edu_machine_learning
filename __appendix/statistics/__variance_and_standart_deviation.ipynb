{
 "cells": [
  {
   "cell_type": "markdown",
   "metadata": {},
   "source": [
    "# General variance\n"
   ]
  },
  {
   "cell_type": "code",
   "execution_count": null,
   "metadata": {},
   "outputs": [],
   "source": []
  },
  {
   "cell_type": "markdown",
   "metadata": {},
   "source": [
    "# General Standard deviation"
   ]
  },
  {
   "cell_type": "code",
   "execution_count": null,
   "metadata": {},
   "outputs": [],
   "source": []
  },
  {
   "cell_type": "markdown",
   "metadata": {},
   "source": [
    "## In finance\n",
    "\n",
    "### Variance"
   ]
  },
  {
   "cell_type": "markdown",
   "metadata": {},
   "source": [
    "<code>**Risk is a measure of the variability of return**</code>. Variance and Standard deviation allow us to quitify risk.<br>\n",
    "\n",
    "<code>**Variance is a measure of how spread out a data set is**</code>. It is calculated as the average squared deviation of each number from them mean of a data set. It equals the sum of the squares of the difference between each data point and the mean divided bu the number of data points minus 1.\n",
    "\n",
    "\\begin{multline*}\n",
    "s^{2} = \\dfrac{\\sum(x-\\hat{x})^{2}}{N-1}\n",
    "\\end{multline*}\n",
    "\n",
    "\n"
   ]
  },
  {
   "cell_type": "markdown",
   "metadata": {},
   "source": [
    "Example: if we have 3 annual returns of 23%, -8%, 15%. The mean return is 10%:\n",
    " - (23 - 10)**2 = 169\n",
    " - (-8 - 10)**2 = 324\n",
    " - (15 - 10)**2 = 25<br>\n",
    " \n",
    " = **169 + 324 + 25 = 518/(3 - 1) = 259 = 2.59**"
   ]
  },
  {
   "cell_type": "markdown",
   "metadata": {},
   "source": [
    "________________________________"
   ]
  },
  {
   "cell_type": "markdown",
   "metadata": {},
   "source": [
    "### Stadard deviation\n",
    "\n",
    "<code>**Standard deviation is a measure of the amount of variation within a set of values.**</code>. A low standard deviation indicates that the values tend to be close to the mean. A high standard deviation means values are more spread out. To get the Standard deviation find the <code>**square root of the variance**</code>\n",
    "\n",
    "\\begin{multline*}\n",
    "\\sqrt{s^{2}} = \\sqrt{2.59} = 1.609\n",
    "\\end{multline*}"
   ]
  },
  {
   "cell_type": "code",
   "execution_count": null,
   "metadata": {},
   "outputs": [],
   "source": []
  }
 ],
 "metadata": {
  "kernelspec": {
   "display_name": "Python 3.7.4 32-bit",
   "language": "python",
   "name": "python37432bitc856d1d617f0478da8cbf97a005d9730"
  },
  "language_info": {
   "codemirror_mode": {
    "name": "ipython",
    "version": 3
   },
   "file_extension": ".py",
   "mimetype": "text/x-python",
   "name": "python",
   "nbconvert_exporter": "python",
   "pygments_lexer": "ipython3",
   "version": "3.7.4"
  }
 },
 "nbformat": 4,
 "nbformat_minor": 4
}
