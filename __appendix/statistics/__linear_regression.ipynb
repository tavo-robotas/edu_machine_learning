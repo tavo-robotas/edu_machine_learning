{
 "cells": [
  {
   "cell_type": "markdown",
   "metadata": {},
   "source": [
    "# Linear regression\n"
   ]
  },
  {
   "cell_type": "markdown",
   "metadata": {},
   "source": [
    "## Outline\n",
    "\n",
    "<code>**1 degree polynomial , line**</code>:\n",
    "\\begin{multline*}\n",
    "y = mx + b\n",
    "\\end{multline*}\n",
    "\n",
    "<code>**m slope**</code>:\n",
    "\\begin{multline*}\n",
    "m = \\dfrac{\\overline{x} \\ \\overline{y} - \\overline{xy}}{(\\overline{x})^2 - \\overline{x^2}}\n",
    "\\end{multline*}\n",
    "\n",
    "<code>**b intersept**</code>:\n",
    "\\begin{multline*}\n",
    "b = \\overline{y} - m\\overline{x}\n",
    "\\end{multline*}"
   ]
  },
  {
   "cell_type": "code",
   "execution_count": 6,
   "metadata": {},
   "outputs": [],
   "source": [
    "import random\n",
    "import numpy as np\n",
    "from statistics import mean\n",
    "from matplotlib import pyplot as plt"
   ]
  },
  {
   "cell_type": "code",
   "execution_count": 79,
   "metadata": {},
   "outputs": [
    {
     "data": {
      "text/plain": [
       "<matplotlib.collections.PathCollection at 0x12390670>"
      ]
     },
     "execution_count": 79,
     "metadata": {},
     "output_type": "execute_result"
    },
    {
     "data": {
      "image/png": "[encoded data removed]",
      "text/plain": [
       "<Figure size 432x288 with 1 Axes>"
      ]
     },
     "metadata": {
      "needs_background": "light"
     },
     "output_type": "display_data"
    }
   ],
   "source": [
    "xs  = np.arange(-5, 5, 0.5) \n",
    "ys  = 1*(xs)  + 1*np.random.normal(size=len(xs))   \n",
    "\n",
    "# xs = np.array([1,2,3,4,5,6], dtype=np.float64)\n",
    "# ys = np.array([5,4,6,5,6,7], dtype=np.float64)\n",
    "plt.scatter(xs, ys)\n",
    "\n",
    "def best_fit(xs, ys):\n",
    "    m = ((mean(xs) * mean(ys)) - mean(xs*ys)) / (mean(xs)**2 - mean(xs**2))\n",
    "    b = mean(ys) - m*mean(xs)\n",
    "    return m, b\n",
    "    # PEMDAS\n",
    "    # ----------------\n",
    "    # P parentheses\n",
    "    # E exponents\n",
    "    # M multiplication\n",
    "    # D division\n",
    "    # A addition\n",
    "    # S substraction \n",
    "m, b = best_fit(xs, ys)\n",
    "line = [(m*x) + b for x in xs]\n",
    "plt.plot(xs, line , c='r')\n",
    "\n",
    "def predict(x):\n",
    "    return m*x + b\n",
    "x = 8\n",
    "y = predict(x)\n",
    "plt.scatter(x,y, c='y')"
   ]
  },
  {
   "cell_type": "markdown",
   "metadata": {},
   "source": [
    "## The accuracy of fit line\n",
    "\n",
    "Right now, we can easily look at the data and decide how accurate the regression line.However, when your linear regression model is applied within <code>**20 hierarchical layers**</code> in a neural network its not going to be so obvious. And not only this but your model works in steps of say 100 data points at a time, within a dataset of 5 million datapoints. You're going to need some sort of automated way of discovering how good your best fit line actually is.<br>\n",
    "\n",
    "<code>**R squared - coefficient of determination theory**</code><br>\n",
    "Model can have a prediction and prediction can have certain accuracy and confidence.\n",
    "<br>\n",
    "To determine this accuracy we have to calculate coefficient of determination and thats done by using squared error.\n",
    "Basically squared error is the squared distance between the point and the best fit line. We are squaring it because the distance can be negative and postive depending on the line and point that we are measuring. And we use square and not  absolute value to eliminate the effect of outliers (points that happend to be very far away from best fit line). And we have to penalize for outliers and we can raise our residuals even by 4, 6 and forth on but the standart is 2. "
   ]
  },
  {
   "cell_type": "markdown",
   "metadata": {},
   "source": [
    "## Outline\n",
    "\n",
    "<code>**R²**</code>:\n",
    "\\begin{multline*}\n",
    "r^2 = 1 - \\dfrac{SE\\hat{y}}{SE \\ \\overline{y}}\n",
    "\\end{multline*}"
   ]
  },
  {
   "cell_type": "markdown",
   "metadata": {},
   "source": [
    "Let's calculate it in Python"
   ]
  },
  {
   "cell_type": "code",
   "execution_count": 13,
   "metadata": {},
   "outputs": [
    {
     "data": {
      "text/plain": [
       "0.4508983016758591"
      ]
     },
     "execution_count": 13,
     "metadata": {},
     "output_type": "execute_result"
    }
   ],
   "source": [
    "def se(ys, line):\n",
    "    return sum((line - ys)**2)\n",
    "\n",
    "def coefficient_of_determination(ys,line):\n",
    "    y_mean_line = [mean(ys) for y in ys]\n",
    "    squared_error_regr = se(ys, line)\n",
    "    squared_error_y_mean = se(ys, y_mean_line)\n",
    "    return 1 - (squared_error_regr/squared_error_y_mean)\n",
    "\n",
    "rsq = coefficient_of_determination(ys,line)\n",
    "rsq"
   ]
  },
  {
   "cell_type": "code",
   "execution_count": 31,
   "metadata": {},
   "outputs": [],
   "source": [
    "def create_dataset(size, var, step=2, cor=False):\n",
    "    ys  = []\n",
    "    val = 1\n",
    "    for i in range(size):\n",
    "        y = val + random.randrange(-var, var)\n",
    "        ys.append(y)\n",
    "        if cor and cor == True:\n",
    "            val +=step\n",
    "        elif cor and cor == False:\n",
    "            val -=step\n",
    "    xs = [i for i in range(len(ys))]\n",
    "    \n",
    "    return np.array(xs, dtype=np.float64), np.array(ys, dtype=np.float64)"
   ]
  },
  {
   "cell_type": "code",
   "execution_count": 34,
   "metadata": {},
   "outputs": [
    {
     "name": "stdout",
     "output_type": "stream",
     "text": [
      "rsq: 0.8203051746268796\n"
     ]
    },
    {
     "data": {
      "text/plain": [
       "<matplotlib.collections.PathCollection at 0x10d770b0>"
      ]
     },
     "execution_count": 34,
     "metadata": {},
     "output_type": "execute_result"
    },
    {
     "data": {
      "image/png": "[encoded data removed]",
      "text/plain": [
       "<Figure size 432x288 with 1 Axes>"
      ]
     },
     "metadata": {
      "needs_background": "light"
     },
     "output_type": "display_data"
    }
   ],
   "source": [
    "xs, ys = create_dataset(40, 20, 2, cor=True)\n",
    "def best_fit(xs, ys):\n",
    "    m = ((mean(xs) * mean(ys)) - mean(xs*ys)) / (mean(xs)**2 - mean(xs**2))\n",
    "    b = mean(ys) - m*mean(xs)\n",
    "    return m, b\n",
    "    # PEMDAS\n",
    "    # ----------------\n",
    "    # P parentheses\n",
    "    # E exponents\n",
    "    # M multiplication\n",
    "    # D division\n",
    "    # A addition\n",
    "    # S substraction \n",
    "m, b = best_fit(xs, ys)\n",
    "line = [(m*x) + b for x in xs]\n",
    "plt.plot(xs, line , c='r')\n",
    "\n",
    "def predict(x):\n",
    "    return m*x + b\n",
    "x = 8\n",
    "y = predict(x)\n",
    "rsq = coefficient_of_determination(ys,line)\n",
    "print(f'rsq: {rsq}')\n",
    "plt.scatter(xs,ys, c='y')\n",
    "plt.scatter(x, y, s=100, c='b')"
   ]
  },
  {
   "cell_type": "code",
   "execution_count": null,
   "metadata": {},
   "outputs": [],
   "source": []
  }
 ],
 "metadata": {
  "kernelspec": {
   "display_name": "Python 3.7.4 32-bit",
   "language": "python",
   "name": "python37432bitc856d1d617f0478da8cbf97a005d9730"
  },
  "language_info": {
   "codemirror_mode": {
    "name": "ipython",
    "version": 3
   },
   "file_extension": ".py",
   "mimetype": "text/x-python",
   "name": "python",
   "nbconvert_exporter": "python",
   "pygments_lexer": "ipython3",
   "version": "3.7.4"
  }
 },
 "nbformat": 4,
 "nbformat_minor": 4
}
