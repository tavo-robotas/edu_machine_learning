{
 "cells": [
  {
   "cell_type": "markdown",
   "metadata": {},
   "source": [
    "# NB - Naive Bayes algorithm"
   ]
  },
  {
   "cell_type": "markdown",
   "metadata": {},
   "source": [
    "## Bayes Theorem\n",
    "\n",
    "In probability theory and statistics , Bayes' theorem descirbes the probability of an event, based on conditions that migh be related to the event. Bayes Theorem allows us to use previously known informatiom to asses likelihood of another related event.\n",
    "\n",
    "Usually Bayes theorem is  displayed in of two ways <code>**both are the same**</code>:\n",
    "\n",
    "\\begin{multline*}\n",
    "P(A|B) = \\dfrac{P(B|A)P(A)}{P(B)}\n",
    "\\end{multline*}\n",
    "\n",
    "\\begin{multline*}\n",
    "P(A|B) = \\dfrac{P(B|A)P(A)}{P(B|A)P(A) + P(B|\\text{not} \\ A)P(\\text{not} \\ A)}\n",
    "\\end{multline*}"
   ]
  },
  {
   "cell_type": "markdown",
   "metadata": {},
   "source": [
    "Here <code>**P(A|B)**</code> stands for the probability that A happened given B has occured. These are both the same, in the second case we would use this form if we don't directly have the probability of B occuring on its own."
   ]
  },
  {
   "cell_type": "markdown",
   "metadata": {},
   "source": [
    "## Example problem"
   ]
  },
  {
   "cell_type": "markdown",
   "metadata": {},
   "source": [
    "This is a classic example of Bayes Theorem:<br>\n",
    "\n",
    "We have a test to screen for breast cancer, with the following conditions:\n",
    " * 1% of womenn have breast cancer\n",
    " * 80% of mammograms detect breast cancer when it is there\n",
    " * 9.6 % of mammograms detect breast cancer when it is <code>**not there (false positive)**</code>"
   ]
  },
  {
   "cell_type": "markdown",
   "metadata": {},
   "source": [
    "We could assign the probabilities to the sample space by using a table:<br>\n",
    "<table>\n",
    "    <tr>\n",
    "        <td>\n",
    "        </td>\n",
    "        <td>Cancer (1%)</td>\n",
    "        <td>No Cancer (99%)</td>\n",
    "    </tr>\n",
    "    <tr>\n",
    "        <td>Tested Positive</td>\n",
    "        <td>80%</td>\n",
    "        <td>9.6%</td>\n",
    "    </tr>\n",
    "    <tr>\n",
    "        <td>Tested Negative</td>\n",
    "        <td>20%</td>\n",
    "        <td>90.4%</td>\n",
    "    </tr>\n",
    "</table>"
   ]
  },
  {
   "cell_type": "markdown",
   "metadata": {},
   "source": [
    "Now let's say we wanted to <code>**know how accurate this test is?**</code> If someone went to go get the test and had a positive result, what is the probability that they have breast cancer ?<br>\n",
    "\n",
    "We can first visualize Bayes Theorem by filling out the table:<br>\n",
    "\n",
    "<table>\n",
    "    <tr>\n",
    "        <td></td>\n",
    "        <td>Cancer (1%)</td>\n",
    "        <td>No Cancer (99%)</td>\n",
    "    </tr>\n",
    "    <tr>\n",
    "        <td>Tested Positive</td>\n",
    "        <td>True Positive: 1%  × 80%</td>\n",
    "        <td>False Positive: 99%  ×  9.6%</td>\n",
    "    </tr>\n",
    "    <tr>\n",
    "        <td>Tested Negative</td>\n",
    "        <td>False Negative: 1%  × 20%</td>\n",
    "        <td>True Negative: 99%  × 90.4%</td>\n",
    "    </tr>\n",
    "</table>"
   ]
  },
  {
   "cell_type": "markdown",
   "metadata": {},
   "source": [
    "Remember that the probability of an event occuring is the number of ways it could happen given all possible outcomes:\n",
    "\n",
    "$$\\text{Probability} = \\dfrac{\\text{Desired event}}{\\text{All possibilities}}$$"
   ]
  },
  {
   "cell_type": "markdown",
   "metadata": {},
   "source": [
    "Then the probability of getting <code>**a real, positive result**</code> is:  <code>**0.01 x 0.8 = 0.008**</code> <br>\n",
    "1/100     = 0.01 <br>\n",
    "0.01 * 80 = 0.8  <br>\n",
    "<br>\n",
    "Chance of getting any type of positive result which is the chance of a <code>**true positive**</code> plus the chance of a <code>**false positive**</code> which is <code>**(0.008 + 0.09504 = 0.10304)**</code><br>\n",
    "So our probability of real cancer is <code>**0.08/0.10304 = 0.0776, or 7.8%**</code>"
   ]
  },
  {
   "cell_type": "markdown",
   "metadata": {},
   "source": [
    "This means that a positive mammogram result in only a 7.8% chance of cancer, rather than 80% (the supposed accuracy of the test). This might seem counter intuotive at first but it makes sense. The test gives a false positive ~ 10% of the time, so there will be a ton of false positivies in any given population. There will be so many false positives, in fact, that most of the positive test result will be wrong."
   ]
  },
  {
   "cell_type": "markdown",
   "metadata": {},
   "source": [
    "Lets turn above process into the Bayes Theorem equation. We will plug in the information we do know in the second equation.\n",
    "\n",
    "\\begin{multline*}\n",
    "P(A|B) = \\dfrac{P(B|A)P(A)}{P(B|A)P(A) + P(B|\\text{not} \\ A)P(\\text{not} \\ A)}\n",
    "\\end{multline*}"
   ]
  },
  {
   "cell_type": "markdown",
   "metadata": {},
   "source": [
    "Looking back on the infomration we were given:\n",
    " * <code>**P(A | B) is chance of having cancer (A) given a positive test (B)**</code>. This is the desired information: How likely is it to have cancer with a positive result ? We have already solved it ising the table, so let's see if the equation agress with our result <code>**7.8%**</code>.\n",
    " *  <code>**P(B | A) is a chance of positive test (B) given that you had cancer (A)**</code>. This is the chance of a true positive, 80% in this case \n",
    " * <code>**P(A)**</code> is chance of having cancer (1%).\n",
    " * <code>**P(not A)**</code> is chance of not having cancer (99%).\n",
    " * <code>**P(B | not A)**</code> is chance of positive test (B) given that you didn't have cancer (not A). This is a false positive, 9.6% in our case."
   ]
  },
  {
   "cell_type": "markdown",
   "metadata": {},
   "source": [
    "\\begin{multline*}\n",
    "P(A|B) = \\dfrac{0.8 \\times 0.01}{0.8 \\times 0.01 + 0.096 \\times 0.99} = \\dfrac{0.008}{0.008 + 0.09504} = \\dfrac{0.008}{0.10304} = 0.0776 \\times 100\\text{%} \\approx 7.8\\text{%}\n",
    "\\end{multline*}"
   ]
  },
  {
   "cell_type": "markdown",
   "metadata": {},
   "source": []
  }
 ],
 "metadata": {
  "kernelspec": {
   "display_name": "Python 3.7.4 32-bit",
   "language": "python",
   "name": "python37432bitc856d1d617f0478da8cbf97a005d9730"
  },
  "language_info": {
   "codemirror_mode": {
    "name": "ipython",
    "version": 3
   },
   "file_extension": ".py",
   "mimetype": "text/x-python",
   "name": "python",
   "nbconvert_exporter": "python",
   "pygments_lexer": "ipython3",
   "version": "3.7.4"
  }
 },
 "nbformat": 4,
 "nbformat_minor": 4
}
