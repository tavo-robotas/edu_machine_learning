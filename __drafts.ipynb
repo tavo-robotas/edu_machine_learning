{
 "cells": [
  {
   "cell_type": "code",
   "execution_count": 2,
   "metadata": {},
   "outputs": [
    {
     "data": {
      "text/plain": [
       "<function matplotlib.pyplot.show(*args, **kw)>"
      ]
     },
     "execution_count": 2,
     "metadata": {},
     "output_type": "execute_result"
    },
    {
     "data": {
      "image/png": "[encoded data removed]",
      "text/plain": [
       "<Figure size 432x288 with 1 Axes>"
      ]
     },
     "metadata": {
      "needs_background": "light"
     },
     "output_type": "display_data"
    }
   ],
   "source": [
    "%matplotlib inline\n",
    "import numpy as np\n",
    "import matplotlib.pyplot as plt\n",
    "\n",
    "N = 10\n",
    "y = np.zeros(N)\n",
    "x1 = np.linspace(0, 10, N)\n",
    "x2 = np.linspace(0,10,N, endpoint=False)\n",
    "plt.ylim(-0.5, 1)\n",
    "plt.plot(x1, y, ':')\n",
    "plt.plot(x2, y + 0.5, 'o')\n",
    "plt.show"
   ]
  },
  {
   "cell_type": "code",
   "execution_count": 94,
   "metadata": {},
   "outputs": [
    {
     "data": {
      "text/plain": [
       "(100, 1)"
      ]
     },
     "execution_count": 94,
     "metadata": {},
     "output_type": "execute_result"
    }
   ],
   "source": [
    "import numpy as np\n",
    "import matplotlib.pyplot as plt\n",
    "\n",
    "data = np.genfromtxt('./data_samples/SLRM/toy_data.csv', delimiter=',')\n",
    "X = data[:,0].reshape(-1,1)\n",
    "X.shape"
   ]
  },
  {
   "cell_type": "code",
   "execution_count": 95,
   "metadata": {},
   "outputs": [],
   "source": [
    "ones = np.ones([X.shape[0], 1])\n",
    "X = np.concatenate([ones, X], 1)\n",
    "y = data[:,1].reshape(-1,1)"
   ]
  },
  {
   "cell_type": "code",
   "execution_count": 96,
   "metadata": {},
   "outputs": [
    {
     "data": {
      "image/png": "[encoded data removed]",
      "text/plain": [
       "<Figure size 432x288 with 1 Axes>"
      ]
     },
     "metadata": {
      "needs_background": "light"
     },
     "output_type": "display_data"
    }
   ],
   "source": [
    "plt.scatter(data[:, 0].reshape(-1,1), y)\n",
    "plt.show()"
   ]
  },
  {
   "cell_type": "code",
   "execution_count": 127,
   "metadata": {},
   "outputs": [],
   "source": [
    "alpha = 0.0001\n",
    "iters = 10000\n",
    "theta = np.array([[1.0, 1.0]])"
   ]
  },
  {
   "cell_type": "code",
   "execution_count": 90,
   "metadata": {},
   "outputs": [
    {
     "data": {
      "text/plain": [
       "(1, 2)"
      ]
     },
     "execution_count": 90,
     "metadata": {},
     "output_type": "execute_result"
    }
   ],
   "source": [
    "theta.shape"
   ]
  },
  {
   "cell_type": "code",
   "execution_count": 89,
   "metadata": {},
   "outputs": [
    {
     "data": {
      "text/plain": [
       "(2, 1)"
      ]
     },
     "execution_count": 89,
     "metadata": {},
     "output_type": "execute_result"
    }
   ],
   "source": [
    "theta.T.shape"
   ]
  },
  {
   "cell_type": "code",
   "execution_count": 91,
   "metadata": {},
   "outputs": [
    {
     "data": {
      "text/plain": [
       "(100, 3)"
      ]
     },
     "execution_count": 91,
     "metadata": {},
     "output_type": "execute_result"
    }
   ],
   "source": [
    "X.shape"
   ]
  },
  {
   "cell_type": "code",
   "execution_count": 112,
   "metadata": {},
   "outputs": [],
   "source": [
    "def cost(X,y, theta):\n",
    "    error = np.power(((X @ theta.T) - y) , 2)\n",
    "    return np.sum(error) / (2*len(X))"
   ]
  },
  {
   "cell_type": "code",
   "execution_count": 113,
   "metadata": {},
   "outputs": [
    {
     "data": {
      "text/plain": [
       "319.40631589398157"
      ]
     },
     "execution_count": 113,
     "metadata": {},
     "output_type": "execute_result"
    }
   ],
   "source": [
    "cost(X,y,theta)"
   ]
  },
  {
   "cell_type": "code",
   "execution_count": 136,
   "metadata": {},
   "outputs": [],
   "source": [
    "def gd(X,y,theta,alpha,iters):\n",
    "    for i in range(iters):\n",
    "        theta = theta - (alpha/len(X)) * np.sum((X @ theta.T -y) * X, axis=0)\n",
    "        c = cost(X,y,theta)\n",
    "#         if i % 100 == 0:\n",
    "#             print(c)\n",
    "    return theta, c"
   ]
  },
  {
   "cell_type": "code",
   "execution_count": 137,
   "metadata": {},
   "outputs": [
    {
     "name": "stdout",
     "output_type": "stream",
     "text": [
      "[[1.26761621 1.4545775 ]] 55.981994934756045\n"
     ]
    }
   ],
   "source": [
    "g, c = gd(X,y,theta,alpha, iters)\n",
    "print(g,c)"
   ]
  },
  {
   "cell_type": "code",
   "execution_count": 138,
   "metadata": {},
   "outputs": [
    {
     "data": {
      "image/png": "[encoded data removed]",
      "text/plain": [
       "<Figure size 432x288 with 1 Axes>"
      ]
     },
     "metadata": {
      "needs_background": "light"
     },
     "output_type": "display_data"
    }
   ],
   "source": [
    "plt.scatter(data[:,0].reshape(-1,1), y)\n",
    "axes = plt.gca()\n",
    "x_vals = np.array(axes.get_xlim())\n",
    "y_vals = g[0][0] + g[0][1] *x_vals\n",
    "plt.plot(x_vals,y_vals, '--')\n",
    "plt.show()"
   ]
  },
  {
   "cell_type": "code",
   "execution_count": 3,
   "metadata": {},
   "outputs": [
    {
     "data": {
      "text/plain": [
       "(3, 4)"
      ]
     },
     "execution_count": 3,
     "metadata": {},
     "output_type": "execute_result"
    }
   ],
   "source": [
    "a = np.array([\n",
    "    [1, 2, 3, 4],\n",
    "    [5, 6, 7, 8],\n",
    "    [9, 10, 11, 12]\n",
    "])\n",
    "a.shape\n"
   ]
  },
  {
   "cell_type": "code",
   "execution_count": 19,
   "metadata": {},
   "outputs": [
    {
     "data": {
      "text/plain": [
       "array([[ 1,  2,  3,  4],\n",
       "       [ 5,  6,  7,  8],\n",
       "       [ 9, 10, 11, 12]])"
      ]
     },
     "execution_count": 19,
     "metadata": {},
     "output_type": "execute_result"
    }
   ],
   "source": [
    "b = a.reshape(-1)\n",
    "a"
   ]
  },
  {
   "cell_type": "code",
   "execution_count": 20,
   "metadata": {},
   "outputs": [
    {
     "data": {
      "text/plain": [
       "array([ 1,  2,  3,  4,  5,  6,  7,  8,  9, 10, 11, 12])"
      ]
     },
     "execution_count": 20,
     "metadata": {},
     "output_type": "execute_result"
    }
   ],
   "source": [
    "b"
   ]
  },
  {
   "cell_type": "code",
   "execution_count": 21,
   "metadata": {},
   "outputs": [
    {
     "data": {
      "text/plain": [
       "array([[ 1,  2,  3,  4,  5,  6,  7,  8,  9, 10, 11, 12]])"
      ]
     },
     "execution_count": 21,
     "metadata": {},
     "output_type": "execute_result"
    }
   ],
   "source": [
    "d = b.reshape(1,-1)\n",
    "d"
   ]
  },
  {
   "cell_type": "code",
   "execution_count": 22,
   "metadata": {},
   "outputs": [
    {
     "data": {
      "text/plain": [
       "(1, 12)"
      ]
     },
     "execution_count": 22,
     "metadata": {},
     "output_type": "execute_result"
    }
   ],
   "source": [
    "d.shape"
   ]
  },
  {
   "cell_type": "code",
   "execution_count": 23,
   "metadata": {},
   "outputs": [
    {
     "data": {
      "text/plain": [
       "(12,)"
      ]
     },
     "execution_count": 23,
     "metadata": {},
     "output_type": "execute_result"
    }
   ],
   "source": [
    "b.shape"
   ]
  },
  {
   "cell_type": "code",
   "execution_count": 24,
   "metadata": {},
   "outputs": [
    {
     "data": {
      "text/plain": [
       "array([ 1,  2,  3,  4,  5,  6,  7,  8,  9, 10, 11, 12])"
      ]
     },
     "execution_count": 24,
     "metadata": {},
     "output_type": "execute_result"
    }
   ],
   "source": [
    "b"
   ]
  },
  {
   "cell_type": "code",
   "execution_count": 27,
   "metadata": {},
   "outputs": [
    {
     "data": {
      "text/plain": [
       "array([[ 1,  2,  3,  4],\n",
       "       [ 5,  6,  7,  8],\n",
       "       [ 9, 10, 11, 12]])"
      ]
     },
     "execution_count": 27,
     "metadata": {},
     "output_type": "execute_result"
    }
   ],
   "source": [
    "a"
   ]
  },
  {
   "cell_type": "code",
   "execution_count": 77,
   "metadata": {},
   "outputs": [],
   "source": [
    "a = np.array([\n",
    "    [1, 2, 3], \n",
    "    [4, 5, 6]\n",
    "])\n",
    "b = np.array([\n",
    "    [7, 8, 9],\n",
    "    [10, 11, 12]\n",
    "])"
   ]
  },
  {
   "cell_type": "code",
   "execution_count": 79,
   "metadata": {},
   "outputs": [
    {
     "data": {
      "text/plain": [
       "array([[ 1,  2,  3],\n",
       "       [ 4,  5,  6],\n",
       "       [ 7,  8,  9],\n",
       "       [10, 11, 12]])"
      ]
     },
     "execution_count": 79,
     "metadata": {},
     "output_type": "execute_result"
    }
   ],
   "source": [
    "np.concatenate((a, b), axis=0)"
   ]
  },
  {
   "cell_type": "code",
   "execution_count": 80,
   "metadata": {},
   "outputs": [],
   "source": [
    "x1 = range(6)"
   ]
  },
  {
   "cell_type": "code",
   "execution_count": 81,
   "metadata": {},
   "outputs": [
    {
     "data": {
      "text/plain": [
       "range(0, 6)"
      ]
     },
     "execution_count": 81,
     "metadata": {},
     "output_type": "execute_result"
    }
   ],
   "source": [
    "x1"
   ]
  },
  {
   "cell_type": "code",
   "execution_count": 84,
   "metadata": {},
   "outputs": [
    {
     "data": {
      "text/plain": [
       "array([  0,   1,   8,  27,  64, 125], dtype=int32)"
      ]
     },
     "execution_count": 84,
     "metadata": {},
     "output_type": "execute_result"
    }
   ],
   "source": []
  },
  {
   "cell_type": "code",
   "execution_count": null,
   "metadata": {},
   "outputs": [],
   "source": []
  },
  {
   "cell_type": "code",
   "execution_count": 235,
   "metadata": {},
   "outputs": [
    {
     "name": "stdout",
     "output_type": "stream",
     "text": [
      "error: 5025895.46357562\n",
      "error: 7.81663316688924e+188\n",
      "Error: inf\n"
     ]
    },
    {
     "name": "stderr",
     "output_type": "stream",
     "text": [
      "C:\\Python37\\lib\\site-packages\\ipykernel_launcher.py:12: RuntimeWarning: overflow encountered in double_scalars\n",
      "  if sys.path[0] == '':\n"
     ]
    }
   ],
   "source": [
    "import numpy as np\n",
    "\n",
    "class LR:  \n",
    "    def __init__(self, rate):\n",
    "        self.m = 0\n",
    "        self.b = 0\n",
    "        self.learning_rate = rate\n",
    "\n",
    "    def cost_function(self, x, y):\n",
    "        totalError = 0\n",
    "        for i in range(0, len(x)):\n",
    "            totalError += ((self.m* x[i] + self.b) - y[i])**2\n",
    "        return totalError/float(len(x))\n",
    "\n",
    "    def fit(self, x, y, num_iterations):\n",
    "        N = float(len(x))\n",
    "        for j in range(num_iterations):\n",
    "            b_gradient = 0\n",
    "            m_gradient = 0\n",
    "            for i in range(0, len(x)):\n",
    "                b_gradient += -(2/N) * (y[i] - ((self.m * x[i]) + self.b))\n",
    "                m_gradient += -(2/N) * (y[i] - ((self.m * x[i]) + self.b)) * x[i]\n",
    "            self.b -= (self.learning_rate * b_gradient)\n",
    "            self.m -= (self.learning_rate * m_gradient)\n",
    "            if j % 50 == 0:\n",
    "                print('error:', self.cost_function(x, y))\n",
    "\n",
    "    def predict(self, xs):\n",
    "        return [(self.m * x + self.b) for x in xs]\n",
    "\n",
    "# Testing functionality\n",
    "if __name__ == '__main__':\n",
    "    x = np.linspace(0, 100, 50)\n",
    "    delta = np.random.uniform(-10, 10, x.size)\n",
    "    y = 0.5 * x + 3 + delta\n",
    "\n",
    "    model = LR(0.01)\n",
    "    model.fit(x, y, 100)\n",
    "    print('Error:', model.cost_function(x, y))"
   ]
  },
  {
   "cell_type": "code",
   "execution_count": null,
   "metadata": {},
   "outputs": [],
   "source": [
    "X = np.append(np.ones((m,1)), df['TV'].values.reshape(m,1), axis=1)\n",
    "\n",
    "y = df['Sales'].values.reshape(m,1)\n",
    "\n",
    "theta_params = np.zeros((2,1))\n",
    "def cost_fun(X, y, theta_params):\n",
    "        y_predict = np.dot(X, theta_params)\n",
    "        sqrd_error = (y_predict - y ) ** 2 \n",
    "        cost = 1/(2*m) * np.sum(sqrd_error)\n",
    "        return cost\n",
    "\n",
    "cost = cost_fun(X, y, theta_params)\n",
    "print(f'when theta params all zeroes cost is : {cost}')\n",
    "def gd(X,y,theta_params, alpha, iterations):\n",
    "    cost = []\n",
    "    for i in range(iterations):\n",
    "        y_pred = np.dot(X, theta_params)\n",
    "        der = np.dot(X.transpose(), (y_pred-y)) / m\n",
    "        theta_params -= alpha * der\n",
    "        cost.append(cost_fun(X, y, theta_params))\n",
    "    return theta, cost\n",
    "\n",
    "theta, cost = gd(X,y, theta_params, alpha = 0.000065, iterations = 400000)\n",
    "theta\n",
    "fix, ax = plt.subplots(figsize= (9, 6))\n",
    "ax.plot(cost)\n",
    "fig, ax = plt.subplots(figsize=(9, 6))\n",
    "fit = np.round(theta_params,3)\n",
    "x_val = np.array(range(0,303))\n",
    "y_val = fit[0, 0] + (fit[1, 0] * x_val)\n",
    "sns.lineplot(x_val, y_val, ax=ax, color='blue')\n",
    "sns.scatterplot(x='TV', y='Sales', data=df, ax=ax, color='red')"
   ]
  },
  {
   "cell_type": "code",
   "execution_count": 261,
   "metadata": {},
   "outputs": [
    {
     "name": "stdout",
     "output_type": "stream",
     "text": [
      "error: 502.8861744871584\n",
      "error: 502.8861744871584\n",
      "Error: 502.8861744871584\n"
     ]
    }
   ],
   "source": [
    "import numpy as np\n",
    "\n",
    "class SLR():\n",
    "    \n",
    "    def __init__(self, lr):\n",
    "        self.theta0 = 0\n",
    "        self.theta1 = 0\n",
    "        self.learning_rate = lr\n",
    "        \n",
    "        \n",
    "    def cost_function(self, x, y):\n",
    "        error = 0\n",
    "        for i in range(len(x)):\n",
    "            error += (hypothesis(x[i]) - y[i]) **2\n",
    "        return error/(2*float(len(x)))\n",
    "       \n",
    "\n",
    "    def gradient_descent(self, x, y, iters):\n",
    "        m = float(len(x))\n",
    "        for j in range(iters):\n",
    "            b_gradient = 0\n",
    "            m_gradient = 0\n",
    "         \n",
    "            b_gradient = b_gradient-(1/m) * np.sum(y - self.predict(x))\n",
    "            m_gradient = m_gradient-(1/m) * np.sum(x * y - self.predict(x))\n",
    "            self.theta0 -= (self.learning_rate * b_gradient)\n",
    "            self.theta1 -= (self.learning_rate * m_gradient)\n",
    "            if j % 50 == 0:\n",
    "                print('error:', self.cost_function(x, y))\n",
    "    \n",
    "#         m = len(x)\n",
    "#         for i in range(iters):\n",
    "            \n",
    "            \n",
    "#             dt0 = -(2/m) * np.sum(y[i] - self.hypothesis(x[i]))\n",
    "#             dt1 = -(2/m) * np.sum(x[i] * y[i] - self.hypothesis(x[i]))\n",
    "#             self.theta0 -= self.learning_rate * dt0\n",
    "#             self.theta1 -= self.learning_rate * dt1\n",
    "#             print(f'theta0: {self.theta0}, theta1: {self.theta1}, cost: {cost} iteration: {i}')\n",
    "    \n",
    "    def hypothesis(self, x):\n",
    "        return self.theta0 + (self.theta1 * x)\n",
    "    \n",
    "    def predict(self, xs):\n",
    "        return [(self.theta0 + self.theta1 * x) for x in xs]\n",
    "    \n",
    "    def get_params(self):\n",
    "        return self.theta0, self.theta1\n",
    "\n",
    "# Testing functionality\n",
    "if __name__ == '__main__':\n",
    "    x = np.linspace(0, 100, 20)\n",
    "    delta = np.random.uniform(-30, 15, x.size)\n",
    "    y = 0.5 * x + 3 + delta\n",
    "#     x = np.array([1, 1, 2, 3 ,4 , 5, 6, 7, 8, 9, 10, 11])\n",
    "#     y = np.array([1, 2, 3, 1, 4 , 5, 6, 4, 7, 10 , 15, 9])\n",
    "    model = SLR(0.01)\n",
    "    model.gradient_descent(x, y, 100)\n",
    "    print('Error:', model.cost_function(x, y))\n",
    "#     plt.plot(x, y , 'o')\n",
    "#     model = SLR(0.0001)\n",
    "#     model.fit(x, y, 200)\n",
    "#     print('Error:', model.cost_function(x, y))\n",
    "    "
   ]
  },
  {
   "cell_type": "code",
   "execution_count": null,
   "metadata": {},
   "outputs": [],
   "source": [
    "\n",
    "class LinearRegression():\n",
    "    def __init__(self, th_0=0, th_1=1, lr=0.01): \n",
    "        self.lr=lr\n",
    "        self.th_0=np.array([[th_0]])\n",
    "        self.th_1=np.array([th_1])\n",
    "        print(th_0)\n",
    "        print(th_1)\n",
    "    def cost(self,x,y):     \n",
    "        y_pred = self.b + x@self.w  # predicted y-values\n",
    "        e=y - y_pred                  # error term\n",
    "        return np.mean(e**2)      # mean squared error\n",
    "    \n",
    "def compute_cost(X, y, theta):\n",
    "    '''\n",
    "    Comput cost for linear regression\n",
    "    '''\n",
    "    # number of training samples\n",
    "    m = y.size\n",
    "    predictions = X.dot(theta).flatten()\n",
    "    sqErrors = (predictions - y) ** 2\n",
    "    J = (1.0 / (2 * m)) * sqErrors.sum()\n",
    "\n",
    "    return J\n",
    "\n",
    "\n",
    "    def fit(self, x,y):\n",
    "        pred = x@self.w+self.b\n",
    "        e=y-pred\n",
    "        dJ_dw=(np.mean(e*(-2*x), axis=0)) # partial derivate of J with respect to w\n",
    "        dJ_db=(np.mean(e*(-2),axis=0)) # partial derivate of J with respect to b\n",
    "        self.w = (self.w.T-self.lr*dJ_dw).T  # update w\n",
    "        self.b = self.b - self.lr*dJ_db    # update b\n",
    "\n",
    "    def predict(self, x):\n",
    "        return (x @ self.w.T + self.b)  # return predicted values\n",
    "\n",
    "    def params(self):\n",
    "        return (self.w,self.b)   # return parameters"
   ]
  },
  {
   "cell_type": "code",
   "execution_count": null,
   "metadata": {},
   "outputs": [],
   "source": []
  },
  {
   "cell_type": "code",
   "execution_count": 148,
   "metadata": {},
   "outputs": [
    {
     "data": {
      "image/png": "[encoded data removed]",
      "text/plain": [
       "<Figure size 432x288 with 1 Axes>"
      ]
     },
     "metadata": {
      "needs_background": "light"
     },
     "output_type": "display_data"
    }
   ],
   "source": [
    "%matplotlib inline\n",
    "import matplotlib.pyplot as plt\n",
    "import numpy as np\n",
    "\n",
    "x_points = [1, 1, 2, 3 ,4 , 5, 6, 7, 8, 9, 10, 11]\n",
    "y_points = [1, 2, 3, 1, 4 , 5, 6, 4, 7, 10 , 15, 9]\n",
    "\n",
    "plt.plot(x_points, y_points, 'o')\n",
    "theta_0 = 0\n",
    "theta_1 = 0\n",
    "\n",
    "hypothesis = lambda x: theta_0 + theta_1 * x\n",
    "\n",
    "def predict(y, data_points):\n",
    "    x_values = [i for i in range(int(min(data_points)) -1 , int(max(data_points)) + 2 )]\n",
    "    y_values = [hypothesis(x) for x in x_values]\n",
    "    plt.plot(x_values, y_values, 'r')\n",
    "\n",
    "predict(y, x_points)\n",
    "\n",
    "learn = .0001\n",
    "epoch = 1000\n",
    "def summation(x_points, y_points):\n",
    "\n",
    "    total1 = 0\n",
    "    total2 = 0\n",
    "    \n",
    "    for i in range(1, len(x_points)):\n",
    "        total1 += (hypothesis(x_points[i]) - y_points[i])\n",
    "        total2 += (hypothesis(x_points[i]) - y_points[i]) * x_points[i]\n",
    "    \n",
    "    return total1/(2*len(x_points)), total2/(2* len(x_points))\n",
    "\n",
    "for i in range(epoch):\n",
    "    s1, s2 = summation(x_points, y_points)\n",
    "    theta_0 = theta_0 - learn * s1\n",
    "    theta_1 = theta_1 - learn * s2\n",
    "    \n",
    "#plt.plot(x_points, y_points, 'o')\n",
    "#predict(y, x_points)"
   ]
  },
  {
   "cell_type": "markdown",
   "metadata": {},
   "source": [
    "## Implementation b\n",
    "\n",
    "The easiest way is using vecotrized forms, means we can take advatage of matrix multiplication. And matrix is used as a structure that we hold our data and parameters."
   ]
  },
  {
   "cell_type": "code",
   "execution_count": 10,
   "metadata": {},
   "outputs": [
    {
     "data": {
      "image/png": "[encoded data removed]",
      "text/plain": [
       "<Figure size 432x288 with 1 Axes>"
      ]
     },
     "metadata": {
      "needs_background": "light"
     },
     "output_type": "display_data"
    },
    {
     "data": {
      "image/png": "[encoded data removed]",
      "text/plain": [
       "<Figure size 432x288 with 1 Axes>"
      ]
     },
     "metadata": {
      "needs_background": "light"
     },
     "output_type": "display_data"
    },
    {
     "data": {
      "text/plain": [
       "[<matplotlib.lines.Line2D at 0xe230c70>]"
      ]
     },
     "execution_count": 10,
     "metadata": {},
     "output_type": "execute_result"
    },
    {
     "data": {
      "image/png": "[encoded data removed]",
      "text/plain": [
       "<Figure size 432x288 with 1 Axes>"
      ]
     },
     "metadata": {
      "needs_background": "light"
     },
     "output_type": "display_data"
    }
   ],
   "source": [
    "%matplotlib inline\n",
    "import numpy as np\n",
    "import matplotlib.pyplot as plt\n",
    "\n",
    "data = np.genfromtxt('./data_samples/SLRM/toy_data.csv', delimiter=',')\n",
    "X = data[:,0].reshape(-1,1)\n",
    "ones = np.ones([X.shape[0], 1])\n",
    "X = np.concatenate([ones, X], 1)\n",
    "y = data[:,1].reshape(-1,1)\n",
    "plt.scatter(data[:, 0].reshape(-1,1), y)\n",
    "plt.show()\n",
    "\n",
    "alpha = 0.0001\n",
    "iters = 25\n",
    "theta = np.array([[0.0, 0.0]])\n",
    "\n",
    "# square error \n",
    "def get_error(X,y, theta):\n",
    "    error = ((X @ theta.T) - y)**2\n",
    "    return np.sum(error) / (2*len(X))\n",
    "\n",
    "# gradient descent\n",
    "def gd(X,y,theta,alpha,iters):\n",
    "    cost = np.zeros(iters)\n",
    "    for i in range(iters):\n",
    "        theta = theta - (alpha/len(X)) * np.sum((X @ theta.T -y) * X, axis=0)\n",
    "        cost[i] = get_error(X,y,theta)\n",
    "#         if i % 100 == 0:\n",
    "#             print(cost[i])\n",
    "    return theta, cost\n",
    "\n",
    "params, cost = gd(X,y,theta,alpha, iters)\n",
    "plt.scatter(data[:,0].reshape(-1,1), y)\n",
    "axes = plt.gca()\n",
    "x_vals = np.array(axes.get_xlim())\n",
    "y_vals = params[0][0] + params[0][1] * x_vals\n",
    "plt.plot(x_vals,y_vals, '--', color='k')\n",
    "plt.show()\n",
    "plt.plot(np.arange(iters), cost, 'r')"
   ]
  },
  {
   "cell_type": "code",
   "execution_count": 353,
   "metadata": {},
   "outputs": [
    {
     "name": "stdout",
     "output_type": "stream",
     "text": [
      "theta0: 0.14044444444444443, theta1: 0.9271111111111111, cost: 339.3333333333333 iteration: 0\n",
      "theta0: 0.23773629629629628, theta1: 1.5437629629629628, cost: 156.25476609053499 iteration: 1\n",
      "theta0: 0.306294929382716, theta1: 1.95374244345679, cost: 75.10351445675137 iteration: 2\n",
      "theta0: 0.3557193569553909, theta1: 2.2261406629820577, cost: 39.12231291668377 iteration: 3\n",
      "theta0: 0.392399669822339, theta1: 2.406951692453076, cost: 23.158679165871998 iteration: 4\n",
      "theta0: 0.4205897735169986, theta1: 2.526793863407632, cost: 16.0660689336228 iteration: 5\n",
      "theta0: 0.44312151129882776, theta1: 2.6060498509216026, cost: 12.904792744281705 iteration: 6\n",
      "theta0: 0.4618800570777689, theta1: 2.658288435751548, cost: 11.485783491035088 iteration: 7\n",
      "theta0: 0.478120385311521, theta1: 2.6925423773486257, cost: 10.838936596123483 iteration: 8\n",
      "theta0: 0.4926779455670023, theta1: 2.7148247978885984, cost: 10.534341463032808 iteration: 9\n",
      "theta0: 0.5061089089426276, theta1: 2.7291386417598784, cost: 10.381479216404633 iteration: 10\n",
      "theta0: 0.5187835303557499, theta1: 2.7381486745016836, cost: 10.295919531215931 iteration: 11\n",
      "theta0: 0.5309482999799386, theta1: 2.743628833666782, cost: 10.2402461585851 iteration: 12\n",
      "theta0: 0.5427673175649828, theta1: 2.7467600310694316, cost: 10.197877552243279 iteration: 13\n",
      "theta0: 0.5543498353937598, theta1: 2.7483284002601565, cost: 10.16146524858281 iteration: 14\n",
      "theta0: 0.5657685936765937, theta1: 2.7488572702147525, cost: 10.127752506594252 iteration: 15\n",
      "theta0: 0.5770720264552233, theta1: 2.7486950204487526, cost: 10.09529586887054 iteration: 16\n",
      "theta0: 0.5882923870943492, theta1: 2.748073566320036, cost: 10.06345545129668 iteration: 17\n",
      "theta0: 0.5994511574355306, theta1: 2.7471472927965648, cost: 10.031947481030572 iteration: 18\n",
      "theta0: 0.6105626486803798, theta1: 2.7460189727333253, cost: 10.000645999765897 iteration: 19\n",
      "theta0: 0.6216363985048038, theta1: 2.7447570207143954, cost: 9.969494986784268 iteration: 20\n",
      "theta0: 0.6326787668221572, theta1: 2.7434069789656337, cost: 9.938469415509518 iteration: 21\n",
      "theta0: 0.6436939980855823, theta1: 2.7419991635467458, cost: 9.907557995374377 iteration: 22\n",
      "theta0: 0.6546849284645563, theta1: 2.7405537544346448, cost: 9.876755523724425 iteration: 23\n",
      "theta0: 0.6656534566135803, theta1: 2.739084184000799, cost: 9.846059496494613 iteration: 24\n",
      "theta0: 0.6766008570637466, theta1: 2.737599392726499, cost: 9.81546860619844 iteration: 25\n",
      "theta0: 0.6875279888480798, theta1: 2.7361053308364287, cost: 9.784982076296313 iteration: 26\n",
      "theta0: 0.6984354343838215, theta1: 2.734605957938745, cost: 9.754599366212751 iteration: 27\n",
      "theta0: 0.709323591926639, theta1: 2.7331039084872146, cost: 9.724320040609888 iteration: 28\n",
      "theta0: 0.7201927371175832, theta1: 2.7316009347805115, cost: 9.694143711452558 iteration: 29\n",
      "theta0: 0.7310430639550372, theta1: 2.7300982018676176, cost: 9.664070012331726 iteration: 30\n",
      "theta0: 0.7418747120698427, theta1: 2.728596483866855, cost: 9.634098587083402 iteration: 31\n",
      "theta0: 0.7526877848824309, theta1: 2.7270962946558046, cost: 9.604229084742741 iteration: 32\n",
      "theta0: 0.7634823616900861, theta1: 2.725597974871808, cost: 9.574461157305715 iteration: 33\n",
      "theta0: 0.7742585057134879, theta1: 2.724101749828349, cost: 9.544794458734918 iteration: 34\n",
      "theta0: 0.7850162694533392, theta1: 2.7226077680700835, cost: 9.515228644516752 iteration: 35\n",
      "theta0: 0.7957556982563132, theta1: 2.721116127038989, cost: 9.485763371462982 iteration: 36\n",
      "theta0: 0.8064768326889397, theta1: 2.7196268901603586, cost: 9.456398297620572 iteration: 37\n",
      "theta0: 0.8171797101179363, theta1: 2.7181400982169737, cost: 9.427133082229538 iteration: 38\n",
      "theta0: 0.8278643657622679, theta1: 2.7166557769209043, cost: 9.397967385702074 iteration: 39\n",
      "theta0: 0.8385308333935332, theta1: 2.7151739419540695, cost: 9.368900869611078 iteration: 40\n",
      "theta0: 0.8491791458022449, theta1: 2.7136946023237387, cost: 9.339933196682965 iteration: 41\n",
      "theta0: 0.8598093351082619, theta1: 2.712217762596295, cost: 9.311064030792206 iteration: 42\n",
      "theta0: 0.8704214329674749, theta1: 2.7107434243842468, cost: 9.282293036956833 iteration: 43\n",
      "theta0: 0.881015470709427, theta1: 2.709271587336133, cost: 9.253619881334243 iteration: 44\n",
      "theta0: 0.891591479428958, theta1: 2.707802249795498, cost: 9.225044231217176 iteration: 45\n",
      "theta0: 0.9021494900472415, theta1: 2.706335409239573, cost: 9.196565755029834 iteration: 46\n",
      "theta0: 0.9126895333524474, theta1: 2.704871062571296, cost: 9.168184122323986 iteration: 47\n",
      "theta0: 0.9232116400268402, theta1: 2.703409206313711, cost: 9.139899003775122 iteration: 48\n",
      "theta0: 0.9337158406648484, theta1: 2.701949836739375, cost: 9.111710071178639 iteration: 49\n"
     ]
    },
    {
     "data": {
      "image/png": "[encoded data removed]",
      "text/plain": [
       "<Figure size 432x288 with 1 Axes>"
      ]
     },
     "metadata": {
      "needs_background": "light"
     },
     "output_type": "display_data"
    }
   ],
   "source": [
    "%matplotlib inline\n",
    "import numpy as np\n",
    "import matplotlib.pyplot as plt \n",
    "def gradient_descent(x,y):\n",
    "    th0 = th1 = 0\n",
    "    iters = 50\n",
    "    m = len(x)\n",
    "    learn_rate = .008\n",
    "    for i in range(iters):\n",
    "        y_predicted = th0 + th1 * x\n",
    "        cost = (1/m) * sum([val**2 for val in (y - y_predicted)])\n",
    "        th0d = -(1/m) * sum((y - y_predicted))\n",
    "        th1d = -(1/m) * sum(x *(y - y_predicted))   \n",
    "        th0 -= learn_rate * th0d\n",
    "        th1 -= learn_rate * th1d   \n",
    "        print(f'theta0: {th0}, theta1: {th1}, cost: {cost} iteration: {i}')\n",
    "        plt.plot(x, y_predicted)\n",
    "        \n",
    "x = np.array([1, 2, 3, 5 ,6 , 7, 8, 9, 10])\n",
    "y = np.array([10, 11, 13, 15, 17 , 19, 22, 24,27])\n",
    "\n",
    "gradient_descent(x, y)\n",
    "plt.scatter(x,y)\n",
    "plt.show()\n",
    "\n",
    "\n",
    "\n",
    "    \n"
   ]
  },
  {
   "cell_type": "markdown",
   "metadata": {},
   "source": [
    "## Least squares with polynomial features fit"
   ]
  },
  {
   "cell_type": "code",
   "execution_count": 17,
   "metadata": {},
   "outputs": [],
   "source": [
    "#matplotlib inline\n",
    "%matplotlib notebook\n",
    "import sys\n",
    "import random\n",
    "import numpy as np\n",
    "import matplotlib.pyplot as plt\n",
    "from mpl_toolkits.mplot3d import Axes3D"
   ]
  },
  {
   "cell_type": "code",
   "execution_count": 31,
   "metadata": {},
   "outputs": [],
   "source": [
    "X = [[x/12+ random.uniform(-1,1) for x in range(0,50)], [2**(x/12)+ random.uniform(-1,1) for x in range(0,50)]]\n",
    "\n",
    "theta = [0.2, 0.03, 0.7, 0.002, 0.04]\n",
    "def var(i):\n",
    "    return random.uniform(-(i[0]+i[1])/4,(i[0]+i[1])/4)\n",
    "\n",
    "def y_of_x(xa):\n",
    "    return theta[0]*xa[0]**2 + theta[1]*xa[0]*xa[1] + theta[2]*xa[0] + theta[3]*xa[1]**2 + theta[4]*xa[1] + 2.0 + var(xa)\n",
    "\n",
    "Y = []\n",
    "for xa in np.transpose(X):\n",
    "    Y.append(y_of_x(xa))"
   ]
  },
  {
   "cell_type": "code",
   "execution_count": 39,
   "metadata": {},
   "outputs": [
    {
     "data": {
      "application/javascript": [
       "/* Put everything inside the global mpl namespace */\n",
       "window.mpl = {};\n",
       "\n",
       "\n",
       "mpl.get_websocket_type = function() {\n",
       "    if (typeof(WebSocket) !== 'undefined') {\n",
       "        return WebSocket;\n",
       "    } else if (typeof(MozWebSocket) !== 'undefined') {\n",
       "        return MozWebSocket;\n",
       "    } else {\n",
       "        alert('Your browser does not have WebSocket support. ' +\n",
       "              'Please try Chrome, Safari or Firefox ≥ 6. ' +\n",
       "              'Firefox 4 and 5 are also supported but you ' +\n",
       "              'have to enable WebSockets in about:config.');\n",
       "    };\n",
       "}\n",
       "\n",
       "mpl.figure = function(figure_id, websocket, ondownload, parent_element) {\n",
       "    this.id = figure_id;\n",
       "\n",
       "    this.ws = websocket;\n",
       "\n",
       "    this.supports_binary = (this.ws.binaryType != undefined);\n",
       "\n",
       "    if (!this.supports_binary) {\n",
       "        var warnings = document.getElementById(\"mpl-warnings\");\n",
       "        if (warnings) {\n",
       "            warnings.style.display = 'block';\n",
       "            warnings.textContent = (\n",
       "                \"This browser does not support binary websocket messages. \" +\n",
       "                    \"Performance may be slow.\");\n",
       "        }\n",
       "    }\n",
       "\n",
       "    this.imageObj = new Image();\n",
       "\n",
       "    this.context = undefined;\n",
       "    this.message = undefined;\n",
       "    this.canvas = undefined;\n",
       "    this.rubberband_canvas = undefined;\n",
       "    this.rubberband_context = undefined;\n",
       "    this.format_dropdown = undefined;\n",
       "\n",
       "    this.image_mode = 'full';\n",
       "\n",
       "    this.root = $('<div/>');\n",
       "    this._root_extra_style(this.root)\n",
       "    this.root.attr('style', 'display: inline-block');\n",
       "\n",
       "    $(parent_element).append(this.root);\n",
       "\n",
       "    this._init_header(this);\n",
       "    this._init_canvas(this);\n",
       "    this._init_toolbar(this);\n",
       "\n",
       "    var fig = this;\n",
       "\n",
       "    this.waiting = false;\n",
       "\n",
       "    this.ws.onopen =  function () {\n",
       "            fig.send_message(\"supports_binary\", {value: fig.supports_binary});\n",
       "            fig.send_message(\"send_image_mode\", {});\n",
       "            if (mpl.ratio != 1) {\n",
       "                fig.send_message(\"set_dpi_ratio\", {'dpi_ratio': mpl.ratio});\n",
       "            }\n",
       "            fig.send_message(\"refresh\", {});\n",
       "        }\n",
       "\n",
       "    this.imageObj.onload = function() {\n",
       "            if (fig.image_mode == 'full') {\n",
       "                // Full images could contain transparency (where diff images\n",
       "                // almost always do), so we need to clear the canvas so that\n",
       "                // there is no ghosting.\n",
       "                fig.context.clearRect(0, 0, fig.canvas.width, fig.canvas.height);\n",
       "            }\n",
       "            fig.context.drawImage(fig.imageObj, 0, 0);\n",
       "        };\n",
       "\n",
       "    this.imageObj.onunload = function() {\n",
       "        fig.ws.close();\n",
       "    }\n",
       "\n",
       "    this.ws.onmessage = this._make_on_message_function(this);\n",
       "\n",
       "    this.ondownload = ondownload;\n",
       "}\n",
       "\n",
       "mpl.figure.prototype._init_header = function() {\n",
       "    var titlebar = $(\n",
       "        '<div class=\"ui-dialog-titlebar ui-widget-header ui-corner-all ' +\n",
       "        'ui-helper-clearfix\"/>');\n",
       "    var titletext = $(\n",
       "        '<div class=\"ui-dialog-title\" style=\"width: 100%; ' +\n",
       "        'text-align: center; padding: 3px;\"/>');\n",
       "    titlebar.append(titletext)\n",
       "    this.root.append(titlebar);\n",
       "    this.header = titletext[0];\n",
       "}\n",
       "\n",
       "\n",
       "\n",
       "mpl.figure.prototype._canvas_extra_style = function(canvas_div) {\n",
       "\n",
       "}\n",
       "\n",
       "\n",
       "mpl.figure.prototype._root_extra_style = function(canvas_div) {\n",
       "\n",
       "}\n",
       "\n",
       "mpl.figure.prototype._init_canvas = function() {\n",
       "    var fig = this;\n",
       "\n",
       "    var canvas_div = $('<div/>');\n",
       "\n",
       "    canvas_div.attr('style', 'position: relative; clear: both; outline: 0');\n",
       "\n",
       "    function canvas_keyboard_event(event) {\n",
       "        return fig.key_event(event, event['data']);\n",
       "    }\n",
       "\n",
       "    canvas_div.keydown('key_press', canvas_keyboard_event);\n",
       "    canvas_div.keyup('key_release', canvas_keyboard_event);\n",
       "    this.canvas_div = canvas_div\n",
       "    this._canvas_extra_style(canvas_div)\n",
       "    this.root.append(canvas_div);\n",
       "\n",
       "    var canvas = $('<canvas/>');\n",
       "    canvas.addClass('mpl-canvas');\n",
       "    canvas.attr('style', \"left: 0; top: 0; z-index: 0; outline: 0\")\n",
       "\n",
       "    this.canvas = canvas[0];\n",
       "    this.context = canvas[0].getContext(\"2d\");\n",
       "\n",
       "    var backingStore = this.context.backingStorePixelRatio ||\n",
       "\tthis.context.webkitBackingStorePixelRatio ||\n",
       "\tthis.context.mozBackingStorePixelRatio ||\n",
       "\tthis.context.msBackingStorePixelRatio ||\n",
       "\tthis.context.oBackingStorePixelRatio ||\n",
       "\tthis.context.backingStorePixelRatio || 1;\n",
       "\n",
       "    mpl.ratio = (window.devicePixelRatio || 1) / backingStore;\n",
       "\n",
       "    var rubberband = $('<canvas/>');\n",
       "    rubberband.attr('style', \"position: absolute; left: 0; top: 0; z-index: 1;\")\n",
       "\n",
       "    var pass_mouse_events = true;\n",
       "\n",
       "    canvas_div.resizable({\n",
       "        start: function(event, ui) {\n",
       "            pass_mouse_events = false;\n",
       "        },\n",
       "        resize: function(event, ui) {\n",
       "            fig.request_resize(ui.size.width, ui.size.height);\n",
       "        },\n",
       "        stop: function(event, ui) {\n",
       "            pass_mouse_events = true;\n",
       "            fig.request_resize(ui.size.width, ui.size.height);\n",
       "        },\n",
       "    });\n",
       "\n",
       "    function mouse_event_fn(event) {\n",
       "        if (pass_mouse_events)\n",
       "            return fig.mouse_event(event, event['data']);\n",
       "    }\n",
       "\n",
       "    rubberband.mousedown('button_press', mouse_event_fn);\n",
       "    rubberband.mouseup('button_release', mouse_event_fn);\n",
       "    // Throttle sequential mouse events to 1 every 20ms.\n",
       "    rubberband.mousemove('motion_notify', mouse_event_fn);\n",
       "\n",
       "    rubberband.mouseenter('figure_enter', mouse_event_fn);\n",
       "    rubberband.mouseleave('figure_leave', mouse_event_fn);\n",
       "\n",
       "    canvas_div.on(\"wheel\", function (event) {\n",
       "        event = event.originalEvent;\n",
       "        event['data'] = 'scroll'\n",
       "        if (event.deltaY < 0) {\n",
       "            event.step = 1;\n",
       "        } else {\n",
       "            event.step = -1;\n",
       "        }\n",
       "        mouse_event_fn(event);\n",
       "    });\n",
       "\n",
       "    canvas_div.append(canvas);\n",
       "    canvas_div.append(rubberband);\n",
       "\n",
       "    this.rubberband = rubberband;\n",
       "    this.rubberband_canvas = rubberband[0];\n",
       "    this.rubberband_context = rubberband[0].getContext(\"2d\");\n",
       "    this.rubberband_context.strokeStyle = \"#000000\";\n",
       "\n",
       "    this._resize_canvas = function(width, height) {\n",
       "        // Keep the size of the canvas, canvas container, and rubber band\n",
       "        // canvas in synch.\n",
       "        canvas_div.css('width', width)\n",
       "        canvas_div.css('height', height)\n",
       "\n",
       "        canvas.attr('width', width * mpl.ratio);\n",
       "        canvas.attr('height', height * mpl.ratio);\n",
       "        canvas.attr('style', 'width: ' + width + 'px; height: ' + height + 'px;');\n",
       "\n",
       "        rubberband.attr('width', width);\n",
       "        rubberband.attr('height', height);\n",
       "    }\n",
       "\n",
       "    // Set the figure to an initial 600x600px, this will subsequently be updated\n",
       "    // upon first draw.\n",
       "    this._resize_canvas(600, 600);\n",
       "\n",
       "    // Disable right mouse context menu.\n",
       "    $(this.rubberband_canvas).bind(\"contextmenu\",function(e){\n",
       "        return false;\n",
       "    });\n",
       "\n",
       "    function set_focus () {\n",
       "        canvas.focus();\n",
       "        canvas_div.focus();\n",
       "    }\n",
       "\n",
       "    window.setTimeout(set_focus, 100);\n",
       "}\n",
       "\n",
       "mpl.figure.prototype._init_toolbar = function() {\n",
       "    var fig = this;\n",
       "\n",
       "    var nav_element = $('<div/>');\n",
       "    nav_element.attr('style', 'width: 100%');\n",
       "    this.root.append(nav_element);\n",
       "\n",
       "    // Define a callback function for later on.\n",
       "    function toolbar_event(event) {\n",
       "        return fig.toolbar_button_onclick(event['data']);\n",
       "    }\n",
       "    function toolbar_mouse_event(event) {\n",
       "        return fig.toolbar_button_onmouseover(event['data']);\n",
       "    }\n",
       "\n",
       "    for(var toolbar_ind in mpl.toolbar_items) {\n",
       "        var name = mpl.toolbar_items[toolbar_ind][0];\n",
       "        var tooltip = mpl.toolbar_items[toolbar_ind][1];\n",
       "        var image = mpl.toolbar_items[toolbar_ind][2];\n",
       "        var method_name = mpl.toolbar_items[toolbar_ind][3];\n",
       "\n",
       "        if (!name) {\n",
       "            // put a spacer in here.\n",
       "            continue;\n",
       "        }\n",
       "        var button = $('<button/>');\n",
       "        button.addClass('ui-button ui-widget ui-state-default ui-corner-all ' +\n",
       "                        'ui-button-icon-only');\n",
       "        button.attr('role', 'button');\n",
       "        button.attr('aria-disabled', 'false');\n",
       "        button.click(method_name, toolbar_event);\n",
       "        button.mouseover(tooltip, toolbar_mouse_event);\n",
       "\n",
       "        var icon_img = $('<span/>');\n",
       "        icon_img.addClass('ui-button-icon-primary ui-icon');\n",
       "        icon_img.addClass(image);\n",
       "        icon_img.addClass('ui-corner-all');\n",
       "\n",
       "        var tooltip_span = $('<span/>');\n",
       "        tooltip_span.addClass('ui-button-text');\n",
       "        tooltip_span.html(tooltip);\n",
       "\n",
       "        button.append(icon_img);\n",
       "        button.append(tooltip_span);\n",
       "\n",
       "        nav_element.append(button);\n",
       "    }\n",
       "\n",
       "    var fmt_picker_span = $('<span/>');\n",
       "\n",
       "    var fmt_picker = $('<select/>');\n",
       "    fmt_picker.addClass('mpl-toolbar-option ui-widget ui-widget-content');\n",
       "    fmt_picker_span.append(fmt_picker);\n",
       "    nav_element.append(fmt_picker_span);\n",
       "    this.format_dropdown = fmt_picker[0];\n",
       "\n",
       "    for (var ind in mpl.extensions) {\n",
       "        var fmt = mpl.extensions[ind];\n",
       "        var option = $(\n",
       "            '<option/>', {selected: fmt === mpl.default_extension}).html(fmt);\n",
       "        fmt_picker.append(option);\n",
       "    }\n",
       "\n",
       "    // Add hover states to the ui-buttons\n",
       "    $( \".ui-button\" ).hover(\n",
       "        function() { $(this).addClass(\"ui-state-hover\");},\n",
       "        function() { $(this).removeClass(\"ui-state-hover\");}\n",
       "    );\n",
       "\n",
       "    var status_bar = $('<span class=\"mpl-message\"/>');\n",
       "    nav_element.append(status_bar);\n",
       "    this.message = status_bar[0];\n",
       "}\n",
       "\n",
       "mpl.figure.prototype.request_resize = function(x_pixels, y_pixels) {\n",
       "    // Request matplotlib to resize the figure. Matplotlib will then trigger a resize in the client,\n",
       "    // which will in turn request a refresh of the image.\n",
       "    this.send_message('resize', {'width': x_pixels, 'height': y_pixels});\n",
       "}\n",
       "\n",
       "mpl.figure.prototype.send_message = function(type, properties) {\n",
       "    properties['type'] = type;\n",
       "    properties['figure_id'] = this.id;\n",
       "    this.ws.send(JSON.stringify(properties));\n",
       "}\n",
       "\n",
       "mpl.figure.prototype.send_draw_message = function() {\n",
       "    if (!this.waiting) {\n",
       "        this.waiting = true;\n",
       "        this.ws.send(JSON.stringify({type: \"draw\", figure_id: this.id}));\n",
       "    }\n",
       "}\n",
       "\n",
       "\n",
       "mpl.figure.prototype.handle_save = function(fig, msg) {\n",
       "    var format_dropdown = fig.format_dropdown;\n",
       "    var format = format_dropdown.options[format_dropdown.selectedIndex].value;\n",
       "    fig.ondownload(fig, format);\n",
       "}\n",
       "\n",
       "\n",
       "mpl.figure.prototype.handle_resize = function(fig, msg) {\n",
       "    var size = msg['size'];\n",
       "    if (size[0] != fig.canvas.width || size[1] != fig.canvas.height) {\n",
       "        fig._resize_canvas(size[0], size[1]);\n",
       "        fig.send_message(\"refresh\", {});\n",
       "    };\n",
       "}\n",
       "\n",
       "mpl.figure.prototype.handle_rubberband = function(fig, msg) {\n",
       "    var x0 = msg['x0'] / mpl.ratio;\n",
       "    var y0 = (fig.canvas.height - msg['y0']) / mpl.ratio;\n",
       "    var x1 = msg['x1'] / mpl.ratio;\n",
       "    var y1 = (fig.canvas.height - msg['y1']) / mpl.ratio;\n",
       "    x0 = Math.floor(x0) + 0.5;\n",
       "    y0 = Math.floor(y0) + 0.5;\n",
       "    x1 = Math.floor(x1) + 0.5;\n",
       "    y1 = Math.floor(y1) + 0.5;\n",
       "    var min_x = Math.min(x0, x1);\n",
       "    var min_y = Math.min(y0, y1);\n",
       "    var width = Math.abs(x1 - x0);\n",
       "    var height = Math.abs(y1 - y0);\n",
       "\n",
       "    fig.rubberband_context.clearRect(\n",
       "        0, 0, fig.canvas.width / mpl.ratio, fig.canvas.height / mpl.ratio);\n",
       "\n",
       "    fig.rubberband_context.strokeRect(min_x, min_y, width, height);\n",
       "}\n",
       "\n",
       "mpl.figure.prototype.handle_figure_label = function(fig, msg) {\n",
       "    // Updates the figure title.\n",
       "    fig.header.textContent = msg['label'];\n",
       "}\n",
       "\n",
       "mpl.figure.prototype.handle_cursor = function(fig, msg) {\n",
       "    var cursor = msg['cursor'];\n",
       "    switch(cursor)\n",
       "    {\n",
       "    case 0:\n",
       "        cursor = 'pointer';\n",
       "        break;\n",
       "    case 1:\n",
       "        cursor = 'default';\n",
       "        break;\n",
       "    case 2:\n",
       "        cursor = 'crosshair';\n",
       "        break;\n",
       "    case 3:\n",
       "        cursor = 'move';\n",
       "        break;\n",
       "    }\n",
       "    fig.rubberband_canvas.style.cursor = cursor;\n",
       "}\n",
       "\n",
       "mpl.figure.prototype.handle_message = function(fig, msg) {\n",
       "    fig.message.textContent = msg['message'];\n",
       "}\n",
       "\n",
       "mpl.figure.prototype.handle_draw = function(fig, msg) {\n",
       "    // Request the server to send over a new figure.\n",
       "    fig.send_draw_message();\n",
       "}\n",
       "\n",
       "mpl.figure.prototype.handle_image_mode = function(fig, msg) {\n",
       "    fig.image_mode = msg['mode'];\n",
       "}\n",
       "\n",
       "mpl.figure.prototype.updated_canvas_event = function() {\n",
       "    // Called whenever the canvas gets updated.\n",
       "    this.send_message(\"ack\", {});\n",
       "}\n",
       "\n",
       "// A function to construct a web socket function for onmessage handling.\n",
       "// Called in the figure constructor.\n",
       "mpl.figure.prototype._make_on_message_function = function(fig) {\n",
       "    return function socket_on_message(evt) {\n",
       "        if (evt.data instanceof Blob) {\n",
       "            /* FIXME: We get \"Resource interpreted as Image but\n",
       "             * transferred with MIME type text/plain:\" errors on\n",
       "             * Chrome.  But how to set the MIME type?  It doesn't seem\n",
       "             * to be part of the websocket stream */\n",
       "            evt.data.type = \"image/png\";\n",
       "\n",
       "            /* Free the memory for the previous frames */\n",
       "            if (fig.imageObj.src) {\n",
       "                (window.URL || window.webkitURL).revokeObjectURL(\n",
       "                    fig.imageObj.src);\n",
       "            }\n",
       "\n",
       "            fig.imageObj.src = (window.URL || window.webkitURL).createObjectURL(\n",
       "                evt.data);\n",
       "            fig.updated_canvas_event();\n",
       "            fig.waiting = false;\n",
       "            return;\n",
       "        }\n",
       "        else if (typeof evt.data === 'string' && evt.data.slice(0, 21) == \"data:image/png;base64\") {\n",
       "            fig.imageObj.src = evt.data;\n",
       "            fig.updated_canvas_event();\n",
       "            fig.waiting = false;\n",
       "            return;\n",
       "        }\n",
       "\n",
       "        var msg = JSON.parse(evt.data);\n",
       "        var msg_type = msg['type'];\n",
       "\n",
       "        // Call the  \"handle_{type}\" callback, which takes\n",
       "        // the figure and JSON message as its only arguments.\n",
       "        try {\n",
       "            var callback = fig[\"handle_\" + msg_type];\n",
       "        } catch (e) {\n",
       "            console.log(\"No handler for the '\" + msg_type + \"' message type: \", msg);\n",
       "            return;\n",
       "        }\n",
       "\n",
       "        if (callback) {\n",
       "            try {\n",
       "                // console.log(\"Handling '\" + msg_type + \"' message: \", msg);\n",
       "                callback(fig, msg);\n",
       "            } catch (e) {\n",
       "                console.log(\"Exception inside the 'handler_\" + msg_type + \"' callback:\", e, e.stack, msg);\n",
       "            }\n",
       "        }\n",
       "    };\n",
       "}\n",
       "\n",
       "// from http://stackoverflow.com/questions/1114465/getting-mouse-location-in-canvas\n",
       "mpl.findpos = function(e) {\n",
       "    //this section is from http://www.quirksmode.org/js/events_properties.html\n",
       "    var targ;\n",
       "    if (!e)\n",
       "        e = window.event;\n",
       "    if (e.target)\n",
       "        targ = e.target;\n",
       "    else if (e.srcElement)\n",
       "        targ = e.srcElement;\n",
       "    if (targ.nodeType == 3) // defeat Safari bug\n",
       "        targ = targ.parentNode;\n",
       "\n",
       "    // jQuery normalizes the pageX and pageY\n",
       "    // pageX,Y are the mouse positions relative to the document\n",
       "    // offset() returns the position of the element relative to the document\n",
       "    var x = e.pageX - $(targ).offset().left;\n",
       "    var y = e.pageY - $(targ).offset().top;\n",
       "\n",
       "    return {\"x\": x, \"y\": y};\n",
       "};\n",
       "\n",
       "/*\n",
       " * return a copy of an object with only non-object keys\n",
       " * we need this to avoid circular references\n",
       " * http://stackoverflow.com/a/24161582/3208463\n",
       " */\n",
       "function simpleKeys (original) {\n",
       "  return Object.keys(original).reduce(function (obj, key) {\n",
       "    if (typeof original[key] !== 'object')\n",
       "        obj[key] = original[key]\n",
       "    return obj;\n",
       "  }, {});\n",
       "}\n",
       "\n",
       "mpl.figure.prototype.mouse_event = function(event, name) {\n",
       "    var canvas_pos = mpl.findpos(event)\n",
       "\n",
       "    if (name === 'button_press')\n",
       "    {\n",
       "        this.canvas.focus();\n",
       "        this.canvas_div.focus();\n",
       "    }\n",
       "\n",
       "    var x = canvas_pos.x * mpl.ratio;\n",
       "    var y = canvas_pos.y * mpl.ratio;\n",
       "\n",
       "    this.send_message(name, {x: x, y: y, button: event.button,\n",
       "                             step: event.step,\n",
       "                             guiEvent: simpleKeys(event)});\n",
       "\n",
       "    /* This prevents the web browser from automatically changing to\n",
       "     * the text insertion cursor when the button is pressed.  We want\n",
       "     * to control all of the cursor setting manually through the\n",
       "     * 'cursor' event from matplotlib */\n",
       "    event.preventDefault();\n",
       "    return false;\n",
       "}\n",
       "\n",
       "mpl.figure.prototype._key_event_extra = function(event, name) {\n",
       "    // Handle any extra behaviour associated with a key event\n",
       "}\n",
       "\n",
       "mpl.figure.prototype.key_event = function(event, name) {\n",
       "\n",
       "    // Prevent repeat events\n",
       "    if (name == 'key_press')\n",
       "    {\n",
       "        if (event.which === this._key)\n",
       "            return;\n",
       "        else\n",
       "            this._key = event.which;\n",
       "    }\n",
       "    if (name == 'key_release')\n",
       "        this._key = null;\n",
       "\n",
       "    var value = '';\n",
       "    if (event.ctrlKey && event.which != 17)\n",
       "        value += \"ctrl+\";\n",
       "    if (event.altKey && event.which != 18)\n",
       "        value += \"alt+\";\n",
       "    if (event.shiftKey && event.which != 16)\n",
       "        value += \"shift+\";\n",
       "\n",
       "    value += 'k';\n",
       "    value += event.which.toString();\n",
       "\n",
       "    this._key_event_extra(event, name);\n",
       "\n",
       "    this.send_message(name, {key: value,\n",
       "                             guiEvent: simpleKeys(event)});\n",
       "    return false;\n",
       "}\n",
       "\n",
       "mpl.figure.prototype.toolbar_button_onclick = function(name) {\n",
       "    if (name == 'download') {\n",
       "        this.handle_save(this, null);\n",
       "    } else {\n",
       "        this.send_message(\"toolbar_button\", {name: name});\n",
       "    }\n",
       "};\n",
       "\n",
       "mpl.figure.prototype.toolbar_button_onmouseover = function(tooltip) {\n",
       "    this.message.textContent = tooltip;\n",
       "};\n",
       "mpl.toolbar_items = [[\"Home\", \"Reset original view\", \"fa fa-home icon-home\", \"home\"], [\"Back\", \"Back to previous view\", \"fa fa-arrow-left icon-arrow-left\", \"back\"], [\"Forward\", \"Forward to next view\", \"fa fa-arrow-right icon-arrow-right\", \"forward\"], [\"\", \"\", \"\", \"\"], [\"Pan\", \"Pan axes with left mouse, zoom with right\", \"fa fa-arrows icon-move\", \"pan\"], [\"Zoom\", \"Zoom to rectangle\", \"fa fa-square-o icon-check-empty\", \"zoom\"], [\"\", \"\", \"\", \"\"], [\"Download\", \"Download plot\", \"fa fa-floppy-o icon-save\", \"download\"]];\n",
       "\n",
       "mpl.extensions = [\"eps\", \"jpeg\", \"pdf\", \"png\", \"ps\", \"raw\", \"svg\", \"tif\"];\n",
       "\n",
       "mpl.default_extension = \"png\";var comm_websocket_adapter = function(comm) {\n",
       "    // Create a \"websocket\"-like object which calls the given IPython comm\n",
       "    // object with the appropriate methods. Currently this is a non binary\n",
       "    // socket, so there is still some room for performance tuning.\n",
       "    var ws = {};\n",
       "\n",
       "    ws.close = function() {\n",
       "        comm.close()\n",
       "    };\n",
       "    ws.send = function(m) {\n",
       "        //console.log('sending', m);\n",
       "        comm.send(m);\n",
       "    };\n",
       "    // Register the callback with on_msg.\n",
       "    comm.on_msg(function(msg) {\n",
       "        //console.log('receiving', msg['content']['data'], msg);\n",
       "        // Pass the mpl event to the overridden (by mpl) onmessage function.\n",
       "        ws.onmessage(msg['content']['data'])\n",
       "    });\n",
       "    return ws;\n",
       "}\n",
       "\n",
       "mpl.mpl_figure_comm = function(comm, msg) {\n",
       "    // This is the function which gets called when the mpl process\n",
       "    // starts-up an IPython Comm through the \"matplotlib\" channel.\n",
       "\n",
       "    var id = msg.content.data.id;\n",
       "    // Get hold of the div created by the display call when the Comm\n",
       "    // socket was opened in Python.\n",
       "    var element = $(\"#\" + id);\n",
       "    var ws_proxy = comm_websocket_adapter(comm)\n",
       "\n",
       "    function ondownload(figure, format) {\n",
       "        window.open(figure.imageObj.src);\n",
       "    }\n",
       "\n",
       "    var fig = new mpl.figure(id, ws_proxy,\n",
       "                           ondownload,\n",
       "                           element.get(0));\n",
       "\n",
       "    // Call onopen now - mpl needs it, as it is assuming we've passed it a real\n",
       "    // web socket which is closed, not our websocket->open comm proxy.\n",
       "    ws_proxy.onopen();\n",
       "\n",
       "    fig.parent_element = element.get(0);\n",
       "    fig.cell_info = mpl.find_output_cell(\"<div id='\" + id + \"'></div>\");\n",
       "    if (!fig.cell_info) {\n",
       "        console.error(\"Failed to find cell for figure\", id, fig);\n",
       "        return;\n",
       "    }\n",
       "\n",
       "    var output_index = fig.cell_info[2]\n",
       "    var cell = fig.cell_info[0];\n",
       "\n",
       "};\n",
       "\n",
       "mpl.figure.prototype.handle_close = function(fig, msg) {\n",
       "    var width = fig.canvas.width/mpl.ratio\n",
       "    fig.root.unbind('remove')\n",
       "\n",
       "    // Update the output cell to use the data from the current canvas.\n",
       "    fig.push_to_output();\n",
       "    var dataURL = fig.canvas.toDataURL();\n",
       "    // Re-enable the keyboard manager in IPython - without this line, in FF,\n",
       "    // the notebook keyboard shortcuts fail.\n",
       "    IPython.keyboard_manager.enable()\n",
       "    $(fig.parent_element).html('<img src=\"' + dataURL + '\" width=\"' + width + '\">');\n",
       "    fig.close_ws(fig, msg);\n",
       "}\n",
       "\n",
       "mpl.figure.prototype.close_ws = function(fig, msg){\n",
       "    fig.send_message('closing', msg);\n",
       "    // fig.ws.close()\n",
       "}\n",
       "\n",
       "mpl.figure.prototype.push_to_output = function(remove_interactive) {\n",
       "    // Turn the data on the canvas into data in the output cell.\n",
       "    var width = this.canvas.width/mpl.ratio\n",
       "    var dataURL = this.canvas.toDataURL();\n",
       "    this.cell_info[1]['text/html'] = '<img src=\"' + dataURL + '\" width=\"' + width + '\">';\n",
       "}\n",
       "\n",
       "mpl.figure.prototype.updated_canvas_event = function() {\n",
       "    // Tell IPython that the notebook contents must change.\n",
       "    IPython.notebook.set_dirty(true);\n",
       "    this.send_message(\"ack\", {});\n",
       "    var fig = this;\n",
       "    // Wait a second, then push the new image to the DOM so\n",
       "    // that it is saved nicely (might be nice to debounce this).\n",
       "    setTimeout(function () { fig.push_to_output() }, 1000);\n",
       "}\n",
       "\n",
       "mpl.figure.prototype._init_toolbar = function() {\n",
       "    var fig = this;\n",
       "\n",
       "    var nav_element = $('<div/>');\n",
       "    nav_element.attr('style', 'width: 100%');\n",
       "    this.root.append(nav_element);\n",
       "\n",
       "    // Define a callback function for later on.\n",
       "    function toolbar_event(event) {\n",
       "        return fig.toolbar_button_onclick(event['data']);\n",
       "    }\n",
       "    function toolbar_mouse_event(event) {\n",
       "        return fig.toolbar_button_onmouseover(event['data']);\n",
       "    }\n",
       "\n",
       "    for(var toolbar_ind in mpl.toolbar_items){\n",
       "        var name = mpl.toolbar_items[toolbar_ind][0];\n",
       "        var tooltip = mpl.toolbar_items[toolbar_ind][1];\n",
       "        var image = mpl.toolbar_items[toolbar_ind][2];\n",
       "        var method_name = mpl.toolbar_items[toolbar_ind][3];\n",
       "\n",
       "        if (!name) { continue; };\n",
       "\n",
       "        var button = $('<button class=\"btn btn-default\" href=\"#\" title=\"' + name + '\"><i class=\"fa ' + image + ' fa-lg\"></i></button>');\n",
       "        button.click(method_name, toolbar_event);\n",
       "        button.mouseover(tooltip, toolbar_mouse_event);\n",
       "        nav_element.append(button);\n",
       "    }\n",
       "\n",
       "    // Add the status bar.\n",
       "    var status_bar = $('<span class=\"mpl-message\" style=\"text-align:right; float: right;\"/>');\n",
       "    nav_element.append(status_bar);\n",
       "    this.message = status_bar[0];\n",
       "\n",
       "    // Add the close button to the window.\n",
       "    var buttongrp = $('<div class=\"btn-group inline pull-right\"></div>');\n",
       "    var button = $('<button class=\"btn btn-mini btn-primary\" href=\"#\" title=\"Stop Interaction\"><i class=\"fa fa-power-off icon-remove icon-large\"></i></button>');\n",
       "    button.click(function (evt) { fig.handle_close(fig, {}); } );\n",
       "    button.mouseover('Stop Interaction', toolbar_mouse_event);\n",
       "    buttongrp.append(button);\n",
       "    var titlebar = this.root.find($('.ui-dialog-titlebar'));\n",
       "    titlebar.prepend(buttongrp);\n",
       "}\n",
       "\n",
       "mpl.figure.prototype._root_extra_style = function(el){\n",
       "    var fig = this\n",
       "    el.on(\"remove\", function(){\n",
       "\tfig.close_ws(fig, {});\n",
       "    });\n",
       "}\n",
       "\n",
       "mpl.figure.prototype._canvas_extra_style = function(el){\n",
       "    // this is important to make the div 'focusable\n",
       "    el.attr('tabindex', 0)\n",
       "    // reach out to IPython and tell the keyboard manager to turn it's self\n",
       "    // off when our div gets focus\n",
       "\n",
       "    // location in version 3\n",
       "    if (IPython.notebook.keyboard_manager) {\n",
       "        IPython.notebook.keyboard_manager.register_events(el);\n",
       "    }\n",
       "    else {\n",
       "        // location in version 2\n",
       "        IPython.keyboard_manager.register_events(el);\n",
       "    }\n",
       "\n",
       "}\n",
       "\n",
       "mpl.figure.prototype._key_event_extra = function(event, name) {\n",
       "    var manager = IPython.notebook.keyboard_manager;\n",
       "    if (!manager)\n",
       "        manager = IPython.keyboard_manager;\n",
       "\n",
       "    // Check for shift+enter\n",
       "    if (event.shiftKey && event.which == 13) {\n",
       "        this.canvas_div.blur();\n",
       "        // select the cell after this one\n",
       "        var index = IPython.notebook.find_cell_index(this.cell_info[0]);\n",
       "        IPython.notebook.select(index + 1);\n",
       "    }\n",
       "}\n",
       "\n",
       "mpl.figure.prototype.handle_save = function(fig, msg) {\n",
       "    fig.ondownload(fig, null);\n",
       "}\n",
       "\n",
       "\n",
       "mpl.find_output_cell = function(html_output) {\n",
       "    // Return the cell and output element which can be found *uniquely* in the notebook.\n",
       "    // Note - this is a bit hacky, but it is done because the \"notebook_saving.Notebook\"\n",
       "    // IPython event is triggered only after the cells have been serialised, which for\n",
       "    // our purposes (turning an active figure into a static one), is too late.\n",
       "    var cells = IPython.notebook.get_cells();\n",
       "    var ncells = cells.length;\n",
       "    for (var i=0; i<ncells; i++) {\n",
       "        var cell = cells[i];\n",
       "        if (cell.cell_type === 'code'){\n",
       "            for (var j=0; j<cell.output_area.outputs.length; j++) {\n",
       "                var data = cell.output_area.outputs[j];\n",
       "                if (data.data) {\n",
       "                    // IPython >= 3 moved mimebundle to data attribute of output\n",
       "                    data = data.data;\n",
       "                }\n",
       "                if (data['text/html'] == html_output) {\n",
       "                    return [cell, data, j];\n",
       "                }\n",
       "            }\n",
       "        }\n",
       "    }\n",
       "}\n",
       "\n",
       "// Register the function which deals with the matplotlib target/channel.\n",
       "// The kernel may be null if the page has been refreshed.\n",
       "if (IPython.notebook.kernel != null) {\n",
       "    IPython.notebook.kernel.comm_manager.register_target('matplotlib', mpl.mpl_figure_comm);\n",
       "}\n"
      ],
      "text/plain": [
       "<IPython.core.display.Javascript object>"
      ]
     },
     "metadata": {},
     "output_type": "display_data"
    },
    {
     "data": {
      "text/html": [
       "<img src=\"data:image/png;base64,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\" width=\"720\">"
      ],
      "text/plain": [
       "<IPython.core.display.HTML object>"
      ]
     },
     "metadata": {},
     "output_type": "display_data"
    },
    {
     "data": {
      "text/plain": [
       "[]"
      ]
     },
     "execution_count": 39,
     "metadata": {},
     "output_type": "execute_result"
    }
   ],
   "source": [
    "fig = plt.figure(figsize=(10, 10))\n",
    "ax = plt.axes(projection='3d')\n",
    "ax.scatter3D(X[0], X[1], Y)\n",
    "ax.set_xlabel('X0 Values')\n",
    "ax.set_ylabel('X1 Values')\n",
    "ax.set_zlabel('Y Values')\n",
    "\n",
    "\n",
    "ax.set_xticks([])\n",
    "ax.set_yticks([])\n",
    "ax.set_zticks([])"
   ]
  },
  {
   "cell_type": "code",
   "execution_count": 4,
   "metadata": {},
   "outputs": [
    {
     "ename": "TypeError",
     "evalue": "can't multiply sequence by non-int of type 'float'",
     "output_type": "error",
     "traceback": [
      "\u001b[1;31m---------------------------------------------------------------------------\u001b[0m",
      "\u001b[1;31mTypeError\u001b[0m                                 Traceback (most recent call last)",
      "\u001b[1;32m<ipython-input-4-faf99de41f3c>\u001b[0m in \u001b[0;36m<module>\u001b[1;34m\u001b[0m\n\u001b[0;32m      3\u001b[0m \u001b[0mm\u001b[0m \u001b[1;33m=\u001b[0m \u001b[1;36m100\u001b[0m\u001b[1;33m\u001b[0m\u001b[1;33m\u001b[0m\u001b[0m\n\u001b[0;32m      4\u001b[0m \u001b[0mxs\u001b[0m\u001b[1;33m.\u001b[0m\u001b[0mappend\u001b[0m\u001b[1;33m(\u001b[0m\u001b[1;33m[\u001b[0m\u001b[1;33m(\u001b[0m\u001b[1;36m5\u001b[0m \u001b[1;33m*\u001b[0m \u001b[0mnp\u001b[0m\u001b[1;33m.\u001b[0m\u001b[0mrandom\u001b[0m\u001b[1;33m.\u001b[0m\u001b[0mrand\u001b[0m\u001b[1;33m(\u001b[0m\u001b[0mm\u001b[0m\u001b[1;33m,\u001b[0m \u001b[1;36m1\u001b[0m\u001b[1;33m)\u001b[0m \u001b[1;33m-\u001b[0m \u001b[1;36m2\u001b[0m\u001b[1;33m)\u001b[0m \u001b[1;32mfor\u001b[0m \u001b[0mi\u001b[0m \u001b[1;32min\u001b[0m \u001b[0mrange\u001b[0m\u001b[1;33m(\u001b[0m\u001b[1;36m100\u001b[0m\u001b[1;33m)\u001b[0m\u001b[1;33m]\u001b[0m\u001b[1;33m)\u001b[0m\u001b[1;33m\u001b[0m\u001b[1;33m\u001b[0m\u001b[0m\n\u001b[1;32m----> 5\u001b[1;33m \u001b[0mys\u001b[0m\u001b[1;33m.\u001b[0m\u001b[0mappend\u001b[0m\u001b[1;33m(\u001b[0m\u001b[1;33m[\u001b[0m\u001b[1;36m0.2\u001b[0m\u001b[1;33m*\u001b[0m\u001b[0mx\u001b[0m \u001b[1;33m+\u001b[0m \u001b[1;36m0.5\u001b[0m\u001b[1;33m*\u001b[0m\u001b[0mx\u001b[0m\u001b[1;33m**\u001b[0m\u001b[1;36m2\u001b[0m \u001b[1;32mfor\u001b[0m \u001b[0mx\u001b[0m \u001b[1;32min\u001b[0m \u001b[0mxs\u001b[0m\u001b[1;33m]\u001b[0m\u001b[1;33m)\u001b[0m\u001b[1;33m\u001b[0m\u001b[1;33m\u001b[0m\u001b[0m\n\u001b[0m",
      "\u001b[1;32m<ipython-input-4-faf99de41f3c>\u001b[0m in \u001b[0;36m<listcomp>\u001b[1;34m(.0)\u001b[0m\n\u001b[0;32m      3\u001b[0m \u001b[0mm\u001b[0m \u001b[1;33m=\u001b[0m \u001b[1;36m100\u001b[0m\u001b[1;33m\u001b[0m\u001b[1;33m\u001b[0m\u001b[0m\n\u001b[0;32m      4\u001b[0m \u001b[0mxs\u001b[0m\u001b[1;33m.\u001b[0m\u001b[0mappend\u001b[0m\u001b[1;33m(\u001b[0m\u001b[1;33m[\u001b[0m\u001b[1;33m(\u001b[0m\u001b[1;36m5\u001b[0m \u001b[1;33m*\u001b[0m \u001b[0mnp\u001b[0m\u001b[1;33m.\u001b[0m\u001b[0mrandom\u001b[0m\u001b[1;33m.\u001b[0m\u001b[0mrand\u001b[0m\u001b[1;33m(\u001b[0m\u001b[0mm\u001b[0m\u001b[1;33m,\u001b[0m \u001b[1;36m1\u001b[0m\u001b[1;33m)\u001b[0m \u001b[1;33m-\u001b[0m \u001b[1;36m2\u001b[0m\u001b[1;33m)\u001b[0m \u001b[1;32mfor\u001b[0m \u001b[0mi\u001b[0m \u001b[1;32min\u001b[0m \u001b[0mrange\u001b[0m\u001b[1;33m(\u001b[0m\u001b[1;36m100\u001b[0m\u001b[1;33m)\u001b[0m\u001b[1;33m]\u001b[0m\u001b[1;33m)\u001b[0m\u001b[1;33m\u001b[0m\u001b[1;33m\u001b[0m\u001b[0m\n\u001b[1;32m----> 5\u001b[1;33m \u001b[0mys\u001b[0m\u001b[1;33m.\u001b[0m\u001b[0mappend\u001b[0m\u001b[1;33m(\u001b[0m\u001b[1;33m[\u001b[0m\u001b[1;36m0.2\u001b[0m\u001b[1;33m*\u001b[0m\u001b[0mx\u001b[0m \u001b[1;33m+\u001b[0m \u001b[1;36m0.5\u001b[0m\u001b[1;33m*\u001b[0m\u001b[0mx\u001b[0m\u001b[1;33m**\u001b[0m\u001b[1;36m2\u001b[0m \u001b[1;32mfor\u001b[0m \u001b[0mx\u001b[0m \u001b[1;32min\u001b[0m \u001b[0mxs\u001b[0m\u001b[1;33m]\u001b[0m\u001b[1;33m)\u001b[0m\u001b[1;33m\u001b[0m\u001b[1;33m\u001b[0m\u001b[0m\n\u001b[0m",
      "\u001b[1;31mTypeError\u001b[0m: can't multiply sequence by non-int of type 'float'"
     ]
    }
   ],
   "source": [
    "xs = []\n",
    "ys = []\n",
    "m = 100\n",
    "xs.append([(5 * np.random.rand(m, 1) - 2) for i in range(100)])\n",
    "ys.append([0.2*x + 0.5*x**2 for x in xs])"
   ]
  },
  {
   "cell_type": "code",
   "execution_count": 93,
   "metadata": {},
   "outputs": [],
   "source": [
    "import pandas as pd"
   ]
  },
  {
   "cell_type": "code",
   "execution_count": 94,
   "metadata": {},
   "outputs": [],
   "source": [
    "url = 'housing.csv'\n",
    "df = pd.read_csv(url)"
   ]
  },
  {
   "cell_type": "code",
   "execution_count": 95,
   "metadata": {},
   "outputs": [
    {
     "data": {
      "text/html": [
       "<div>\n",
       "<style scoped>\n",
       "    .dataframe tbody tr th:only-of-type {\n",
       "        vertical-align: middle;\n",
       "    }\n",
       "\n",
       "    .dataframe tbody tr th {\n",
       "        vertical-align: top;\n",
       "    }\n",
       "\n",
       "    .dataframe thead th {\n",
       "        text-align: right;\n",
       "    }\n",
       "</style>\n",
       "<table border=\"1\" class=\"dataframe\">\n",
       "  <thead>\n",
       "    <tr style=\"text-align: right;\">\n",
       "      <th></th>\n",
       "      <th>Id</th>\n",
       "      <th>MSSubClass</th>\n",
       "      <th>MSZoning</th>\n",
       "      <th>LotFrontage</th>\n",
       "      <th>LotArea</th>\n",
       "      <th>Street</th>\n",
       "      <th>Alley</th>\n",
       "      <th>LotShape</th>\n",
       "      <th>LandContour</th>\n",
       "      <th>Utilities</th>\n",
       "      <th>...</th>\n",
       "      <th>PoolArea</th>\n",
       "      <th>PoolQC</th>\n",
       "      <th>Fence</th>\n",
       "      <th>MiscFeature</th>\n",
       "      <th>MiscVal</th>\n",
       "      <th>MoSold</th>\n",
       "      <th>YrSold</th>\n",
       "      <th>SaleType</th>\n",
       "      <th>SaleCondition</th>\n",
       "      <th>SalePrice</th>\n",
       "    </tr>\n",
       "  </thead>\n",
       "  <tbody>\n",
       "    <tr>\n",
       "      <th>0</th>\n",
       "      <td>1</td>\n",
       "      <td>60</td>\n",
       "      <td>RL</td>\n",
       "      <td>65.0</td>\n",
       "      <td>8450</td>\n",
       "      <td>Pave</td>\n",
       "      <td>NaN</td>\n",
       "      <td>Reg</td>\n",
       "      <td>Lvl</td>\n",
       "      <td>AllPub</td>\n",
       "      <td>...</td>\n",
       "      <td>0</td>\n",
       "      <td>NaN</td>\n",
       "      <td>NaN</td>\n",
       "      <td>NaN</td>\n",
       "      <td>0</td>\n",
       "      <td>2</td>\n",
       "      <td>2008</td>\n",
       "      <td>WD</td>\n",
       "      <td>Normal</td>\n",
       "      <td>208500</td>\n",
       "    </tr>\n",
       "    <tr>\n",
       "      <th>1</th>\n",
       "      <td>2</td>\n",
       "      <td>20</td>\n",
       "      <td>RL</td>\n",
       "      <td>80.0</td>\n",
       "      <td>9600</td>\n",
       "      <td>Pave</td>\n",
       "      <td>NaN</td>\n",
       "      <td>Reg</td>\n",
       "      <td>Lvl</td>\n",
       "      <td>AllPub</td>\n",
       "      <td>...</td>\n",
       "      <td>0</td>\n",
       "      <td>NaN</td>\n",
       "      <td>NaN</td>\n",
       "      <td>NaN</td>\n",
       "      <td>0</td>\n",
       "      <td>5</td>\n",
       "      <td>2007</td>\n",
       "      <td>WD</td>\n",
       "      <td>Normal</td>\n",
       "      <td>181500</td>\n",
       "    </tr>\n",
       "    <tr>\n",
       "      <th>2</th>\n",
       "      <td>3</td>\n",
       "      <td>60</td>\n",
       "      <td>RL</td>\n",
       "      <td>68.0</td>\n",
       "      <td>11250</td>\n",
       "      <td>Pave</td>\n",
       "      <td>NaN</td>\n",
       "      <td>IR1</td>\n",
       "      <td>Lvl</td>\n",
       "      <td>AllPub</td>\n",
       "      <td>...</td>\n",
       "      <td>0</td>\n",
       "      <td>NaN</td>\n",
       "      <td>NaN</td>\n",
       "      <td>NaN</td>\n",
       "      <td>0</td>\n",
       "      <td>9</td>\n",
       "      <td>2008</td>\n",
       "      <td>WD</td>\n",
       "      <td>Normal</td>\n",
       "      <td>223500</td>\n",
       "    </tr>\n",
       "    <tr>\n",
       "      <th>3</th>\n",
       "      <td>4</td>\n",
       "      <td>70</td>\n",
       "      <td>RL</td>\n",
       "      <td>60.0</td>\n",
       "      <td>9550</td>\n",
       "      <td>Pave</td>\n",
       "      <td>NaN</td>\n",
       "      <td>IR1</td>\n",
       "      <td>Lvl</td>\n",
       "      <td>AllPub</td>\n",
       "      <td>...</td>\n",
       "      <td>0</td>\n",
       "      <td>NaN</td>\n",
       "      <td>NaN</td>\n",
       "      <td>NaN</td>\n",
       "      <td>0</td>\n",
       "      <td>2</td>\n",
       "      <td>2006</td>\n",
       "      <td>WD</td>\n",
       "      <td>Abnorml</td>\n",
       "      <td>140000</td>\n",
       "    </tr>\n",
       "    <tr>\n",
       "      <th>4</th>\n",
       "      <td>5</td>\n",
       "      <td>60</td>\n",
       "      <td>RL</td>\n",
       "      <td>84.0</td>\n",
       "      <td>14260</td>\n",
       "      <td>Pave</td>\n",
       "      <td>NaN</td>\n",
       "      <td>IR1</td>\n",
       "      <td>Lvl</td>\n",
       "      <td>AllPub</td>\n",
       "      <td>...</td>\n",
       "      <td>0</td>\n",
       "      <td>NaN</td>\n",
       "      <td>NaN</td>\n",
       "      <td>NaN</td>\n",
       "      <td>0</td>\n",
       "      <td>12</td>\n",
       "      <td>2008</td>\n",
       "      <td>WD</td>\n",
       "      <td>Normal</td>\n",
       "      <td>250000</td>\n",
       "    </tr>\n",
       "    <tr>\n",
       "      <th>...</th>\n",
       "      <td>...</td>\n",
       "      <td>...</td>\n",
       "      <td>...</td>\n",
       "      <td>...</td>\n",
       "      <td>...</td>\n",
       "      <td>...</td>\n",
       "      <td>...</td>\n",
       "      <td>...</td>\n",
       "      <td>...</td>\n",
       "      <td>...</td>\n",
       "      <td>...</td>\n",
       "      <td>...</td>\n",
       "      <td>...</td>\n",
       "      <td>...</td>\n",
       "      <td>...</td>\n",
       "      <td>...</td>\n",
       "      <td>...</td>\n",
       "      <td>...</td>\n",
       "      <td>...</td>\n",
       "      <td>...</td>\n",
       "      <td>...</td>\n",
       "    </tr>\n",
       "    <tr>\n",
       "      <th>1455</th>\n",
       "      <td>1456</td>\n",
       "      <td>60</td>\n",
       "      <td>RL</td>\n",
       "      <td>62.0</td>\n",
       "      <td>7917</td>\n",
       "      <td>Pave</td>\n",
       "      <td>NaN</td>\n",
       "      <td>Reg</td>\n",
       "      <td>Lvl</td>\n",
       "      <td>AllPub</td>\n",
       "      <td>...</td>\n",
       "      <td>0</td>\n",
       "      <td>NaN</td>\n",
       "      <td>NaN</td>\n",
       "      <td>NaN</td>\n",
       "      <td>0</td>\n",
       "      <td>8</td>\n",
       "      <td>2007</td>\n",
       "      <td>WD</td>\n",
       "      <td>Normal</td>\n",
       "      <td>175000</td>\n",
       "    </tr>\n",
       "    <tr>\n",
       "      <th>1456</th>\n",
       "      <td>1457</td>\n",
       "      <td>20</td>\n",
       "      <td>RL</td>\n",
       "      <td>85.0</td>\n",
       "      <td>13175</td>\n",
       "      <td>Pave</td>\n",
       "      <td>NaN</td>\n",
       "      <td>Reg</td>\n",
       "      <td>Lvl</td>\n",
       "      <td>AllPub</td>\n",
       "      <td>...</td>\n",
       "      <td>0</td>\n",
       "      <td>NaN</td>\n",
       "      <td>MnPrv</td>\n",
       "      <td>NaN</td>\n",
       "      <td>0</td>\n",
       "      <td>2</td>\n",
       "      <td>2010</td>\n",
       "      <td>WD</td>\n",
       "      <td>Normal</td>\n",
       "      <td>210000</td>\n",
       "    </tr>\n",
       "    <tr>\n",
       "      <th>1457</th>\n",
       "      <td>1458</td>\n",
       "      <td>70</td>\n",
       "      <td>RL</td>\n",
       "      <td>66.0</td>\n",
       "      <td>9042</td>\n",
       "      <td>Pave</td>\n",
       "      <td>NaN</td>\n",
       "      <td>Reg</td>\n",
       "      <td>Lvl</td>\n",
       "      <td>AllPub</td>\n",
       "      <td>...</td>\n",
       "      <td>0</td>\n",
       "      <td>NaN</td>\n",
       "      <td>GdPrv</td>\n",
       "      <td>Shed</td>\n",
       "      <td>2500</td>\n",
       "      <td>5</td>\n",
       "      <td>2010</td>\n",
       "      <td>WD</td>\n",
       "      <td>Normal</td>\n",
       "      <td>266500</td>\n",
       "    </tr>\n",
       "    <tr>\n",
       "      <th>1458</th>\n",
       "      <td>1459</td>\n",
       "      <td>20</td>\n",
       "      <td>RL</td>\n",
       "      <td>68.0</td>\n",
       "      <td>9717</td>\n",
       "      <td>Pave</td>\n",
       "      <td>NaN</td>\n",
       "      <td>Reg</td>\n",
       "      <td>Lvl</td>\n",
       "      <td>AllPub</td>\n",
       "      <td>...</td>\n",
       "      <td>0</td>\n",
       "      <td>NaN</td>\n",
       "      <td>NaN</td>\n",
       "      <td>NaN</td>\n",
       "      <td>0</td>\n",
       "      <td>4</td>\n",
       "      <td>2010</td>\n",
       "      <td>WD</td>\n",
       "      <td>Normal</td>\n",
       "      <td>142125</td>\n",
       "    </tr>\n",
       "    <tr>\n",
       "      <th>1459</th>\n",
       "      <td>1460</td>\n",
       "      <td>20</td>\n",
       "      <td>RL</td>\n",
       "      <td>75.0</td>\n",
       "      <td>9937</td>\n",
       "      <td>Pave</td>\n",
       "      <td>NaN</td>\n",
       "      <td>Reg</td>\n",
       "      <td>Lvl</td>\n",
       "      <td>AllPub</td>\n",
       "      <td>...</td>\n",
       "      <td>0</td>\n",
       "      <td>NaN</td>\n",
       "      <td>NaN</td>\n",
       "      <td>NaN</td>\n",
       "      <td>0</td>\n",
       "      <td>6</td>\n",
       "      <td>2008</td>\n",
       "      <td>WD</td>\n",
       "      <td>Normal</td>\n",
       "      <td>147500</td>\n",
       "    </tr>\n",
       "  </tbody>\n",
       "</table>\n",
       "<p>1460 rows × 81 columns</p>\n",
       "</div>"
      ],
      "text/plain": [
       "        Id  MSSubClass MSZoning  LotFrontage  LotArea Street Alley LotShape  \\\n",
       "0        1          60       RL         65.0     8450   Pave   NaN      Reg   \n",
       "1        2          20       RL         80.0     9600   Pave   NaN      Reg   \n",
       "2        3          60       RL         68.0    11250   Pave   NaN      IR1   \n",
       "3        4          70       RL         60.0     9550   Pave   NaN      IR1   \n",
       "4        5          60       RL         84.0    14260   Pave   NaN      IR1   \n",
       "...    ...         ...      ...          ...      ...    ...   ...      ...   \n",
       "1455  1456          60       RL         62.0     7917   Pave   NaN      Reg   \n",
       "1456  1457          20       RL         85.0    13175   Pave   NaN      Reg   \n",
       "1457  1458          70       RL         66.0     9042   Pave   NaN      Reg   \n",
       "1458  1459          20       RL         68.0     9717   Pave   NaN      Reg   \n",
       "1459  1460          20       RL         75.0     9937   Pave   NaN      Reg   \n",
       "\n",
       "     LandContour Utilities  ... PoolArea PoolQC  Fence MiscFeature MiscVal  \\\n",
       "0            Lvl    AllPub  ...        0    NaN    NaN         NaN       0   \n",
       "1            Lvl    AllPub  ...        0    NaN    NaN         NaN       0   \n",
       "2            Lvl    AllPub  ...        0    NaN    NaN         NaN       0   \n",
       "3            Lvl    AllPub  ...        0    NaN    NaN         NaN       0   \n",
       "4            Lvl    AllPub  ...        0    NaN    NaN         NaN       0   \n",
       "...          ...       ...  ...      ...    ...    ...         ...     ...   \n",
       "1455         Lvl    AllPub  ...        0    NaN    NaN         NaN       0   \n",
       "1456         Lvl    AllPub  ...        0    NaN  MnPrv         NaN       0   \n",
       "1457         Lvl    AllPub  ...        0    NaN  GdPrv        Shed    2500   \n",
       "1458         Lvl    AllPub  ...        0    NaN    NaN         NaN       0   \n",
       "1459         Lvl    AllPub  ...        0    NaN    NaN         NaN       0   \n",
       "\n",
       "     MoSold YrSold  SaleType  SaleCondition  SalePrice  \n",
       "0         2   2008        WD         Normal     208500  \n",
       "1         5   2007        WD         Normal     181500  \n",
       "2         9   2008        WD         Normal     223500  \n",
       "3         2   2006        WD        Abnorml     140000  \n",
       "4        12   2008        WD         Normal     250000  \n",
       "...     ...    ...       ...            ...        ...  \n",
       "1455      8   2007        WD         Normal     175000  \n",
       "1456      2   2010        WD         Normal     210000  \n",
       "1457      5   2010        WD         Normal     266500  \n",
       "1458      4   2010        WD         Normal     142125  \n",
       "1459      6   2008        WD         Normal     147500  \n",
       "\n",
       "[1460 rows x 81 columns]"
      ]
     },
     "execution_count": 95,
     "metadata": {},
     "output_type": "execute_result"
    }
   ],
   "source": [
    "df"
   ]
  },
  {
   "cell_type": "code",
   "execution_count": 96,
   "metadata": {},
   "outputs": [],
   "source": [
    "df_float = df.select_dtypes(include=['float64']).copy()"
   ]
  },
  {
   "cell_type": "code",
   "execution_count": 97,
   "metadata": {},
   "outputs": [],
   "source": [
    "df_float['LotFrontage'] = df['LotFrontage'].fillna(df['LotFrontage'].mean(), inplace=False)\n",
    "df_float['MasVnrArea'] = df['MasVnrArea'].fillna(df['MasVnrArea'].mean(), inplace=False)\n",
    "df_float['GarageYrBlt'] = df['GarageYrBlt'].fillna(df['GarageYrBlt'].mean(), inplace=False)"
   ]
  },
  {
   "cell_type": "code",
   "execution_count": 98,
   "metadata": {},
   "outputs": [],
   "source": [
    "frontage = df_float[['LotFrontage']]\n",
    "price = df['SalePrice']"
   ]
  },
  {
   "cell_type": "code",
   "execution_count": 66,
   "metadata": {},
   "outputs": [],
   "source": [
    "import matplotlib.pyplot as plt"
   ]
  },
  {
   "cell_type": "code",
   "execution_count": 67,
   "metadata": {},
   "outputs": [
    {
     "data": {
      "image/png": "[encoded data removed]",
      "text/plain": [
       "<Figure size 432x288 with 1 Axes>"
      ]
     },
     "metadata": {
      "needs_background": "light"
     },
     "output_type": "display_data"
    }
   ],
   "source": [
    "plt.scatter(frontage, price)\n",
    "plt.show();"
   ]
  },
  {
   "cell_type": "code",
   "execution_count": 23,
   "metadata": {},
   "outputs": [],
   "source": [
    "setas =  pd.DataFrame([df_float[['LotFrontage']],df['SalePrice']])"
   ]
  },
  {
   "cell_type": "code",
   "execution_count": 99,
   "metadata": {},
   "outputs": [],
   "source": [
    "data = [frontage, price]\n",
    "headers = [\"frontage\", \"price\"]\n",
    "df3 = pd.concat(data, axis=1)"
   ]
  },
  {
   "cell_type": "code",
   "execution_count": 100,
   "metadata": {},
   "outputs": [],
   "source": [
    "df3.to_csv('housing_stripped.csv', index=False)"
   ]
  },
  {
   "cell_type": "code",
   "execution_count": 116,
   "metadata": {},
   "outputs": [],
   "source": [
    "url = 'housing_stripped.csv'\n",
    "data = pd.read_csv(url)\n",
    "xs = data['LotFrontage'].to_numpy()\n",
    "ys = data['SalePrice'].to_numpy()"
   ]
  },
  {
   "cell_type": "code",
   "execution_count": 119,
   "metadata": {},
   "outputs": [
    {
     "data": {
      "text/plain": [
       "(1460,)"
      ]
     },
     "execution_count": 119,
     "metadata": {},
     "output_type": "execute_result"
    }
   ],
   "source": [
    "ys.shape"
   ]
  },
  {
   "cell_type": "code",
   "execution_count": 109,
   "metadata": {},
   "outputs": [
    {
     "data": {
      "text/html": [
       "<div>\n",
       "<style scoped>\n",
       "    .dataframe tbody tr th:only-of-type {\n",
       "        vertical-align: middle;\n",
       "    }\n",
       "\n",
       "    .dataframe tbody tr th {\n",
       "        vertical-align: top;\n",
       "    }\n",
       "\n",
       "    .dataframe thead th {\n",
       "        text-align: right;\n",
       "    }\n",
       "</style>\n",
       "<table border=\"1\" class=\"dataframe\">\n",
       "  <thead>\n",
       "    <tr style=\"text-align: right;\">\n",
       "      <th></th>\n",
       "      <th>LotFrontage</th>\n",
       "      <th>SalePrice</th>\n",
       "    </tr>\n",
       "  </thead>\n",
       "  <tbody>\n",
       "    <tr>\n",
       "      <th>0</th>\n",
       "      <td>65.0</td>\n",
       "      <td>208500</td>\n",
       "    </tr>\n",
       "    <tr>\n",
       "      <th>1</th>\n",
       "      <td>80.0</td>\n",
       "      <td>181500</td>\n",
       "    </tr>\n",
       "    <tr>\n",
       "      <th>2</th>\n",
       "      <td>68.0</td>\n",
       "      <td>223500</td>\n",
       "    </tr>\n",
       "    <tr>\n",
       "      <th>3</th>\n",
       "      <td>60.0</td>\n",
       "      <td>140000</td>\n",
       "    </tr>\n",
       "    <tr>\n",
       "      <th>4</th>\n",
       "      <td>84.0</td>\n",
       "      <td>250000</td>\n",
       "    </tr>\n",
       "    <tr>\n",
       "      <th>...</th>\n",
       "      <td>...</td>\n",
       "      <td>...</td>\n",
       "    </tr>\n",
       "    <tr>\n",
       "      <th>1455</th>\n",
       "      <td>62.0</td>\n",
       "      <td>175000</td>\n",
       "    </tr>\n",
       "    <tr>\n",
       "      <th>1456</th>\n",
       "      <td>85.0</td>\n",
       "      <td>210000</td>\n",
       "    </tr>\n",
       "    <tr>\n",
       "      <th>1457</th>\n",
       "      <td>66.0</td>\n",
       "      <td>266500</td>\n",
       "    </tr>\n",
       "    <tr>\n",
       "      <th>1458</th>\n",
       "      <td>68.0</td>\n",
       "      <td>142125</td>\n",
       "    </tr>\n",
       "    <tr>\n",
       "      <th>1459</th>\n",
       "      <td>75.0</td>\n",
       "      <td>147500</td>\n",
       "    </tr>\n",
       "  </tbody>\n",
       "</table>\n",
       "<p>1460 rows × 2 columns</p>\n",
       "</div>"
      ],
      "text/plain": [
       "      LotFrontage  SalePrice\n",
       "0            65.0     208500\n",
       "1            80.0     181500\n",
       "2            68.0     223500\n",
       "3            60.0     140000\n",
       "4            84.0     250000\n",
       "...           ...        ...\n",
       "1455         62.0     175000\n",
       "1456         85.0     210000\n",
       "1457         66.0     266500\n",
       "1458         68.0     142125\n",
       "1459         75.0     147500\n",
       "\n",
       "[1460 rows x 2 columns]"
      ]
     },
     "execution_count": 109,
     "metadata": {},
     "output_type": "execute_result"
    }
   ],
   "source": [
    "frame"
   ]
  },
  {
   "cell_type": "code",
   "execution_count": 110,
   "metadata": {},
   "outputs": [],
   "source": []
  },
  {
   "cell_type": "code",
   "execution_count": 121,
   "metadata": {},
   "outputs": [
    {
     "data": {
      "text/plain": [
       "1460"
      ]
     },
     "execution_count": 121,
     "metadata": {},
     "output_type": "execute_result"
    }
   ],
   "source": [
    "xs.size"
   ]
  },
  {
   "cell_type": "code",
   "execution_count": 113,
   "metadata": {},
   "outputs": [],
   "source": [
    "ys = frame['SalePrice'].to_numpy()"
   ]
  },
  {
   "cell_type": "code",
   "execution_count": 120,
   "metadata": {},
   "outputs": [
    {
     "data": {
      "text/plain": [
       "1460"
      ]
     },
     "execution_count": 120,
     "metadata": {},
     "output_type": "execute_result"
    }
   ],
   "source": [
    "ys.size"
   ]
  },
  {
   "cell_type": "code",
   "execution_count": 122,
   "metadata": {},
   "outputs": [
    {
     "data": {
      "image/png": "[encoded data removed]",
      "text/plain": [
       "<Figure size 432x288 with 1 Axes>"
      ]
     },
     "metadata": {
      "needs_background": "light"
     },
     "output_type": "display_data"
    }
   ],
   "source": [
    "plt.scatter(xs, ys)\n",
    "plt.show();"
   ]
  },
  {
   "cell_type": "code",
   "execution_count": null,
   "metadata": {},
   "outputs": [],
   "source": []
  }
 ],
 "metadata": {
  "kernelspec": {
   "display_name": "Python 3.7.4 32-bit",
   "language": "python",
   "name": "python37432bitc856d1d617f0478da8cbf97a005d9730"
  },
  "language_info": {
   "codemirror_mode": {
    "name": "ipython",
    "version": 3
   },
   "file_extension": ".py",
   "mimetype": "text/x-python",
   "name": "python",
   "nbconvert_exporter": "python",
   "pygments_lexer": "ipython3",
   "version": "3.7.4"
  }
 },
 "nbformat": 4,
 "nbformat_minor": 2
}
