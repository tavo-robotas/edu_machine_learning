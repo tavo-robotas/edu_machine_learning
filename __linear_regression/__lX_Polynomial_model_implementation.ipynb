{
 "cells": [
  {
   "cell_type": "markdown",
   "metadata": {},
   "source": [
    "# Polynomial model implementation"
   ]
  },
  {
   "cell_type": "markdown",
   "metadata": {},
   "source": [
    "This is continuation of lecture [Polynomial model implementation](http://localhost:8888/notebooks/machine_learning/__linear_regression/__linear_regession_VI.ipynb) and [Metrics: RMSE, MAE, MSE, MAPE, MPE overview](http://localhost:8888/notebooks/machine_learning/__linear_regression/__linear_regression_VIII.ipynb)\n"
   ]
  },
  {
   "cell_type": "code",
   "execution_count": 1,
   "metadata": {},
   "outputs": [],
   "source": [
    "%matplotlib inline\n",
    "#%matplotlib notebook\n",
    "import sys\n",
    "import random\n",
    "import numpy as np\n",
    "import matplotlib.pyplot as plt\n",
    "from mpl_toolkits.mplot3d import Axes3D"
   ]
  },
  {
   "cell_type": "code",
   "execution_count": 2,
   "metadata": {},
   "outputs": [],
   "source": [
    "def generate_set(size):\n",
    "    return 6 * np.random.rand(size, 1) - 2"
   ]
  },
  {
   "cell_type": "code",
   "execution_count": 3,
   "metadata": {
    "scrolled": true
   },
   "outputs": [
    {
     "data": {
      "image/png": "[encoded data removed]",
      "text/plain": [
       "<Figure size 432x288 with 1 Axes>"
      ]
     },
     "metadata": {
      "needs_background": "light"
     },
     "output_type": "display_data"
    }
   ],
   "source": [
    "m = 50\n",
    "x = generate_set(m)\n",
    "theta = [0.7, 2]\n",
    "# 1, q, b, q^2, qb, b^2\n",
    "y = theta[0]*x**2 - theta[1]*x + 3 + np.random.randn(m, 1)\n",
    "\n",
    "# print(\n",
    "#     f'x set is: {x}'\n",
    "# )\n",
    "\n",
    "plt.plot(x, y, 'b+')\n",
    "plt.show()"
   ]
  },
  {
   "cell_type": "markdown",
   "metadata": {},
   "source": [
    "LinearRegression model method <code>**[fit()](https://scikit-learn.org/stable/modules/generated/sklearn.linear_model.LinearRegression.html#sklearn.linear_model.LinearRegression.fit)**</code> and <code>**[predict()](https://scikit-learn.org/stable/modules/generated/sklearn.linear_model.LinearRegression.html#sklearn.linear_model.LinearRegression.predict)**</code>"
   ]
  },
  {
   "cell_type": "code",
   "execution_count": 4,
   "metadata": {},
   "outputs": [
    {
     "data": {
      "text/plain": [
       "array([[ 0.64736281],\n",
       "       [ 0.05889845],\n",
       "       [-0.57285705],\n",
       "       [ 2.44045673],\n",
       "       [ 1.87521768],\n",
       "       [ 2.4380454 ],\n",
       "       [-0.89629963],\n",
       "       [-0.06279749],\n",
       "       [-1.9359773 ],\n",
       "       [ 0.82163955],\n",
       "       [ 2.26281972],\n",
       "       [ 3.9202675 ],\n",
       "       [ 2.72415272],\n",
       "       [-0.21511345],\n",
       "       [ 0.85713051],\n",
       "       [-1.54591311],\n",
       "       [ 2.34721057],\n",
       "       [-0.90884639],\n",
       "       [ 3.96528318],\n",
       "       [-0.106069  ],\n",
       "       [ 0.75025215],\n",
       "       [-0.90116994],\n",
       "       [ 3.37833606],\n",
       "       [-0.14359644],\n",
       "       [ 1.74176658],\n",
       "       [ 0.37447957],\n",
       "       [ 0.29616502],\n",
       "       [ 3.55908853],\n",
       "       [ 1.52584703],\n",
       "       [ 1.30225298],\n",
       "       [ 2.76374646],\n",
       "       [-1.24635963],\n",
       "       [ 1.85152431],\n",
       "       [ 3.63369221],\n",
       "       [ 1.11596554],\n",
       "       [ 2.81428445],\n",
       "       [-1.80261163],\n",
       "       [ 0.18903376],\n",
       "       [ 2.65956116],\n",
       "       [ 0.72314246],\n",
       "       [ 3.67217537],\n",
       "       [ 3.25886508],\n",
       "       [ 1.10612745],\n",
       "       [-0.33416914],\n",
       "       [ 1.96474147],\n",
       "       [-0.72808076],\n",
       "       [ 3.98483751],\n",
       "       [-0.66984505],\n",
       "       [ 1.62202442],\n",
       "       [ 1.91059731]])"
      ]
     },
     "execution_count": 4,
     "metadata": {},
     "output_type": "execute_result"
    }
   ],
   "source": [
    "x"
   ]
  },
  {
   "cell_type": "code",
   "execution_count": 5,
   "metadata": {},
   "outputs": [],
   "source": [
    "from sklearn.linear_model import LinearRegression\n",
    "from sklearn.preprocessing import PolynomialFeatures\n",
    "from sklearn.model_selection import train_test_split\n",
    "from sklearn.metrics import r2_score, mean_squared_error"
   ]
  },
  {
   "cell_type": "code",
   "execution_count": 6,
   "metadata": {},
   "outputs": [
    {
     "name": "stdout",
     "output_type": "stream",
     "text": [
      "RMSE: 1.855\n",
      "R2:   0.016\n"
     ]
    },
    {
     "data": {
      "image/png": "[encoded data removed]",
      "text/plain": [
       "<Figure size 432x288 with 1 Axes>"
      ]
     },
     "metadata": {
      "needs_background": "light"
     },
     "output_type": "display_data"
    }
   ],
   "source": [
    "m = LinearRegression()\n",
    "m.fit(x, y)\n",
    "y_preds = m.predict(x)\n",
    "\n",
    "print(\n",
    "    f'RMSE: {np.sqrt(mean_squared_error(y, y_preds)):.3f}\\n' \n",
    "    f'R2:   {r2_score(y, y_preds):.3f}'\n",
    ")\n",
    "\n",
    "plt.plot(x, y, 'b+')\n",
    "plt.plot(x, y_preds, 'r-')\n",
    "plt.show()"
   ]
  },
  {
   "cell_type": "code",
   "execution_count": 7,
   "metadata": {},
   "outputs": [
    {
     "data": {
      "text/plain": [
       "array([[ 0.64736281],\n",
       "       [ 0.05889845],\n",
       "       [-0.57285705],\n",
       "       [ 2.44045673],\n",
       "       [ 1.87521768],\n",
       "       [ 2.4380454 ],\n",
       "       [-0.89629963],\n",
       "       [-0.06279749],\n",
       "       [-1.9359773 ],\n",
       "       [ 0.82163955],\n",
       "       [ 2.26281972],\n",
       "       [ 3.9202675 ],\n",
       "       [ 2.72415272],\n",
       "       [-0.21511345],\n",
       "       [ 0.85713051],\n",
       "       [-1.54591311],\n",
       "       [ 2.34721057],\n",
       "       [-0.90884639],\n",
       "       [ 3.96528318],\n",
       "       [-0.106069  ],\n",
       "       [ 0.75025215],\n",
       "       [-0.90116994],\n",
       "       [ 3.37833606],\n",
       "       [-0.14359644],\n",
       "       [ 1.74176658],\n",
       "       [ 0.37447957],\n",
       "       [ 0.29616502],\n",
       "       [ 3.55908853],\n",
       "       [ 1.52584703],\n",
       "       [ 1.30225298],\n",
       "       [ 2.76374646],\n",
       "       [-1.24635963],\n",
       "       [ 1.85152431],\n",
       "       [ 3.63369221],\n",
       "       [ 1.11596554],\n",
       "       [ 2.81428445],\n",
       "       [-1.80261163],\n",
       "       [ 0.18903376],\n",
       "       [ 2.65956116],\n",
       "       [ 0.72314246],\n",
       "       [ 3.67217537],\n",
       "       [ 3.25886508],\n",
       "       [ 1.10612745],\n",
       "       [-0.33416914],\n",
       "       [ 1.96474147],\n",
       "       [-0.72808076],\n",
       "       [ 3.98483751],\n",
       "       [-0.66984505],\n",
       "       [ 1.62202442],\n",
       "       [ 1.91059731]])"
      ]
     },
     "execution_count": 7,
     "metadata": {},
     "output_type": "execute_result"
    }
   ],
   "source": [
    "x"
   ]
  },
  {
   "cell_type": "markdown",
   "metadata": {},
   "source": [
    "Lets discuss and implement \n",
    "<code>**[PolynomialFeatures()](https://scikit-learn.org/stable/modules/generated/sklearn.preprocessing.PolynomialFeatures.html)**</code> method and \n",
    "<code>**[fit_transform()](https://scikit-learn.org/stable/modules/generated/sklearn.preprocessing.PolynomialFeatures.html#sklearn.preprocessing.PolynomialFeatures.fit_transform)**</code> method \n",
    "\n",
    "PlynomialFeatures method will generate a new feature matrix consisting of all polynomial combinations of the features with degree less than or equal to the specified degree. "
   ]
  },
  {
   "cell_type": "code",
   "execution_count": 8,
   "metadata": {},
   "outputs": [
    {
     "name": "stdout",
     "output_type": "stream",
     "text": [
      "features we provide: [[2 4]] \n",
      "\n",
      "features that we get: [[ 1.  2.  4.  4.  8. 16.]]\n"
     ]
    }
   ],
   "source": [
    "\n",
    "A = np.array([\n",
    "    [2, 4]\n",
    "])\n",
    "\n",
    "# PolynomialFeatures default degree 2 \n",
    "poly = PolynomialFeatures()\n",
    "B = poly.fit_transform(A)\n",
    "\n",
    "print(f'features we provide: {A} \\n')\n",
    "print(f'features that we get: {B}')"
   ]
  },
  {
   "cell_type": "markdown",
   "metadata": {},
   "source": [
    "features [q, b] of the 2° polynomial features are going to be [1, q, b, q^2, qb, b^2]"
   ]
  },
  {
   "cell_type": "code",
   "execution_count": 9,
   "metadata": {},
   "outputs": [
    {
     "name": "stdout",
     "output_type": "stream",
     "text": [
      "[[1. 2. 4. 8.]]\n"
     ]
    }
   ],
   "source": [
    "poly = PolynomialFeatures(degree=4, interaction_only=True)\n",
    "C = poly.fit_transform(A)\n",
    "print(C)"
   ]
  },
  {
   "cell_type": "markdown",
   "metadata": {},
   "source": [
    "<code>**include_bias**</code> thats our extra column that corresponds for extra feature x_0 that always take value of 1, recap from lecture [__linear_regession_V - Computing parameters analytically](http://localhost:8888/notebooks/machine_learning/__linear_regression/__linear_regession_V.ipynb)"
   ]
  },
  {
   "cell_type": "code",
   "execution_count": 10,
   "metadata": {},
   "outputs": [
    {
     "data": {
      "text/plain": [
       "array([[2., 4., 8.]])"
      ]
     },
     "execution_count": 10,
     "metadata": {},
     "output_type": "execute_result"
    }
   ],
   "source": [
    "poly = PolynomialFeatures(interaction_only=True, include_bias=False)\n",
    "poly.fit_transform(A)"
   ]
  },
  {
   "cell_type": "markdown",
   "metadata": {},
   "source": [
    "Some of the attributes we are provided with"
   ]
  },
  {
   "cell_type": "code",
   "execution_count": 11,
   "metadata": {},
   "outputs": [
    {
     "name": "stdout",
     "output_type": "stream",
     "text": [
      "no of features we gave: 2\n",
      "\n",
      "how many features returned: 6\n"
     ]
    }
   ],
   "source": [
    "poly = PolynomialFeatures()\n",
    "poly.fit_transform(A)\n",
    "\n",
    "# print(f'{poly.powers_}\\n')\n",
    "print(f'no of features we gave: {poly.n_input_features_}\\n')\n",
    "print(f'how many features returned: {poly.n_output_features_}')"
   ]
  },
  {
   "cell_type": "code",
   "execution_count": 12,
   "metadata": {},
   "outputs": [
    {
     "name": "stdout",
     "output_type": "stream",
     "text": [
      "RMSE: 0.826\n",
      "R2:   0.805\n"
     ]
    },
    {
     "data": {
      "image/png": "[encoded data removed]",
      "text/plain": [
       "<Figure size 432x288 with 1 Axes>"
      ]
     },
     "metadata": {
      "needs_background": "light"
     },
     "output_type": "display_data"
    }
   ],
   "source": [
    "x_polynomial = PolynomialFeatures().fit_transform(x)\n",
    "\n",
    "# print(\n",
    "#     f'polynomials: {x_polynomial}\\n' \n",
    "# )\n",
    "\n",
    "model = LinearRegression()\n",
    "model.fit(x_polynomial, y)\n",
    "    \n",
    "y_predictions = model.predict(x_polynomial)\n",
    "\n",
    "print(\n",
    "    f'RMSE: {np.sqrt(mean_squared_error(y, y_predictions)):.3f}\\n' \n",
    "    f'R2:   {r2_score(y, y_predictions):.3f}'\n",
    ")\n",
    "\n",
    "plt.plot(x, y, 'b+')\n",
    "plt.plot(sorted(x[:, 0]), y_predictions[np.argsort(x[:, 0])], 'r')\n",
    "plt.show()\n",
    "\n",
    "# RMSE: 1.630\n",
    "# R2:   0.575\n",
    "    \n",
    "# RMSE: 0.975\n",
    "# R2:   0.848"
   ]
  },
  {
   "cell_type": "markdown",
   "metadata": {},
   "source": [
    "The performance boost is evident in both the performance metrics – <code>**RMSE**</code> has decreased and <code>**R2**</code> score has increased. The same thing is evident in the plot. Let’s take a few higher degree of polynomial features    2, 4, 8, 16, 32"
   ]
  },
  {
   "cell_type": "code",
   "execution_count": 13,
   "metadata": {},
   "outputs": [
    {
     "name": "stdout",
     "output_type": "stream",
     "text": [
      "Degree: 2\n",
      "RMSE:   0.826\n",
      "R2:     0.805\n",
      "-------------\n",
      "Degree: 4\n",
      "RMSE:   0.789\n",
      "R2:     0.822\n",
      "-------------\n",
      "Degree: 8\n",
      "RMSE:   0.782\n",
      "R2:     0.825\n",
      "-------------\n",
      "Degree: 16\n",
      "RMSE:   0.710\n",
      "R2:     0.856\n",
      "-------------\n",
      "Degree: 32\n",
      "RMSE:   1.091\n",
      "R2:     0.660\n",
      "-------------\n"
     ]
    },
    {
     "data": {
      "image/png": "[encoded data removed]",
      "text/plain": [
       "<Figure size 648x432 with 1 Axes>"
      ]
     },
     "metadata": {
      "needs_background": "light"
     },
     "output_type": "display_data"
    }
   ],
   "source": [
    "#%matplotlib notebook\n",
    "def get_preds(x, y, degree):\n",
    "    poly_feats = PolynomialFeatures(degree=degree, include_bias=False)\n",
    "    x_poly = poly_feats.fit_transform(x)\n",
    "    lr = LinearRegression()\n",
    "    lr.fit(x_poly, y)\n",
    "    return lr.predict(x_poly)\n",
    "\n",
    "degrees = [2,   4,   8,   16,   32]\n",
    "cs      = ['r', 'g', 'c', 'y', 'k']\n",
    "\n",
    "plt.figure(figsize=(9, 6))\n",
    "plt.plot(x, y, 'b+',)\n",
    "\n",
    "for degree, c in zip(degrees, cs):\n",
    "    y_preds = get_preds(x, y, degree)\n",
    "    plt.plot(sorted(x[:, 0]), y_preds[np.argsort(x[:, 0])], c, label='Degree: {}'.format(degree))\n",
    "    print(\n",
    "    f'Degree: {degree}\\n' \n",
    "    f'RMSE:   {np.sqrt(mean_squared_error(y, y_preds)):.3f}\\n' \n",
    "    f'R2:     {r2_score(y, y_preds):.3f}'\n",
    "    '\\n''-------------'\n",
    ")\n",
    "\n",
    "plt.legend()\n",
    "plt.show()"
   ]
  },
  {
   "cell_type": "markdown",
   "metadata": {},
   "source": [
    "Our model complexity was increased by the degree of polynomial features. We went from a bad model of degree 1, which has high bias <code>**underfits**</code>, to quite good model (degree 2) and then to another bad models (degree 16 or 32), which has high variance <code>**overfits**</code>. Thus we hurt performance and we need to make sure that with increased complexity we stays sane levels of performance, refer to <code>**[Big O notion](https://en.wikipedia.org/wiki/Big_O_notation)**</code><br>\n",
    "\n",
    "To get good generalization capabilities that perform well on unseen data we will work with learning curves to peek into performance metrics."
   ]
  },
  {
   "cell_type": "markdown",
   "metadata": {},
   "source": [
    "We can utilitze <code>**[sklearn pipeline module](https://scikit-learn.org/stable/modules/generated/sklearn.pipeline.Pipeline.html)**</code> for <code>**PolynomialFeatures and LinearRegression**</code> to group them into one single entity and perform in conjunction to each other"
   ]
  },
  {
   "cell_type": "code",
   "execution_count": 14,
   "metadata": {},
   "outputs": [],
   "source": [
    "from sklearn.pipeline import Pipeline"
   ]
  },
  {
   "cell_type": "code",
   "execution_count": 15,
   "metadata": {},
   "outputs": [
    {
     "data": {
      "image/png": "[encoded data removed]",
      "text/plain": [
       "<Figure size 432x288 with 1 Axes>"
      ]
     },
     "metadata": {
      "needs_background": "light"
     },
     "output_type": "display_data"
    }
   ],
   "source": [
    "model = Pipeline([\n",
    "    ('poly_features', PolynomialFeatures(degree=2, include_bias=False)),\n",
    "    ('lr', LinearRegression())\n",
    "])\n",
    "\n",
    "model.fit(x, y)\n",
    "y_pred = model.predict(x)\n",
    "\n",
    "plt.plot(x, y, 'b+', )\n",
    "plt.plot(sorted(x[:, 0]), y_pred[np.argsort(x[:, 0])], 'r')\n",
    "plt.show()"
   ]
  },
  {
   "cell_type": "markdown",
   "metadata": {},
   "source": [
    "## Metrics and learning curves\n",
    "\n",
    "Training and testing(a.k.a validation) loss"
   ]
  },
  {
   "cell_type": "code",
   "execution_count": 16,
   "metadata": {},
   "outputs": [
    {
     "data": {
      "image/png": "[encoded data removed]",
      "text/plain": [
       "<Figure size 1008x432 with 1 Axes>"
      ]
     },
     "metadata": {
      "needs_background": "light"
     },
     "output_type": "display_data"
    }
   ],
   "source": [
    "#%matplotlib notebook\n",
    "%matplotlib inline\n",
    "def plot_lcs(model, X, Y, val_split=0.2, metrics=mean_squared_error):\n",
    "    \n",
    "    x_train, x_test, y_train, y_test = train_test_split(X, Y, test_size=val_split)\n",
    "    \n",
    "    # collections of errors:\n",
    "    train_time_loss, test_time_loss = [], []\n",
    "    \n",
    "    # iterating over train size:\n",
    "    for train_size in range(1, len(x_train)):\n",
    "        # training\n",
    "        model.fit(x_train[:train_size], y_train[:train_size])\n",
    "        \n",
    "        # train and val predictions\n",
    "        train_preds = model.predict(x_train[:train_size])\n",
    "        test_preds = model.predict(x_test)\n",
    "        \n",
    "        # metrics calculation\n",
    "        train_time_loss.append(metrics(y_train[:train_size], train_preds))\n",
    "        test_time_loss.append(metrics(y_test, test_preds))\n",
    "        \n",
    "    # plotting curves\n",
    "    plt.plot(np.sqrt(train_time_loss), 'r-*', label='Train loss')\n",
    "    plt.plot(np.sqrt(test_time_loss), 'b-+', label='Test loss')\n",
    "    plt.ylabel('RMSE')\n",
    "    plt.xlabel('Training Set Size')\n",
    "\n",
    "plt.figure(figsize=(14, 6))\n",
    "plot_lcs(model, x, y)\n",
    "plt.legend()\n",
    "plt.show()"
   ]
  },
  {
   "cell_type": "markdown",
   "metadata": {},
   "source": [
    "Trying it with a model having polynomial features of degree 12 and lets see results."
   ]
  },
  {
   "cell_type": "markdown",
   "metadata": {},
   "source": [
    "Gap between <code>**testing loss**</code> curve and the <code>**training loss**</code> curve has increased. Along with this, its noticible that the loss for training set is much more lower than the test(a.k.a validation) set. These two generally are the symptoms of a high variance problem. It  displays that the model is <code>**overfitting the training data**</code> thereby performing poorly on new unseen data.\n",
    "\n",
    "The main take away question is :\n",
    "* 1 ) Are  there features in higher degree polynomials that are better describing our predictions than the features used in lower degree polynomials? \n",
    "\n",
    "* 2 ) And is there a way to regularize the overfitting aspect of a higher degree polynomial regression? "
   ]
  },
  {
   "cell_type": "markdown",
   "metadata": {},
   "source": [
    "## Concept of regularization \n",
    "\n",
    "Now the black magic begins :)"
   ]
  },
  {
   "cell_type": "code",
   "execution_count": null,
   "metadata": {},
   "outputs": [],
   "source": []
  },
  {
   "cell_type": "code",
   "execution_count": null,
   "metadata": {},
   "outputs": [],
   "source": [
    "#Regularization L1\n",
    "\n",
    "# from sklearn import linear_model\n",
    "# lasso_reg = linear_model.Lasso(alpha=5, max_iter=25, tol=0.05)\n",
    "# lasso_reg.fit(X_train, y_train)\n",
    "# accuracy_tr = lasso_reg.score(X_test, y_test)\n",
    "# accuracy_te = lasso_reg.score(X_train, y_train) \n",
    "# # Theta coefficients\n",
    "# coef  = lasso_reg.coef_ \n",
    "# # Interceptor\n",
    "# print(f'accuracy with tests: {accuracy_tr}')\n",
    "# print(f'accuracy with train: {accuracy_te}')\n",
    "# print(f'coef: {coef}') "
   ]
  },
  {
   "cell_type": "code",
   "execution_count": null,
   "metadata": {},
   "outputs": [],
   "source": []
  }
 ],
 "metadata": {
  "kernelspec": {
   "display_name": "Python 3.7.4 32-bit",
   "language": "python",
   "name": "python37432bitc856d1d617f0478da8cbf97a005d9730"
  },
  "language_info": {
   "codemirror_mode": {
    "name": "ipython",
    "version": 3
   },
   "file_extension": ".py",
   "mimetype": "text/x-python",
   "name": "python",
   "nbconvert_exporter": "python",
   "pygments_lexer": "ipython3",
   "version": "3.7.4"
  }
 },
 "nbformat": 4,
 "nbformat_minor": 4
}
