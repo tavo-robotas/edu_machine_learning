{
 "cells": [
  {
   "cell_type": "markdown",
   "metadata": {},
   "source": [
    "# Linear regression 0\n",
    "\n",
    "## Oridnary least squares regression"
   ]
  },
  {
   "cell_type": "code",
   "execution_count": 2,
   "metadata": {},
   "outputs": [
    {
     "data": {
      "application/javascript": [
       "alert(\"Js works\")\n"
      ],
      "text/plain": [
       "<IPython.core.display.Javascript object>"
      ]
     },
     "metadata": {},
     "output_type": "display_data"
    }
   ],
   "source": [
    "%%js\n",
    "alert(\"Js works\");"
   ]
  },
  {
   "cell_type": "code",
   "execution_count": 4,
   "metadata": {},
   "outputs": [
    {
     "data": {
      "application/javascript": [
       "var x = 5;\n",
       "var y = 6;\n",
       "var z = x + y;\n",
       "element.text(z)\n"
      ],
      "text/plain": [
       "<IPython.core.display.Javascript object>"
      ]
     },
     "metadata": {},
     "output_type": "display_data"
    }
   ],
   "source": [
    "%%js\n",
    "var x = 5;\n",
    "var y = 6;\n",
    "var z = x + y;\n",
    "element.text(z)"
   ]
  },
  {
   "cell_type": "code",
   "execution_count": 7,
   "metadata": {},
   "outputs": [
    {
     "data": {
      "application/javascript": [
       "alert('hello')"
      ],
      "text/plain": [
       "<IPython.core.display.Javascript object>"
      ]
     },
     "metadata": {},
     "output_type": "display_data"
    }
   ],
   "source": [
    "from IPython.display import Javascript\n",
    "simjs = Javascript(\"alert('hello')\")\n",
    "display(simjs)"
   ]
  },
  {
   "cell_type": "code",
   "execution_count": 8,
   "metadata": {},
   "outputs": [
    {
     "data": {
      "application/javascript": [
       "\n",
       "var x = 5;\n",
       "var y = 6;\n",
       "var z = x + y;\n",
       "element.text(z)\n"
      ],
      "text/plain": [
       "<IPython.core.display.Javascript object>"
      ]
     },
     "metadata": {},
     "output_type": "display_data"
    }
   ],
   "source": [
    "js=\"\"\"\n",
    "var x = 5;\n",
    "var y = 6;\n",
    "var z = x + y;\n",
    "element.text(z)\n",
    "\"\"\"\n",
    "jsvar = Javascript(js)\n",
    "display(jsvar)"
   ]
  },
  {
   "cell_type": "code",
   "execution_count": 9,
   "metadata": {},
   "outputs": [
    {
     "data": {
      "application/javascript": [
       "\n",
       "var x = 5;\n",
       "var y = 7;\n",
       "var z = x + y;\n",
       "element.text(z)\n"
      ],
      "text/plain": [
       "<IPython.core.display.Javascript object>"
      ]
     },
     "metadata": {},
     "output_type": "display_data"
    }
   ],
   "source": [
    "js = Javascript(\n",
    "'''\n",
    "var x = 5;\n",
    "var y = 7;\n",
    "var z = x + y;\n",
    "element.text(z)\n",
    "''')\n",
    "display(js)"
   ]
  },
  {
   "cell_type": "code",
   "execution_count": 14,
   "metadata": {},
   "outputs": [
    {
     "data": {
      "application/javascript": [
       "function setup(){\n",
       "    var x = 5;\n",
       "    var y = 7;\n",
       "    var z = x + y;\n",
       "    element.text(z)\n",
       "}\n",
       "setup()\n"
      ],
      "text/plain": [
       "<IPython.core.display.Javascript object>"
      ]
     },
     "metadata": {},
     "output_type": "display_data"
    }
   ],
   "source": [
    "%%js\n",
    "var data = [];\n",
    "\n",
    "var m = 1;\n",
    "var b = 0;\n",
    "\n",
    "function setup(){\n",
    "    createCanvas(400, 400);\n",
    "    background(50);\n",
    "}\n",
    "function mousepressed(){\n",
    "    var x = map(mouseX, 0, width,  0 ,1);\n",
    "    var y = map(mouseY, 0, height, 1, 0);\n",
    "    var point = createVector(x, y);\n",
    "    data.push(point)\n",
    "}\n",
    "\n",
    "function line(){\n",
    "    var x1 = 0;\n",
    "    var x2 = 1;\n",
    "    var y1 = m * x1 + b;\n",
    "    var y2 = m * x2 + b;\n",
    "    \n",
    "    x1 = map(x1, 0, 1, 0, width);\n",
    "    y1 = map(y1, 0, 1, height, 0);\n",
    "    \n",
    "    x2 = map(x2, 0, 1, 0, width);\n",
    "    y2 = map(y2, 0, 1, height, 0);\n",
    "    stroke(255, 0 , 255);\n",
    "    line(x1, y1, x2, y2)\n",
    "}\n",
    "\n",
    "function draw(){\n",
    "    background(50)\n",
    "    for(var i = 0; i < data.length; i++){\n",
    "        var x = map(data[i].x, 0 , 1, 0, width);\n",
    "        var y = map(data[i].y, 0 , 1, height, 0);\n",
    "        fill(255);\n",
    "        stroke(255);\n",
    "        elipse(x, y 8, 8);\n",
    "    } \n",
    "}\n"
   ]
  },
  {
   "cell_type": "code",
   "execution_count": null,
   "metadata": {},
   "outputs": [],
   "source": []
  }
 ],
 "metadata": {
  "kernelspec": {
   "display_name": "Python 3",
   "language": "python",
   "name": "python3"
  },
  "language_info": {
   "codemirror_mode": {
    "name": "ipython",
    "version": 3
   },
   "file_extension": ".py",
   "mimetype": "text/x-python",
   "name": "python",
   "nbconvert_exporter": "python",
   "pygments_lexer": "ipython3",
   "version": "3.7.4"
  }
 },
 "nbformat": 4,
 "nbformat_minor": 4
}
