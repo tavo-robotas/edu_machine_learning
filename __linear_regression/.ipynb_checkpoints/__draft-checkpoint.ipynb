{
 "cells": [
  {
   "cell_type": "code",
   "execution_count": 2,
   "metadata": {},
   "outputs": [],
   "source": [
    "import numpy as np\n",
    "import matplotlib.pyplot as plt\n",
    "import quandl as qdl\n",
    "import pandas as pd\n",
    "\n",
    "from sklearn import preprocessing, model_selection\n",
    "from sklearn.tree import DecisionTreeRegressor\n",
    "from sklearn.linear_model import LinearRegression, SGDRegressor\n",
    "from sklearn.metrics import mean_absolute_error, mean_squared_error, r2_score\n",
    "\n",
    "plt.style.use('bmh')"
   ]
  },
  {
   "cell_type": "markdown",
   "metadata": {},
   "source": [
    "We do now know that learning the parameters of a prediction function and testing it on the same data is a methodological mistake. Our model that would just repeat the labels of the samples that it has just seen would have a perfect score but would fail to predict anything useful on unseen data. In few wors its called overfitting. So we manipulate our data according some rules to avoid this situation as much as we can in (supervised) machine learning. We hold out part of the available data as a test set"
   ]
  },
  {
   "cell_type": "markdown",
   "metadata": {},
   "source": []
  },
  {
   "cell_type": "code",
   "execution_count": 3,
   "metadata": {},
   "outputs": [
    {
     "ename": "NameError",
     "evalue": "name 'X' is not defined",
     "output_type": "error",
     "traceback": [
      "\u001b[1;31m---------------------------------------------------------------------------\u001b[0m",
      "\u001b[1;31mNameError\u001b[0m                                 Traceback (most recent call last)",
      "\u001b[1;32m<ipython-input-3-6dc7ea4b5d80>\u001b[0m in \u001b[0;36m<module>\u001b[1;34m\u001b[0m\n\u001b[1;32m----> 1\u001b[1;33m \u001b[0mX_train\u001b[0m\u001b[1;33m,\u001b[0m \u001b[0mX_test\u001b[0m\u001b[1;33m,\u001b[0m \u001b[0my_train\u001b[0m\u001b[1;33m,\u001b[0m \u001b[0my_test\u001b[0m \u001b[1;33m=\u001b[0m \u001b[0mmodel_selection\u001b[0m\u001b[1;33m.\u001b[0m\u001b[0mtrain_test_split\u001b[0m\u001b[1;33m(\u001b[0m\u001b[0mX\u001b[0m\u001b[1;33m,\u001b[0m \u001b[0my\u001b[0m\u001b[1;33m,\u001b[0m \u001b[0mtest_size\u001b[0m \u001b[1;33m=\u001b[0m \u001b[1;36m0.25\u001b[0m\u001b[1;33m)\u001b[0m\u001b[1;33m\u001b[0m\u001b[1;33m\u001b[0m\u001b[0m\n\u001b[0m\u001b[0;32m      2\u001b[0m \u001b[0mprint\u001b[0m\u001b[1;33m(\u001b[0m\u001b[1;34m'length of X_train and x_test: '\u001b[0m\u001b[1;33m,\u001b[0m \u001b[0mlen\u001b[0m\u001b[1;33m(\u001b[0m\u001b[0mX_train\u001b[0m\u001b[1;33m)\u001b[0m\u001b[1;33m,\u001b[0m \u001b[0mlen\u001b[0m\u001b[1;33m(\u001b[0m\u001b[0mX_test\u001b[0m\u001b[1;33m)\u001b[0m\u001b[1;33m)\u001b[0m\u001b[1;33m\u001b[0m\u001b[1;33m\u001b[0m\u001b[0m\n",
      "\u001b[1;31mNameError\u001b[0m: name 'X' is not defined"
     ]
    }
   ],
   "source": [
    "X_train, X_test, y_train, y_test = model_selection.train_test_split(X, y, test_size = 0.25)\n",
    "print('length of X_train and x_test: ', len(X_train), len(X_test))"
   ]
  },
  {
   "cell_type": "markdown",
   "metadata": {},
   "source": [
    "But wait, whats going in in <code>**train_test_split**</code> ? What we do know is that it splits provided X,y into two sizes data bathches. And we are interested in the train data set quality. But how to asses training data quality ? <code>**Randomness !**</code>"
   ]
  },
  {
   "cell_type": "code",
   "execution_count": 4,
   "metadata": {},
   "outputs": [],
   "source": [
    "X_a, y_a = np.arange(20).reshape((10, 2)), range(10)"
   ]
  },
  {
   "cell_type": "code",
   "execution_count": 5,
   "metadata": {},
   "outputs": [
    {
     "name": "stdout",
     "output_type": "stream",
     "text": [
      "X matrix:\n",
      "[[ 0  1]\n",
      " [ 2  3]\n",
      " [ 4  5]\n",
      " [ 6  7]\n",
      " [ 8  9]\n",
      " [10 11]\n",
      " [12 13]\n",
      " [14 15]\n",
      " [16 17]\n",
      " [18 19]]\n",
      "y vector:\n",
      "range(0, 10)\n"
     ]
    }
   ],
   "source": [
    "print(f'X matrix:\\n{X_a}')\n",
    "print(f'y vector:\\n{y_a}')"
   ]
  },
  {
   "cell_type": "code",
   "execution_count": 19,
   "metadata": {},
   "outputs": [
    {
     "name": "stdout",
     "output_type": "stream",
     "text": [
      "X train matrix:\n",
      "[[ 0  1]\n",
      " [ 2  3]\n",
      " [ 4  5]\n",
      " [ 6  7]\n",
      " [ 8  9]\n",
      " [10 11]\n",
      " [12 13]]\n",
      "y tain vector:\n",
      "[0, 1, 2, 3, 4, 5, 6]\n",
      "X test matrix:\n",
      "[[14 15]\n",
      " [16 17]\n",
      " [18 19]]\n",
      "y test vector:\n",
      "[7, 8, 9]\n"
     ]
    }
   ],
   "source": [
    "X_a_train, X_a_test, y_a_train, y_a_test = model_selection.train_test_split(X_a, y_a, shuffle=False)\n",
    "print(f'X train matrix:\\n{X_a_train}')\n",
    "print(f'y tain vector:\\n{y_a_train}')\n",
    "print(f'X test matrix:\\n{X_a_test}')\n",
    "print(f'y test vector:\\n{y_a_test}')"
   ]
  },
  {
   "cell_type": "markdown",
   "metadata": {},
   "source": [
    "Lets give to our split method a<code>**pseudo random generator**</code> with flag <code>**random_state**</code>\n",
    "This Controls the shuffling applied to the data before applying the split. <br>\n",
    "\n",
    "<code>**Watch:**</code><br>\n",
    "https://youtu.be/GtOt7EBNEwQ"
   ]
  },
  {
   "cell_type": "code",
   "execution_count": 17,
   "metadata": {},
   "outputs": [
    {
     "name": "stdout",
     "output_type": "stream",
     "text": [
      "X matrix:\n",
      "[[18 19]\n",
      " [ 2  3]\n",
      " [12 13]\n",
      " [14 15]\n",
      " [ 6  7]\n",
      " [ 0  1]\n",
      " [10 11]]\n",
      "y vector:\n",
      "[9, 1, 6, 7, 3, 0, 5]\n"
     ]
    }
   ],
   "source": [
    "X_a_train, X_a_test, y_a_train, y_a_test = model_selection.train_test_split(X_a, y_a, random_state=0)\n",
    "print(f'X matrix:\\n{X_a_train}')\n",
    "print(f'y vector:\\n{y_a_train}')"
   ]
  },
  {
   "cell_type": "code",
   "execution_count": null,
   "metadata": {},
   "outputs": [],
   "source": [
    "rnd = np.random.RandomState(seed=123)\n",
    "X = rnd.uniform(low=0.0, high=1.0, size=(3, 5))\n",
    "X"
   ]
  },
  {
   "cell_type": "code",
   "execution_count": null,
   "metadata": {},
   "outputs": [],
   "source": [
    "X[1, 0:]"
   ]
  },
  {
   "cell_type": "code",
   "execution_count": null,
   "metadata": {},
   "outputs": [],
   "source": [
    "y = np.linspace(0, 12, 5)\n",
    "y"
   ]
  },
  {
   "cell_type": "code",
   "execution_count": null,
   "metadata": {},
   "outputs": [],
   "source": [
    "y_vector = y[:, np.newaxis]"
   ]
  },
  {
   "cell_type": "code",
   "execution_count": null,
   "metadata": {},
   "outputs": [],
   "source": [
    "# DEAL WITH NAN\n",
    "df.dropna(inplace=True)\n",
    "# df.tail()\n",
    "#df.fillna(value=-99999, inplace=True)\n",
    "# df.tail(45)\n",
    "\n",
    "#df['prediction'].fillna(df['prediction'].mean(), inplace=True)\n",
    "#df.fillna(value=-99999, inplace=True)"
   ]
  },
  {
   "cell_type": "code",
   "execution_count": null,
   "metadata": {},
   "outputs": [],
   "source": [
    "size = int(volume.size/4)\n",
    "plt.hist(volume, bins=size, density=True)\n",
    "xt = plt.xticks()[0]  \n",
    "xmin, xmax = min(xt), max(xt)  \n",
    "space = np.linspace(xmin, xmax, len(volume))"
   ]
  },
  {
   "cell_type": "code",
   "execution_count": null,
   "metadata": {},
   "outputs": [],
   "source": []
  },
  {
   "cell_type": "code",
   "execution_count": null,
   "metadata": {},
   "outputs": [],
   "source": [
    "# from __linear_regression_X(test_prep_a)\n",
    "\n",
    "xexs  = X_test[0,:]\n",
    "theta = [-7.68383132, 0.78109191, 0.17592058]\n",
    "y = 118.46 + theta[0]*xexs[0] + theta[1]*xexs[1] + theta[2]*xexs[2]\n",
    "print(y)\n",
    "print(y_test[0])"
   ]
  }
 ],
 "metadata": {
  "kernelspec": {
   "display_name": "Python 3.7.4 32-bit",
   "language": "python",
   "name": "python37432bitc856d1d617f0478da8cbf97a005d9730"
  },
  "language_info": {
   "codemirror_mode": {
    "name": "ipython",
    "version": 3
   },
   "file_extension": ".py",
   "mimetype": "text/x-python",
   "name": "python",
   "nbconvert_exporter": "python",
   "pygments_lexer": "ipython3",
   "version": "3.7.4"
  }
 },
 "nbformat": 4,
 "nbformat_minor": 4
}
