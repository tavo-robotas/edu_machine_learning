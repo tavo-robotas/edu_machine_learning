{
 "cells": [
  {
   "cell_type": "markdown",
   "metadata": {},
   "source": [
    "# Linear regression IX\n",
    "\n",
    "## Polynomial regression III"
   ]
  },
  {
   "cell_type": "markdown",
   "metadata": {},
   "source": [
    "This is continuation of lecture [Polynomial model implementation](http://localhost:8888/notebooks/machine_learning/__linear_regression/__linear_regession_VI.ipynb) and [Metrics: RMSE, MAE, MSE, MAPE, MPE overview](http://localhost:8888/notebooks/machine_learning/__linear_regression/__linear_regression_VIII.ipynb)\n"
   ]
  },
  {
   "cell_type": "code",
   "execution_count": 1,
   "metadata": {},
   "outputs": [],
   "source": [
    "%matplotlib inline\n",
    "#%matplotlib notebook\n",
    "import sys\n",
    "import random\n",
    "import numpy as np\n",
    "import matplotlib.pyplot as plt\n",
    "from mpl_toolkits.mplot3d import Axes3D"
   ]
  },
  {
   "cell_type": "code",
   "execution_count": 22,
   "metadata": {},
   "outputs": [],
   "source": [
    "def generate_set(size):\n",
    "    return 6 * np.random.rand(size, 1) -2"
   ]
  },
  {
   "cell_type": "code",
   "execution_count": 23,
   "metadata": {},
   "outputs": [],
   "source": [
    "m = 50\n",
    "x = generate_set(m)"
   ]
  },
  {
   "cell_type": "code",
   "execution_count": 24,
   "metadata": {},
   "outputs": [],
   "source": [
    "noise =  np.random.randn(m, 1)"
   ]
  },
  {
   "cell_type": "code",
   "execution_count": 25,
   "metadata": {},
   "outputs": [],
   "source": [
    "theta = [0.7, 2]"
   ]
  },
  {
   "cell_type": "code",
   "execution_count": 26,
   "metadata": {
    "scrolled": true
   },
   "outputs": [],
   "source": [
    "# 1, q, b, q^2, qb, b^2\n",
    "y = theta[0]*x**2 - theta[1]*x + 3 + noise "
   ]
  },
  {
   "cell_type": "code",
   "execution_count": 27,
   "metadata": {},
   "outputs": [
    {
     "data": {
      "image/png": "[encoded data removed]",
      "text/plain": [
       "<Figure size 432x288 with 1 Axes>"
      ]
     },
     "metadata": {
      "needs_background": "light"
     },
     "output_type": "display_data"
    }
   ],
   "source": [
    "plt.plot(x, y, 'b+')\n",
    "plt.show()"
   ]
  },
  {
   "cell_type": "markdown",
   "metadata": {},
   "source": [
    "LinearRegression model method <code>**[fit()](https://scikit-learn.org/stable/modules/generated/sklearn.linear_model.LinearRegression.html#sklearn.linear_model.LinearRegression.fit)**</code> and <code>**[predict()](https://scikit-learn.org/stable/modules/generated/sklearn.linear_model.LinearRegression.html#sklearn.linear_model.LinearRegression.predict)**</code>"
   ]
  },
  {
   "cell_type": "code",
   "execution_count": 28,
   "metadata": {},
   "outputs": [],
   "source": [
    "from sklearn.linear_model import LinearRegression\n",
    "from sklearn.preprocessing import PolynomialFeatures\n",
    "from sklearn.model_selection import train_test_split\n",
    "from sklearn.metrics import r2_score, mean_squared_error"
   ]
  },
  {
   "cell_type": "code",
   "execution_count": 29,
   "metadata": {},
   "outputs": [
    {
     "name": "stdout",
     "output_type": "stream",
     "text": [
      "RMSE: 2.101\n",
      "R2:   0.223\n"
     ]
    },
    {
     "data": {
      "image/png": "[encoded data removed]",
      "text/plain": [
       "<Figure size 432x288 with 1 Axes>"
      ]
     },
     "metadata": {
      "needs_background": "light"
     },
     "output_type": "display_data"
    }
   ],
   "source": [
    "m = LinearRegression()\n",
    "m.fit(x, y)\n",
    "y_preds = m.predict(x)\n",
    "\n",
    "print(\n",
    "    f'RMSE: {np.sqrt(mean_squared_error(y, y_preds)):.3f}\\n' \n",
    "    f'R2:   {r2_score(y, y_preds):.3f}'\n",
    ")\n",
    "\n",
    "plt.plot(x, y, 'b+')\n",
    "plt.plot(x, y_preds, 'r-')\n",
    "plt.show()"
   ]
  },
  {
   "cell_type": "markdown",
   "metadata": {},
   "source": [
    "Lets discuss and implement \n",
    "<code>**[PolynomialFeatures()](https://scikit-learn.org/stable/modules/generated/sklearn.preprocessing.PolynomialFeatures.html)**</code> method and \n",
    "<code>**[fit_transform()](https://scikit-learn.org/stable/modules/generated/sklearn.preprocessing.PolynomialFeatures.html#sklearn.preprocessing.PolynomialFeatures.fit_transform)**</code> method \n",
    "\n",
    "PlynomialFeatures method will generate a new feature matrix consisting of all polynomial combinations of the features with degree less than or equal to the specified degree. "
   ]
  },
  {
   "cell_type": "code",
   "execution_count": 36,
   "metadata": {},
   "outputs": [
    {
     "name": "stdout",
     "output_type": "stream",
     "text": [
      "features we provide: [[2 4]] \n",
      "\n",
      "features that we get: [[ 1.  2.  4.  4.  8. 16.]]\n"
     ]
    }
   ],
   "source": [
    "A = np.array([\n",
    "    [2, 4]\n",
    "])\n",
    "\n",
    "# PolynomialFeatures default degree 2 \n",
    "poly = PolynomialFeatures()\n",
    "B = poly.fit_transform(A)\n",
    "\n",
    "print(f'features we provide: {A} \\n')\n",
    "print(f'features that we get: {B}')"
   ]
  },
  {
   "cell_type": "markdown",
   "metadata": {},
   "source": [
    "features <code>**[q, b]**</code> of the 2° polynomial features are going to be <code>**[1, q, b, q^2, qb, b^2]**</code>"
   ]
  },
  {
   "cell_type": "code",
   "execution_count": 37,
   "metadata": {},
   "outputs": [
    {
     "name": "stdout",
     "output_type": "stream",
     "text": [
      "[[1. 2. 4. 8.]]\n"
     ]
    }
   ],
   "source": [
    "poly = PolynomialFeatures(degree=4, interaction_only=True)\n",
    "C = poly.fit_transform(A)\n",
    "print(C)"
   ]
  },
  {
   "cell_type": "markdown",
   "metadata": {},
   "source": [
    "<code>**interaction_only**</code> thats a topic for <code>**Feature Interaction**</code>.<br>\n",
    "If a model makes a prediction based on 2 features, we can decompose the prediction into 4 terms:\n",
    "\n",
    " - a constant term, \n",
    " - a term for the first feature, \n",
    " - a term for the second feature and\n",
    " - a term for the interaction between the two features.\n",
    " \n",
    "The interaction between two features is the change in the prediction that occurs by varying the features after considering the individual feature effects."
   ]
  },
  {
   "cell_type": "markdown",
   "metadata": {},
   "source": [
    "<code>**include_bias**</code> thats our extra column that corresponds for extra feature x_0 that always take value of 1, recap from lecture [__linear_regession_V - Computing parameters analytically](http://localhost:8888/notebooks/machine_learning/__linear_regression/__linear_regession_V.ipynb)"
   ]
  },
  {
   "cell_type": "markdown",
   "metadata": {},
   "source": [
    "All polynomial powers are zero and that is equal to 1"
   ]
  },
  {
   "cell_type": "code",
   "execution_count": 38,
   "metadata": {},
   "outputs": [
    {
     "data": {
      "text/plain": [
       "array([[2., 4., 8.]])"
      ]
     },
     "execution_count": 38,
     "metadata": {},
     "output_type": "execute_result"
    }
   ],
   "source": [
    "poly = PolynomialFeatures(interaction_only=True, include_bias=False)\n",
    "poly.fit_transform(A)"
   ]
  },
  {
   "cell_type": "markdown",
   "metadata": {},
   "source": [
    "Some of the attributes we are provided with"
   ]
  },
  {
   "cell_type": "code",
   "execution_count": 39,
   "metadata": {},
   "outputs": [
    {
     "name": "stdout",
     "output_type": "stream",
     "text": [
      "no of features we gave: 2\n",
      "\n",
      "how many features returned: 6\n"
     ]
    }
   ],
   "source": [
    "poly = PolynomialFeatures()\n",
    "poly.fit_transform(A)\n",
    "\n",
    "# print(f'{poly.powers_}\\n')\n",
    "print(f'no of features we gave: {poly.n_input_features_}\\n')\n",
    "print(f'how many features returned: {poly.n_output_features_}')"
   ]
  },
  {
   "cell_type": "code",
   "execution_count": 47,
   "metadata": {},
   "outputs": [
    {
     "name": "stdout",
     "output_type": "stream",
     "text": [
      "polynomials sample:\n",
      " [1.         2.06879901 4.27992936]\n",
      "features sample:\n",
      " [2.06879901]\n",
      "\n"
     ]
    }
   ],
   "source": [
    "x_polynomial = PolynomialFeatures().fit_transform(x)\n",
    "\n",
    "print(\n",
    "    f'polynomials sample:\\n {x_polynomial[10]}\\n' \n",
    "    f'features sample:\\n {x[10]}\\n'\n",
    ")"
   ]
  },
  {
   "cell_type": "code",
   "execution_count": 49,
   "metadata": {},
   "outputs": [
    {
     "name": "stdout",
     "output_type": "stream",
     "text": [
      "RMSE: 0.916\n",
      "R2:   0.852\n"
     ]
    },
    {
     "data": {
      "image/png": "[encoded data removed]",
      "text/plain": [
       "<Figure size 432x288 with 1 Axes>"
      ]
     },
     "metadata": {
      "needs_background": "light"
     },
     "output_type": "display_data"
    }
   ],
   "source": [
    "model = LinearRegression()\n",
    "model.fit(x_polynomial, y)\n",
    "    \n",
    "y_predictions = model.predict(x_polynomial)\n",
    "\n",
    "print(\n",
    "    f'RMSE: {np.sqrt(mean_squared_error(y, y_predictions)):.3f}\\n' \n",
    "    f'R2:   {r2_score(y, y_predictions):.3f}'\n",
    ")\n",
    "\n",
    "plt.plot(x, y, 'b+')\n",
    "plt.plot(sorted(x[:, 0]), y_predictions[np.argsort(x[:, 0])], 'r')\n",
    "plt.show()"
   ]
  },
  {
   "cell_type": "markdown",
   "metadata": {},
   "source": [
    "The performance boost is evident in both the performance metrics – <code>**RMSE**</code> has decreased and <code>**R2**</code> score has increased.<br>\n",
    "\n",
    "SM:<br>\n",
    "<code>**RMSE: 2.101**</code><br>\n",
    "<code>**R2:   0.223**</code>\n",
    "---------------\n",
    "PM:<br>\n",
    "<code>**RMSE: 0.916**</code><br>\n",
    "<code>**R2:   0.852**</code>\n",
    "\n",
    "The same thing is evident in the plot. Let’s take a few higher degree of polynomial features    2, 4, 8, 16, 32"
   ]
  },
  {
   "cell_type": "code",
   "execution_count": 50,
   "metadata": {},
   "outputs": [
    {
     "name": "stdout",
     "output_type": "stream",
     "text": [
      "Degree: 2\n",
      "RMSE:   0.916\n",
      "R2:     0.852\n",
      "-------------\n",
      "Degree: 4\n",
      "RMSE:   0.910\n",
      "R2:     0.854\n",
      "-------------\n",
      "Degree: 8\n",
      "RMSE:   0.879\n",
      "R2:     0.864\n",
      "-------------\n",
      "Degree: 16\n",
      "RMSE:   0.726\n",
      "R2:     0.907\n",
      "-------------\n",
      "Degree: 32\n",
      "RMSE:   1.258\n",
      "R2:     0.721\n",
      "-------------\n"
     ]
    },
    {
     "data": {
      "image/png": "[encoded data removed]",
      "text/plain": [
       "<Figure size 648x432 with 1 Axes>"
      ]
     },
     "metadata": {
      "needs_background": "light"
     },
     "output_type": "display_data"
    }
   ],
   "source": [
    "#%matplotlib notebook\n",
    "def get_preds(x, y, degree):\n",
    "    poly_feats = PolynomialFeatures(degree=degree, include_bias=False)\n",
    "    x_poly = poly_feats.fit_transform(x)\n",
    "    lr = LinearRegression()\n",
    "    lr.fit(x_poly, y)\n",
    "    return lr.predict(x_poly)\n",
    "\n",
    "degrees = [2,   4,   8,   16,   32]\n",
    "colors      = ['r', 'g', 'c', 'y', 'k']\n",
    "\n",
    "plt.figure(figsize=(9, 6))\n",
    "plt.plot(x, y, 'b+',)\n",
    "\n",
    "for degree, c in zip(degrees, colors):\n",
    "    y_preds = get_preds(x, y, degree)\n",
    "    plt.plot(\n",
    "        sorted(x[:, 0]), \n",
    "        y_preds[np.argsort(x[:, 0])],\n",
    "        c, \n",
    "        label='Degree: {}'.format(degree)\n",
    "    )\n",
    "    \n",
    "    print(\n",
    "    f'Degree: {degree}\\n' \n",
    "    f'RMSE:   {np.sqrt(mean_squared_error(y, y_preds)):.3f}\\n' \n",
    "    f'R2:     {r2_score(y, y_preds):.3f}'\n",
    "    '\\n''-------------'\n",
    ")\n",
    "\n",
    "plt.legend()\n",
    "plt.show()"
   ]
  },
  {
   "cell_type": "markdown",
   "metadata": {},
   "source": [
    "Our model complexity was increased by the degree of polynomial features. We went from a bad model of degree 1, which has high bias <code>**underfits**</code>, to quite good model (degree 2) and then to another bad models (degree 16 or 32), which has high variance <code>**overfits**</code>. Thus we hurt performance and we need to make sure that with increased complexity we stays on sane levels of performance<br>\n",
    "\n",
    "To get good generalization capabilities that perform well on unseen data we will work with learning curves to peek into performance metrics."
   ]
  },
  {
   "cell_type": "markdown",
   "metadata": {},
   "source": [
    "We can utilitze <code>**[sklearn pipeline module](https://scikit-learn.org/stable/modules/generated/sklearn.pipeline.Pipeline.html)**</code> for <code>**PolynomialFeatures and LinearRegression**</code> to group them into one single entity and perform in conjunction to each other"
   ]
  },
  {
   "cell_type": "code",
   "execution_count": 55,
   "metadata": {},
   "outputs": [],
   "source": [
    "from sklearn.pipeline import Pipeline"
   ]
  },
  {
   "cell_type": "code",
   "execution_count": 64,
   "metadata": {},
   "outputs": [
    {
     "data": {
      "image/png": "[encoded data removed]",
      "text/plain": [
       "<Figure size 432x288 with 1 Axes>"
      ]
     },
     "metadata": {
      "needs_background": "light"
     },
     "output_type": "display_data"
    }
   ],
   "source": [
    "model = Pipeline([\n",
    "    ('poly_features', PolynomialFeatures(degree=4, include_bias=False)),\n",
    "    ('lr', LinearRegression())\n",
    "])\n",
    "\n",
    "model.fit(x, y)\n",
    "y_pred = model.predict(x)\n",
    "\n",
    "plt.plot(x, y, 'b+', )\n",
    "plt.plot(sorted(x[:, 0]), y_pred[np.argsort(x[:, 0])], 'r')\n",
    "plt.show()"
   ]
  },
  {
   "cell_type": "markdown",
   "metadata": {},
   "source": [
    "## Metrics and learning curves\n",
    "\n",
    "Training and testing(a.k.a validation) loss"
   ]
  },
  {
   "cell_type": "code",
   "execution_count": 65,
   "metadata": {},
   "outputs": [
    {
     "data": {
      "image/png": "[encoded data removed]",
      "text/plain": [
       "<Figure size 1008x432 with 1 Axes>"
      ]
     },
     "metadata": {
      "needs_background": "light"
     },
     "output_type": "display_data"
    }
   ],
   "source": [
    "#%matplotlib notebook\n",
    "%matplotlib inline\n",
    "def plot_lcs(model, X, Y, split=0.2, metrics=mean_squared_error):\n",
    "    \n",
    "    x_train, x_test, y_train, y_test = train_test_split(X, Y, test_size=split)\n",
    "    \n",
    "    # collections of errors:\n",
    "    train_time_loss, test_time_loss = [], []\n",
    "    \n",
    "    # iterating over train size:\n",
    "    for train_size in range(1, len(x_train)):\n",
    "        # training\n",
    "        model.fit(x_train[:train_size], y_train[:train_size])\n",
    "        \n",
    "        # train and val predictions\n",
    "        train_preds = model.predict(x_train[:train_size])\n",
    "        test_preds = model.predict(x_test)\n",
    "        \n",
    "        # metrics calculation\n",
    "        train_time_loss.append(np.sqrt(metrics(y_train[:train_size], train_preds)))\n",
    "        test_time_loss.append(np.sqrt((metrics(y_test, test_preds))))\n",
    "        \n",
    "    # plotting curves\n",
    "    plt.plot(np.sqrt(train_time_loss), 'r-*', label='Train loss')\n",
    "    plt.plot(np.sqrt(test_time_loss), 'b-+', label='Test loss')\n",
    "    plt.ylabel('RMSE')\n",
    "    plt.xlabel('Training Set Size')\n",
    "\n",
    "plt.figure(figsize=(14, 6))\n",
    "plot_lcs(model, x, y)\n",
    "plt.legend()\n",
    "plt.show()"
   ]
  },
  {
   "cell_type": "markdown",
   "metadata": {},
   "source": [
    "Trying it with a model having polynomial features of degree 12 and lets see results."
   ]
  },
  {
   "cell_type": "markdown",
   "metadata": {},
   "source": [
    "Gap between <code>**testing loss**</code> curve and the <code>**training loss**</code> curve has increased. Along with this, its noticible that the loss for training set is much more lower than the test(a.k.a validation) set. These two generally are the symptoms of a high variance problem. It  displays that the model is <code>**overfitting the training data**</code> thereby performing poorly on new unseen data.\n",
    "\n",
    "The main take away question is :\n",
    "* 1 ) Are  there features in higher degree polynomials that are better describing our predictions than the features used in lower degree polynomials? \n",
    "\n",
    "* 2 ) And is there a way to regularize the overfitting aspect of a higher degree polynomial regression? "
   ]
  },
  {
   "cell_type": "markdown",
   "metadata": {},
   "source": [
    "## Regularization \n",
    "\n",
    "We went quite far and we really made our models complex, to complex in certain cases. And this led us to an issue where complexity made the model overfit the training data we will deal with that in the topic of [Regularization](./__X_Regularization.ipynb)"
   ]
  }
 ],
 "metadata": {
  "kernelspec": {
   "display_name": "Python 3.7.4 32-bit",
   "language": "python",
   "name": "python37432bitc856d1d617f0478da8cbf97a005d9730"
  },
  "language_info": {
   "codemirror_mode": {
    "name": "ipython",
    "version": 3
   },
   "file_extension": ".py",
   "mimetype": "text/x-python",
   "name": "python",
   "nbconvert_exporter": "python",
   "pygments_lexer": "ipython3",
   "version": "3.7.4"
  }
 },
 "nbformat": 4,
 "nbformat_minor": 4
}
