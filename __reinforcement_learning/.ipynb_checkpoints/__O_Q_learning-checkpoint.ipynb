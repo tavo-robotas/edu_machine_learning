{
 "cells": [
  {
   "cell_type": "code",
   "execution_count": 5,
   "metadata": {},
   "outputs": [],
   "source": [
    "import gym\n",
    "import numpy as np\n",
    "import matplotlib.pyplot as plt"
   ]
  },
  {
   "cell_type": "code",
   "execution_count": 6,
   "metadata": {},
   "outputs": [
    {
     "data": {
      "text/plain": [
       "array([-0.5063934,  0.       ], dtype=float32)"
      ]
     },
     "execution_count": 6,
     "metadata": {},
     "output_type": "execute_result"
    }
   ],
   "source": [
    "env = gym.make(\"MountainCar-v0\")\n",
    "env.reset()"
   ]
  },
  {
   "cell_type": "code",
   "execution_count": 7,
   "metadata": {},
   "outputs": [
    {
     "name": "stdout",
     "output_type": "stream",
     "text": [
      "[0.6  0.07]\n",
      "[-1.2  -0.07]\n",
      "3\n"
     ]
    }
   ],
   "source": [
    "print(env.observation_space.high)\n",
    "print(env.observation_space.low)\n",
    "print(env.action_space.n)"
   ]
  },
  {
   "cell_type": "code",
   "execution_count": 8,
   "metadata": {},
   "outputs": [],
   "source": [
    "DISCRETE_OS_SIZE = [20] * len(env.observation_space.high)"
   ]
  },
  {
   "cell_type": "code",
   "execution_count": 9,
   "metadata": {},
   "outputs": [
    {
     "data": {
      "text/plain": [
       "[20, 20]"
      ]
     },
     "execution_count": 9,
     "metadata": {},
     "output_type": "execute_result"
    }
   ],
   "source": [
    "DISCRETE_OS_SIZE"
   ]
  },
  {
   "cell_type": "code",
   "execution_count": 10,
   "metadata": {},
   "outputs": [],
   "source": [
    "discrete_os_win_size = (env.observation_space.high - env.observation_space.low) / DISCRETE_OS_SIZE\n",
    "#print(discrete_os_win_size)"
   ]
  },
  {
   "cell_type": "code",
   "execution_count": 11,
   "metadata": {},
   "outputs": [],
   "source": [
    "EPSILON             = 0.5\n",
    "LEARNING_RATE       = 0.1\n",
    "DISCOUNT_FACTOR     = 0.95\n",
    "EPISODES            = 2000\n",
    "MOMENT              = 500\n",
    "START_EPSILON_DECAY = 1\n",
    "END_EPSILON_DECAY   = EPISODES // 2\n",
    "EPSILON_DECAY_VALUE = EPSILON / (END_EPSILON_DECAY - START_EPSILON_DECAY)"
   ]
  },
  {
   "cell_type": "code",
   "execution_count": 12,
   "metadata": {},
   "outputs": [],
   "source": [
    "q_table = np.random.uniform(low=-2, high=0, size=(DISCRETE_OS_SIZE+ [env.action_space.n]))"
   ]
  },
  {
   "cell_type": "code",
   "execution_count": 13,
   "metadata": {},
   "outputs": [],
   "source": [
    "episodes_rewards = []\n",
    "aggregate_rewards = {\n",
    "    'ep':  [], \n",
    "    'avg': [], \n",
    "    'min': [], \n",
    "    'max': []\n",
    "} "
   ]
  },
  {
   "cell_type": "code",
   "execution_count": 14,
   "metadata": {},
   "outputs": [],
   "source": [
    "def get_discrete_state(state):\n",
    "    discrete_state = (state - env.observation_space.low) / discrete_os_win_size\n",
    "    return tuple(discrete_state.astype(np.int))"
   ]
  },
  {
   "cell_type": "code",
   "execution_count": 10,
   "metadata": {},
   "outputs": [],
   "source": [
    "# discrete_state = get_discrete_state(env.reset())\n",
    "# print(discrete_state)\n",
    "# print(np.argmax(q_table[discrete_state]))"
   ]
  },
  {
   "cell_type": "code",
   "execution_count": null,
   "metadata": {},
   "outputs": [
    {
     "name": "stdout",
     "output_type": "stream",
     "text": [
      "episode:0, avg:-200.0, min:-200.0, max:-200.0\n",
      "1\n",
      "2\n",
      "3\n",
      "4\n",
      "5\n",
      "6\n",
      "7\n",
      "8\n",
      "9\n",
      "10\n",
      "11\n",
      "12\n",
      "13\n",
      "14\n",
      "15\n",
      "16\n",
      "17\n"
     ]
    }
   ],
   "source": [
    "for episode in range(EPISODES):\n",
    "    episode_reward = 0\n",
    "    if episode % MOMENT == 0:\n",
    "        print(episode)\n",
    "        render = True\n",
    "    else:\n",
    "        render = False\n",
    "        \n",
    "    discrete_state = get_discrete_state(env.reset())\n",
    "    done = False\n",
    "    while not done:\n",
    "        if np.random.random() > EPSILON:\n",
    "            action = np.argmax(q_table[discrete_state])\n",
    "        else:\n",
    "            action = np.random.randint(0, env.action_space.n)\n",
    "            \n",
    "        new_state, reward, done, _ = env.step(action)\n",
    "        episode_reward += reward\n",
    "        new_discrete_state = get_discrete_state(new_state)\n",
    "        if render:\n",
    "            env.render()\n",
    "        if not done:\n",
    "            max_future_q = np.max(q_table[new_discrete_state])\n",
    "            current_q    = q_table[discrete_state + (action, )]     \n",
    "            new_q = (1 - LEARNING_RATE) * current_q + LEARNING_RATE * (reward + DISCOUNT_FACTOR * max_future_q)\n",
    "            q_table[discrete_state + (action,)] = new_q\n",
    "        elif new_state[0] >= env.goal_position:\n",
    "            print(f\"we made it on episode: {episode}\")\n",
    "            q_table[discrete_state + (action,)] = 0\n",
    "\n",
    "        discrete_state = new_discrete_state\n",
    "    \n",
    "    if END_EPSILON_DECAY >= episode >= START_EPSILON_DECAY:\n",
    "        EPSILON -= EPSILON_DECAY_VALUE\n",
    "    \n",
    "    episodes_rewards.append(episode_reward)\n",
    "\n",
    "    if not episode % MOMENT:\n",
    "            current = episodes_rewards[-MOMENT:]\n",
    "            min_current = min(current)\n",
    "            max_current = max(current)\n",
    "            avg_current = sum(current) / len(current)\n",
    "            aggregate_rewards['ep'].append(episode)\n",
    "            aggregate_rewards['avg'].append(avg_current)\n",
    "            aggregate_rewards['min'].append(min_current)\n",
    "            aggregate_rewards['max'].append(max_current)\n",
    "            \n",
    "            print(f\"episode:{episode}, avg:{avg_current}, min:{min_current}, max:{max_current}\")\n",
    "            \n",
    "env.close()\n",
    "\n",
    "plt.plot(aggregate_rewards['ep'],aggregate_rewards['avg'], label=\"avg\")\n",
    "plt.plot(aggregate_rewards['ep'],aggregate_rewards['min'], label=\"min\")\n",
    "plt.plot(aggregate_rewards['ep'],aggregate_rewards['max'], label=\"max\")\n",
    "plt.legend(loc=4)\n",
    "plt.show();"
   ]
  },
  {
   "cell_type": "code",
   "execution_count": null,
   "metadata": {},
   "outputs": [],
   "source": []
  }
 ],
 "metadata": {
  "kernelspec": {
   "display_name": "Python 3.7.4 32-bit",
   "language": "python",
   "name": "python37432bitc856d1d617f0478da8cbf97a005d9730"
  },
  "language_info": {
   "codemirror_mode": {
    "name": "ipython",
    "version": 3
   },
   "file_extension": ".py",
   "mimetype": "text/x-python",
   "name": "python",
   "nbconvert_exporter": "python",
   "pygments_lexer": "ipython3",
   "version": "3.7.4"
  }
 },
 "nbformat": 4,
 "nbformat_minor": 4
}
